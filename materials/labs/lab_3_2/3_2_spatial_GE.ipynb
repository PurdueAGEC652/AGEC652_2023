{
 "cells": [
  {
   "cell_type": "markdown",
   "id": "948e2dab-f7f3-43ba-939b-1e5df761c0c2",
   "metadata": {
    "slideshow": {
     "slide_type": "slide"
    },
    "tags": []
   },
   "source": [
    "*AGEC 652 - Spring 2023*\n",
    "\n",
    "*Unit 3.2 - Nonlinear equations*\n",
    "\n",
    "# Solving a spatial general equilibrium model in Julia"
   ]
  },
  {
   "cell_type": "markdown",
   "id": "31ec81ad-0f33-4aaa-91a4-7f3debdd696b",
   "metadata": {
    "slideshow": {
     "slide_type": "slide"
    },
    "tags": []
   },
   "source": [
    "In this exercise, we will solve a 2-country example of the general model from the slides. This will be an opportunity to use many of the ideas we saw in this unit.\n",
    "\n",
    "## Setting\n",
    "### Demand and supply\n",
    "There are two countries $i \\in {1,2}$ and a single commodity. Both countries have an isoelastic demand given by\n",
    "$$D_i(p_i) = \\alpha p_i^{\\eta_i}$$\n",
    "and isolastic supply given by\n",
    "$$S_i(p_i) = \\beta p_i^{\\rho_i}$$"
   ]
  },
  {
   "cell_type": "markdown",
   "id": "e28f9382-a767-4158-a00d-7099bac3bdcc",
   "metadata": {
    "slideshow": {
     "slide_type": "slide"
    },
    "tags": []
   },
   "source": [
    "In this exercise, our model parameters are\n",
    "$$\\alpha_1 = 5, \\alpha_2 = 3 \\\\\n",
    "\\beta_1 = 2, \\beta_2 = 6 \\\\\n",
    "\\eta_1 = 1.2, \\eta_2 = 1.5 \\\\\n",
    "\\rho_1 = 1.6, \\rho_2 = 1.2$$"
   ]
  },
  {
   "cell_type": "code",
   "execution_count": 1,
   "id": "2eb15631-c5bd-423d-a17d-04a0f14adfd8",
   "metadata": {
    "tags": []
   },
   "outputs": [],
   "source": [
    "# Model paremeters\n",
    "α = [5.0; 3.0];\n",
    "β = [2.0; 6.0];\n",
    "η = [1.2; 1.5];\n",
    "ρ = [1.6; 1.2];"
   ]
  },
  {
   "cell_type": "markdown",
   "id": "ec7b9cd1-eb43-4335-865f-953765e3930a",
   "metadata": {
    "slideshow": {
     "slide_type": "slide"
    },
    "tags": []
   },
   "source": [
    "### Trade frictions\n",
    "Trade between countries incur in symmetric transportation costs $c_{12} = c_{21} = 0.2$.\n",
    "\n",
    "Moreover, transportation capacity is limited and the maximum amount of trade flow in any direction is $b = 1.5$. Of course, trade flows are non-negative.\n",
    "\n",
    "### Problem\n",
    "We want to find the market equilibrium given by $q_1, q_2, p_1, p_2$ such that both markets clear.\n",
    "\n",
    "**This exercise:** We will start with the simplest version of the model and add elements until solve the whole problem."
   ]
  },
  {
   "cell_type": "markdown",
   "id": "58dcd1cd-be8f-42a2-b766-4122fa97fcb2",
   "metadata": {
    "slideshow": {
     "slide_type": "slide"
    },
    "tags": []
   },
   "source": [
    "## Step 1: No trade\n",
    "\n",
    "**Q: How do we solve the model when there is no trade (i.e., autarky)?**\n",
    "\n",
    "(This is the equivalent to assuming $c_{12} = c_{21} = \\infty$)"
   ]
  },
  {
   "cell_type": "raw",
   "id": "fd46c0fa-06d2-4aae-bed7-4887d26343d6",
   "metadata": {
    "slideshow": {
     "slide_type": "skip"
    },
    "tags": []
   },
   "source": [
    "|\n",
    "|\n",
    "|\n",
    "|\n",
    "|\n",
    "|\n",
    "|\n",
    "|\n",
    "|\n",
    "|"
   ]
  },
  {
   "cell_type": "markdown",
   "id": "154dafc9-e9d8-4c3e-9169-657d5dc6c3ec",
   "metadata": {
    "slideshow": {
     "slide_type": "slide"
    },
    "tags": []
   },
   "source": [
    "A: We just need to solve two separate problems of $D_i(p_i) = S_i(p_i)$\n",
    "\n",
    "Following the slides, it'll be easier to define a single excess demand function given by \n",
    "$$E_i(p_i) \\equiv D_i(p_i) - S_i(p_i) = \\alpha p_i^{\\eta_i} - \\beta p_i^{\\rho_i}$$"
   ]
  },
  {
   "cell_type": "markdown",
   "id": "5b5994b8-848b-499b-9490-b85a2042479b",
   "metadata": {},
   "source": [
    "Let's define this as a vector function and test run it."
   ]
  },
  {
   "cell_type": "code",
   "execution_count": 2,
   "id": "9239735e-e3fe-49e5-b671-ec067a019b71",
   "metadata": {
    "slideshow": {
     "slide_type": "slide"
    },
    "tags": []
   },
   "outputs": [
    {
     "data": {
      "text/plain": [
       "2-element Vector{Float64}:\n",
       " 10.827229594583901\n",
       "  5.873629684350199"
      ]
     },
     "execution_count": 2,
     "metadata": {},
     "output_type": "execute_result"
    }
   ],
   "source": [
    "E(p) = α .* p.^(-η) - β .* p.^(ρ);\n",
    "E([0.5; 0.5])  "
   ]
  },
  {
   "cell_type": "markdown",
   "id": "f8247399-1a2d-42b2-842f-6edf4aba400a",
   "metadata": {
    "slideshow": {
     "slide_type": "slide"
    },
    "tags": []
   },
   "source": [
    "So, to solve the no-trade version of the model, we need to find vector $(p_1, p_2)$ that solves $E_1(p_1) = 0$ and $E_2(p_2) = 0$.\n",
    "\n",
    "#### YOUR TURN: solve the no-trade model using NLsolve.nlsolve and calculate $p$ and $E$ for each country.\n",
    "\n",
    "(By the way: can you solve it analytically?)"
   ]
  },
  {
   "cell_type": "raw",
   "id": "8175d2f8-4b5d-4c85-a003-f930129da653",
   "metadata": {
    "slideshow": {
     "slide_type": "skip"
    },
    "tags": []
   },
   "source": [
    "|\n",
    "|\n",
    "|\n",
    "|\n",
    "|\n",
    "|\n",
    "|\n",
    "|\n",
    "|\n",
    "|"
   ]
  },
  {
   "cell_type": "code",
   "execution_count": 3,
   "id": "8c53a838-7193-4c95-a3be-a8097491b6e5",
   "metadata": {
    "slideshow": {
     "slide_type": "slide"
    },
    "tags": []
   },
   "outputs": [
    {
     "data": {
      "text/plain": [
       "Results of Nonlinear Solver Algorithm\n",
       " * Algorithm: Newton with line-search\n",
       " * Starting Point: [0.5, 0.5]\n",
       " * Zero: [1.3871436293699804, 0.7735838759133007]\n",
       " * Inf-norm of residuals: 0.000000\n",
       " * Iterations: 5\n",
       " * Convergence: true\n",
       "   * |x - x'| < 0.0e+00: false\n",
       "   * |f(x)| < 1.0e-08: true\n",
       " * Function Calls (f): 6\n",
       " * Jacobian Calls (df/dx): 6"
      ]
     },
     "execution_count": 3,
     "metadata": {},
     "output_type": "execute_result"
    }
   ],
   "source": [
    "using NLsolve;\n",
    "no_trade_results = NLsolve.nlsolve(E, [0.5; 0.5], method=:newton)"
   ]
  },
  {
   "cell_type": "markdown",
   "id": "6a436fe9-9e61-4887-8df3-519263811947",
   "metadata": {
    "slideshow": {
     "slide_type": "slide"
    },
    "tags": []
   },
   "source": [
    "We can get the price"
   ]
  },
  {
   "cell_type": "code",
   "execution_count": 4,
   "id": "77d21eee-bfdd-4bd7-8639-556348f22d6f",
   "metadata": {},
   "outputs": [
    {
     "data": {
      "text/plain": [
       "2-element Vector{Float64}:\n",
       " 1.3871436293699804\n",
       " 0.7735838759133007"
      ]
     },
     "execution_count": 4,
     "metadata": {},
     "output_type": "execute_result"
    }
   ],
   "source": [
    "no_trade_p = no_trade_results.zero"
   ]
  },
  {
   "cell_type": "markdown",
   "id": "92a86ed5-dd2c-4ad9-afe7-87a5f51fac3f",
   "metadata": {},
   "source": [
    "So country 1 has a higher price and there are potential gains from trade.\n",
    "\n",
    "We can check excess demand to see if this is indeed a valid solution."
   ]
  },
  {
   "cell_type": "code",
   "execution_count": 5,
   "id": "d89bfbe4-8040-4b70-b0bf-9c4ad8ab6d73",
   "metadata": {},
   "outputs": [
    {
     "data": {
      "text/plain": [
       "2-element Vector{Float64}:\n",
       " 3.6921576906934206e-11\n",
       " 0.0"
      ]
     },
     "execution_count": 5,
     "metadata": {},
     "output_type": "execute_result"
    }
   ],
   "source": [
    "no_trade_E = E(no_trade_p)"
   ]
  },
  {
   "cell_type": "markdown",
   "id": "bf6c11c3-4127-4b4a-920d-0a8529f7de5a",
   "metadata": {
    "slideshow": {
     "slide_type": "slide"
    },
    "tags": []
   },
   "source": [
    "## Step 2: integrated economies with no trade frictions\n",
    "\n",
    "Now we go a step further and assume both countries can trade freely and without any transportation costs (i.e., we assume $c_{12} = c_{21} = 0$) and no trade flow constraints.\n",
    "\n",
    "**Q: How do we solve the model with fully integrated economies without trade frictions?**"
   ]
  },
  {
   "cell_type": "raw",
   "id": "b2c73701-a57d-4f09-b6cc-e3d31c8456b8",
   "metadata": {
    "slideshow": {
     "slide_type": "skip"
    },
    "tags": []
   },
   "source": [
    "|\n",
    "|\n",
    "|\n",
    "|\n",
    "|\n",
    "|\n",
    "|\n",
    "|\n",
    "|\n",
    "|"
   ]
  },
  {
   "cell_type": "markdown",
   "id": "e9dd8153-e01c-4d12-ab54-7db4b1fd423c",
   "metadata": {
    "slideshow": {
     "slide_type": "slide"
    },
    "tags": []
   },
   "source": [
    "Without trade frictions, an equilibrium with fully integrated economies will be just like the case when they are the same country. Hence, the law of one price will hold: there is a single price that clears the joint market.\n",
    "$$ E_1(p) + E_2(p) = 0$$\n",
    "\n",
    "#### YOUR TURN: solve the no-trade-friction model using NLsolve.nlsolve and calculate $p$ and $E$ for each country."
   ]
  },
  {
   "cell_type": "raw",
   "id": "fdd4fa21-6cb1-4fe0-9a8c-9a2109a5701e",
   "metadata": {
    "slideshow": {
     "slide_type": "skip"
    },
    "tags": []
   },
   "source": [
    "|\n",
    "|\n",
    "|\n",
    "|\n",
    "|\n",
    "|\n",
    "|\n",
    "|\n",
    "|\n",
    "|"
   ]
  },
  {
   "cell_type": "markdown",
   "id": "9f9c14ac-d0f1-44c0-94ed-643f292ae965",
   "metadata": {
    "slideshow": {
     "slide_type": "slide"
    },
    "tags": []
   },
   "source": [
    "All we have to do is define $f(p) = E_1(p) + E_2(p)$ and pass it to `nlsolve`."
   ]
  },
  {
   "cell_type": "code",
   "execution_count": 6,
   "id": "283a39ff-2cea-48cf-86fc-700224297144",
   "metadata": {},
   "outputs": [
    {
     "data": {
      "text/plain": [
       "Results of Nonlinear Solver Algorithm\n",
       " * Algorithm: Newton with line-search\n",
       " * Starting Point: [0.9]\n",
       " * Zero: [0.9999999998477678]\n",
       " * Inf-norm of residuals: 0.000000\n",
       " * Iterations: 3\n",
       " * Convergence: true\n",
       "   * |x - x'| < 0.0e+00: false\n",
       "   * |f(x)| < 1.0e-08: true\n",
       " * Function Calls (f): 4\n",
       " * Jacobian Calls (df/dx): 4"
      ]
     },
     "execution_count": 6,
     "metadata": {},
     "output_type": "execute_result"
    }
   ],
   "source": [
    "f_integr(p) = sum(E(p));\n",
    "integ_results = NLsolve.nlsolve(f_integr, [0.9], method=:newton)"
   ]
  },
  {
   "cell_type": "markdown",
   "id": "6c286e93-6334-4345-8bd2-5c690a505e18",
   "metadata": {
    "slideshow": {
     "slide_type": "slide"
    },
    "tags": []
   },
   "source": [
    "We can store the equilibrium price..."
   ]
  },
  {
   "cell_type": "code",
   "execution_count": 7,
   "id": "62d8cbd5-c9fc-4c12-8672-686c1b82210b",
   "metadata": {},
   "outputs": [
    {
     "data": {
      "text/plain": [
       "1-element Vector{Float64}:\n",
       " 0.9999999998477678"
      ]
     },
     "execution_count": 7,
     "metadata": {},
     "output_type": "execute_result"
    }
   ],
   "source": [
    "integ_p = integ_results.zero"
   ]
  },
  {
   "cell_type": "markdown",
   "id": "432f664d-947b-49da-a0af-472d621ec5c9",
   "metadata": {
    "slideshow": {
     "slide_type": "fragment"
    },
    "tags": []
   },
   "source": [
    "and check what the excess demands are"
   ]
  },
  {
   "cell_type": "code",
   "execution_count": 8,
   "id": "c79cf784-7fb2-41cc-b3de-d1350f0bd643",
   "metadata": {},
   "outputs": [
    {
     "data": {
      "text/plain": [
       "2-element Vector{Float64}:\n",
       "  3.000000001400537\n",
       " -2.999999998218883"
      ]
     },
     "execution_count": 8,
     "metadata": {},
     "output_type": "execute_result"
    }
   ],
   "source": [
    "integ_E = E(integ_p)"
   ]
  },
  {
   "cell_type": "markdown",
   "id": "1c66e659-5ca9-42e9-b03f-f7e874054fe7",
   "metadata": {},
   "source": [
    "So, if both economies are fully integrated, the resulting price is 1 (which is between both autarky prices) and **country 1 imports 3 units from country 2**."
   ]
  },
  {
   "cell_type": "markdown",
   "id": "bff71c87-9826-45c7-8802-e54bd24a1209",
   "metadata": {
    "slideshow": {
     "slide_type": "slide"
    },
    "tags": []
   },
   "source": [
    "## Step 3: unconstrained trade flows\n",
    "\n",
    "Now we bring back transportation costs but leave trade flow constraints out. Let's define the transportation cost vector."
   ]
  },
  {
   "cell_type": "code",
   "execution_count": 9,
   "id": "87db4b6a-0129-4515-aa0f-5a4b1cd452b1",
   "metadata": {},
   "outputs": [
    {
     "data": {
      "text/plain": [
       "2-element Vector{Float64}:\n",
       " 0.2\n",
       " 0.2"
      ]
     },
     "execution_count": 9,
     "metadata": {},
     "output_type": "execute_result"
    }
   ],
   "source": [
    "#   [c_12; c_21]\n",
    "c = [0.2; 0.2]"
   ]
  },
  {
   "cell_type": "markdown",
   "id": "8aa7f177-e4b6-47ad-85ab-602089992d78",
   "metadata": {
    "slideshow": {
     "slide_type": "fragment"
    },
    "tags": []
   },
   "source": [
    "Because of transportation costs, we know that prices within each country will not be equalized.\n",
    "\n",
    "**Q: How do we solve the model with transportation costs but no trade flow constraints?**"
   ]
  },
  {
   "cell_type": "raw",
   "id": "7e72b38f-be23-45b9-95fb-6a9aeb088c83",
   "metadata": {
    "slideshow": {
     "slide_type": "skip"
    },
    "tags": []
   },
   "source": [
    "|\n",
    "|\n",
    "|\n",
    "|\n",
    "|\n",
    "|\n",
    "|\n",
    "|\n",
    "|\n",
    "|"
   ]
  },
  {
   "cell_type": "markdown",
   "id": "e8f0a5c5-e5bb-4301-92a9-a8b1f5ce0c05",
   "metadata": {
    "slideshow": {
     "slide_type": "slide"
    },
    "tags": []
   },
   "source": [
    "We are still looking for a price vector that satisfies market conditions. The first condition is easy because it's the same as before: markets have to clear\n",
    "$$f_1(p_1, p_2) = E_1(p_1) + E_2(p_2) = 0$$"
   ]
  },
  {
   "cell_type": "markdown",
   "id": "2a0288a0-23d3-4d85-93c1-1bb9c0f45e24",
   "metadata": {
    "slideshow": {
     "slide_type": "slide"
    },
    "tags": []
   },
   "source": [
    "For the second condition, we need to think about arbitrage opportunities. We know that if the price in one country is greater than the other, there is an incentive to import. \n",
    "- Imports will raise the price in the other country\n",
    "- This process will continue until there is no arbitrage: the domestic price is the same as the foreign price plus the transportation cost "
   ]
  },
  {
   "cell_type": "markdown",
   "id": "76eb9cc4-17f9-465a-a44a-e1ebad6c795b",
   "metadata": {
    "slideshow": {
     "slide_type": "fragment"
    },
    "tags": []
   },
   "source": [
    "However, the problem here is that this condition depends on who is the net importer. We already expect it to be country 1, but we can define a flexible $f_2$ to handle it\n",
    "\n",
    "$$\n",
    "f_{2}\\left(p_{1},p_{2}\\right)=\\begin{cases}\n",
    "p_{1}-p_{2}-c_{21} & \\text{if}p_{1}\\geq p_{2}\\\\\n",
    "p_{2}-p_{1}-c_{12} & \\text{if}p_{1}<p_{2}\n",
    "\\end{cases}$$\n",
    "\n",
    "#### YOUR TURN: solve the unconstrained flow model using NLsolve.nlsolve and calculate $p$ and $E$ for each country."
   ]
  },
  {
   "cell_type": "raw",
   "id": "727c0831-e697-4319-88a7-130a8d1b7c45",
   "metadata": {
    "slideshow": {
     "slide_type": "skip"
    },
    "tags": []
   },
   "source": [
    "|\n",
    "|\n",
    "|\n",
    "|\n",
    "|\n",
    "|\n",
    "|\n",
    "|\n",
    "|\n",
    "|"
   ]
  },
  {
   "cell_type": "markdown",
   "id": "7416da6b-0972-4bfa-95af-1a4c1e8888fc",
   "metadata": {
    "slideshow": {
     "slide_type": "slide"
    },
    "tags": []
   },
   "source": [
    "We can define an `f` with an `if` clause"
   ]
  },
  {
   "cell_type": "code",
   "execution_count": 10,
   "id": "ef009c89-140e-4bd8-a06b-f632c662755e",
   "metadata": {},
   "outputs": [],
   "source": [
    "function f_unc_trade!(F, p)\n",
    "    # E_1 + E_2 = 0\n",
    "    F[1] = sum(E(p))\n",
    "    if (p[1] >= p[2])\n",
    "        # p_1 = p_2 + c_21\n",
    "        F[2] = p[1] - p[2] - c[2]\n",
    "    else\n",
    "        # p_2 = p_1 + c_12\n",
    "        F[2] = p[2] - p[1] - c[1]\n",
    "    end\n",
    "end;"
   ]
  },
  {
   "cell_type": "markdown",
   "id": "b3f821b5-e918-4d61-a2e3-3c33616de9d9",
   "metadata": {
    "slideshow": {
     "slide_type": "fragment"
    },
    "tags": []
   },
   "source": [
    "Note how I coded the function to be memory efficient by modifying a pre-allocated vector `F`.\n",
    "\n",
    "This function has a kink, so it's not guaranteed to converge! However, it's not guaranteed to diverge either, so we can try our luck. \n",
    "- We could have analyzed the model without trade costs (like step 2) and made an educated guess that $p_1 > p_2$ because we know that country 1 is the importer\n",
    "- Another approach would be to guess one of the cases, try to get a solution and check whether it's actually a solution. If we guess wrong, we might not have a solution "
   ]
  },
  {
   "cell_type": "markdown",
   "id": "fd5b4b4d-b4b2-4ec2-aa05-c4ee77567bbc",
   "metadata": {
    "slideshow": {
     "slide_type": "slide"
    },
    "tags": []
   },
   "source": [
    "Now we solve it"
   ]
  },
  {
   "cell_type": "code",
   "execution_count": 11,
   "id": "c717d9cd-4035-40ad-ab19-eb2e966a0dee",
   "metadata": {},
   "outputs": [
    {
     "data": {
      "text/plain": [
       "Results of Nonlinear Solver Algorithm\n",
       " * Algorithm: Newton with line-search\n",
       " * Starting Point: [1.1, 0.9]\n",
       " * Zero: [1.116994073995761, 0.9169940739957608]\n",
       " * Inf-norm of residuals: 0.000000\n",
       " * Iterations: 3\n",
       " * Convergence: true\n",
       "   * |x - x'| < 0.0e+00: false\n",
       "   * |f(x)| < 1.0e-08: true\n",
       " * Function Calls (f): 4\n",
       " * Jacobian Calls (df/dx): 4"
      ]
     },
     "execution_count": 11,
     "metadata": {},
     "output_type": "execute_result"
    }
   ],
   "source": [
    "unc_trade_results = NLsolve.nlsolve(f_unc_trade!, [1.1; 0.9], method=:newton)"
   ]
  },
  {
   "cell_type": "markdown",
   "id": "8e1c45ba-1355-4477-a206-8bf7525dbb4e",
   "metadata": {
    "slideshow": {
     "slide_type": "slide"
    },
    "tags": []
   },
   "source": [
    "And get the price vector"
   ]
  },
  {
   "cell_type": "code",
   "execution_count": 12,
   "id": "02d57b39-04ca-4f58-8dfb-e5a6b86e95f0",
   "metadata": {},
   "outputs": [
    {
     "data": {
      "text/plain": [
       "2-element Vector{Float64}:\n",
       " 1.116994073995761\n",
       " 0.9169940739957608"
      ]
     },
     "execution_count": 12,
     "metadata": {},
     "output_type": "execute_result"
    }
   ],
   "source": [
    "unc_trade_p = unc_trade_results.zero"
   ]
  },
  {
   "cell_type": "markdown",
   "id": "ce160705-5eac-4e0c-a449-37b30f62ab11",
   "metadata": {
    "slideshow": {
     "slide_type": "fragment"
    },
    "tags": []
   },
   "source": [
    "To which we can check that the price differential is indeed equal to transportation cost"
   ]
  },
  {
   "cell_type": "code",
   "execution_count": 13,
   "id": "04f92f5c-03f9-40d7-925f-fadfd3f22c63",
   "metadata": {},
   "outputs": [
    {
     "data": {
      "text/plain": [
       "0.20000000000000007"
      ]
     },
     "execution_count": 13,
     "metadata": {},
     "output_type": "execute_result"
    }
   ],
   "source": [
    "unc_trade_p[1] - unc_trade_p[2]"
   ]
  },
  {
   "cell_type": "markdown",
   "id": "b2148ca1-eb6a-4499-b988-728a516db21d",
   "metadata": {
    "slideshow": {
     "slide_type": "slide"
    },
    "tags": []
   },
   "source": [
    "We can also get E"
   ]
  },
  {
   "cell_type": "code",
   "execution_count": 14,
   "id": "040c5a8b-4ff8-41a4-831c-4f62d65cc54a",
   "metadata": {},
   "outputs": [
    {
     "data": {
      "text/plain": [
       "2-element Vector{Float64}:\n",
       "  1.9910106139888089\n",
       " -1.991010613988808"
      ]
     },
     "execution_count": 14,
     "metadata": {},
     "output_type": "execute_result"
    }
   ],
   "source": [
    "unc_trade_E = E(unc_trade_p)"
   ]
  },
  {
   "cell_type": "markdown",
   "id": "79aad182-a5c5-452e-9eaa-1567acc67383",
   "metadata": {
    "slideshow": {
     "slide_type": "fragment"
    },
    "tags": []
   },
   "source": [
    "So, with transportation costs, **country 1 imports about 1.99 units from country 2**.\n",
    "\n",
    "We can also verify this is indeed an equilibrium"
   ]
  },
  {
   "cell_type": "code",
   "execution_count": 15,
   "id": "7f05fb30-1308-441f-a8c2-b5d8d201445d",
   "metadata": {},
   "outputs": [
    {
     "data": {
      "text/plain": [
       "2-element Vector{Float64}:\n",
       " 8.881784197001252e-16\n",
       " 5.551115123125783e-17"
      ]
     },
     "execution_count": 15,
     "metadata": {},
     "output_type": "execute_result"
    }
   ],
   "source": [
    "F = zeros(2);\n",
    "f_unc_trade!(F, unc_trade_results.zero);\n",
    "F"
   ]
  },
  {
   "cell_type": "markdown",
   "id": "cc964eff-1f68-4ad3-9737-889b8a22919b",
   "metadata": {
    "slideshow": {
     "slide_type": "slide"
    },
    "tags": []
   },
   "source": [
    "## Step 4: full model\n",
    "\n",
    "Now we are ready for the grand finale: we add trade flow constraints $b_{ij}$. We know that this will involve a complementarity problem. \n",
    "\n",
    "Let's use $x_{ij}$ to denote the trade flow from country $i$ to country $j$. \n",
    "- This is, country $j$ is the importer and $i$ the exporter.\n",
    "\n",
    "Also, trade flows are non-negative, so $0 \\leq x_{ij} \\leq b_{ij}$"
   ]
  },
  {
   "cell_type": "markdown",
   "id": "3672ddff-9ccc-49c2-888d-9ce0a1f35680",
   "metadata": {
    "slideshow": {
     "slide_type": "slide"
    },
    "tags": []
   },
   "source": [
    "We know that if trade flows are positive, then domestic prices are **at least** as high as the price of buying a foreign good (foreign price + transportation cost). This gives\n",
    "\n",
    "$$x_{ij} > 0 \\Rightarrow p_j - p_i - c_{ij} \\geq 0 $$"
   ]
  },
  {
   "cell_type": "markdown",
   "id": "d2bed5d6-2055-46e2-a181-c1c6a7f146fa",
   "metadata": {
    "slideshow": {
     "slide_type": "fragment"
    },
    "tags": []
   },
   "source": [
    "We also know that if trade flows are below trade limits, then there are no arbitrage opportunities left and domestic prices are **at most** as high as the price of importing. This gives\n",
    "\n",
    "$$x_{ij} < b_{ij} \\Rightarrow p_j - p_i - c_{ij} \\leq 0 $$"
   ]
  },
  {
   "cell_type": "markdown",
   "id": "152f413b-d625-44ff-8159-9fe0b4cfc784",
   "metadata": {
    "slideshow": {
     "slide_type": "fragment"
    },
    "tags": []
   },
   "source": [
    "But hold on. We've been solving everything in terms of prices but constraints are on trade flows so far. \n",
    "\n",
    "**How do we go from solving for prices to solve for trade flows?**"
   ]
  },
  {
   "cell_type": "raw",
   "id": "afea92f2-984d-4437-b806-2f2412f1e0d3",
   "metadata": {
    "slideshow": {
     "slide_type": "skip"
    },
    "tags": []
   },
   "source": [
    "|\n",
    "|\n",
    "|\n",
    "|\n",
    "|\n",
    "|\n",
    "|\n",
    "|\n",
    "|\n",
    "|"
   ]
  },
  {
   "cell_type": "markdown",
   "id": "43e30069-9999-45b4-b9f7-53af6ed8940a",
   "metadata": {
    "slideshow": {
     "slide_type": "slide"
    },
    "tags": []
   },
   "source": [
    "Following the general example in the slides, we need to relate trade flows and prices.\n",
    "\n",
    "We know that market clearing in each region $i$ requires that net imports = excess demand, so\n",
    "\n",
    "$$\\sum_k [x_{ki} - x_{ik}] = E_i(p_i)$$"
   ]
  },
  {
   "cell_type": "markdown",
   "id": "a18c1b64-f738-4eb4-a37c-eab36f8dfdf4",
   "metadata": {
    "slideshow": {
     "slide_type": "fragment"
    },
    "tags": []
   },
   "source": [
    "So we can solve for prices\n",
    "\n",
    "$$p_i = E_i^{-1}\\left( \\sum_k [x_{ki} - x_{ik}]\\right)$$\n",
    "\n",
    "That is, if $E_i^{-1}$ exists... does it?"
   ]
  },
  {
   "cell_type": "markdown",
   "id": "f0a45fc6-fe55-44a9-89b0-0a9ba8c42408",
   "metadata": {
    "slideshow": {
     "slide_type": "fragment"
    },
    "tags": []
   },
   "source": [
    "- Yes! At least for the domain we care about: $E_i(p_i)$ is monotonic for $p_i>0$"
   ]
  },
  {
   "cell_type": "markdown",
   "id": "73e566fe-bb8e-43aa-ab6f-34c3464b8014",
   "metadata": {
    "slideshow": {
     "slide_type": "slide"
    },
    "tags": []
   },
   "source": [
    "So now we can go back to our complementarity conditions and plug in prices\n",
    "\n",
    "$$\n",
    "f_{21}(x) = E_1^{-1}\\left( x_{21} - x_{12} \\right) - E_2^{-1}\\left(x_{21} - x_{12}\\right) - c_{21} \\\\\n",
    "f_{12}(x) = E_2^{-1}\\left( x_{12} - x_{21} \\right) - E_1^{-1}\\left(x_{12} - x_{21}\\right) - c_{12}\n",
    "$$"
   ]
  },
  {
   "cell_type": "markdown",
   "id": "74a1731b-180e-458f-a313-265f11a02860",
   "metadata": {
    "slideshow": {
     "slide_type": "fragment"
    },
    "tags": []
   },
   "source": [
    "We have $f$, $a$ and $b$, so we're good to go.\n",
    "- Note that $f_{11}$ and $f_{22}$ are trivially equal zero, so we don't need to solve for $x_{11}$ or $x_{22}$\n",
    "\n",
    "#### YOUR TURN: solve the constrained flow model using NLsolve.mcpsolve and calculate $p$ and $E$ for each country."
   ]
  },
  {
   "cell_type": "markdown",
   "id": "0cc7e364-e84b-4fb9-bfe6-137b71667e14",
   "metadata": {
    "slideshow": {
     "slide_type": "fragment"
    },
    "tags": []
   },
   "source": [
    "But hold on! How the hell do we calculate $E_i^{-1}$?"
   ]
  },
  {
   "cell_type": "markdown",
   "id": "da0bdc19-9e3c-4e64-8646-fe4fc94320ca",
   "metadata": {
    "slideshow": {
     "slide_type": "slide"
    },
    "tags": []
   },
   "source": [
    "Great question! Let's see... Can you invert $E_i$ analytically?\n"
   ]
  },
  {
   "cell_type": "markdown",
   "id": "a5d82596-d849-4039-b4a4-24475ea6828a",
   "metadata": {
    "slideshow": {
     "slide_type": "fragment"
    },
    "tags": []
   },
   "source": [
    "Nope... we need to do it numerically.\n",
    "\n",
    "With $p_i = E_i^{-1}$, we have some excess demand/net trade flow $x$ and we want to find $p$ such that $E(p) = x$. How do we find $p$?"
   ]
  },
  {
   "cell_type": "markdown",
   "id": "2c608dc0-6b90-41d5-a95f-ba56bfa23931",
   "metadata": {
    "slideshow": {
     "slide_type": "fragment"
    },
    "tags": []
   },
   "source": [
    "- How about we define some $g(p) = E(p) - x$? Then it's a nonlinear rootfinding problem!"
   ]
  },
  {
   "cell_type": "markdown",
   "id": "55778672-3e20-49e0-b863-47477d58130c",
   "metadata": {
    "slideshow": {
     "slide_type": "slide"
    },
    "tags": []
   },
   "source": [
    "We will define it to return a scalar. That's just to make our life easier when coding $f$."
   ]
  },
  {
   "cell_type": "code",
   "execution_count": 16,
   "id": "841772a8-3bbf-4c03-a2e5-9ea22f22d823",
   "metadata": {},
   "outputs": [],
   "source": [
    "function E_inv(x, index)\n",
    "    g(p) = E(p)[index] .- x\n",
    "    NLsolve.nlsolve(g, [1.0], method=:newton).zero[1]\n",
    "end;"
   ]
  },
  {
   "cell_type": "markdown",
   "id": "40d74ed8-3cb2-4a86-b311-e0c59729bca3",
   "metadata": {
    "slideshow": {
     "slide_type": "fragment"
    },
    "tags": []
   },
   "source": [
    "Let's test run our function. If we plug in zero excess demand, we know what we should get, right?"
   ]
  },
  {
   "cell_type": "code",
   "execution_count": 17,
   "id": "7b0ed5f1-699d-4724-9b6a-1bffd4c2de6a",
   "metadata": {},
   "outputs": [
    {
     "data": {
      "text/plain": [
       "1.3871436293753914"
      ]
     },
     "execution_count": 17,
     "metadata": {},
     "output_type": "execute_result"
    }
   ],
   "source": [
    "E_inv(0.0, 1)"
   ]
  },
  {
   "cell_type": "code",
   "execution_count": 18,
   "id": "7c445b86-50c7-4308-ab82-548a547ba330",
   "metadata": {},
   "outputs": [
    {
     "data": {
      "text/plain": [
       "0.773583875913069"
      ]
     },
     "execution_count": 18,
     "metadata": {},
     "output_type": "execute_result"
    }
   ],
   "source": [
    "E_inv(0.0, 2)"
   ]
  },
  {
   "cell_type": "markdown",
   "id": "7b9d4fca-3f06-45ae-86f7-f155bfa0b49a",
   "metadata": {
    "slideshow": {
     "slide_type": "slide"
    },
    "tags": []
   },
   "source": [
    "OK, now we are ready to continue\n",
    "\n",
    "#### YOUR TURN: solve the constrained flow model using `NLsolve.mcpsolve` and calculate $p$ and $E$ for each country.\n",
    "\n",
    "(When using `mcpsolve`, remember that standard MCP problem has the opposite signs from Miranda and Fackler's (and from our lectures). An easy solution is to just define our $f$ with a flipped sign.)"
   ]
  },
  {
   "cell_type": "raw",
   "id": "6e582ddd-0cf4-4bca-945e-03a820d79d50",
   "metadata": {
    "slideshow": {
     "slide_type": "skip"
    },
    "tags": []
   },
   "source": [
    "|\n",
    "|\n",
    "|\n",
    "|\n",
    "|\n",
    "|\n",
    "|\n",
    "|\n",
    "|\n",
    "|"
   ]
  },
  {
   "cell_type": "markdown",
   "id": "e0b608c2-320b-49db-a62a-6855b04e943d",
   "metadata": {
    "slideshow": {
     "slide_type": "slide"
    },
    "tags": []
   },
   "source": [
    "First, we define $f$"
   ]
  },
  {
   "cell_type": "code",
   "execution_count": 29,
   "id": "0e64993c-db16-4b6a-8201-d1817dbc2032",
   "metadata": {},
   "outputs": [],
   "source": [
    "function f_const_trade!(F, x)\n",
    "    # Solve for prices using trade flows\n",
    "    # p1 = E_inv_1(x_21 - x_12)\n",
    "    p1 = E_inv(x[2] - x[1], 1)\n",
    "    # p2 = E_inv_2(x_12 - x_21)\n",
    "    p2 = E_inv(x[1] - x[2], 2)\n",
    "    #f_12: p2 - p1 - c_12\n",
    "    F[1] = -(p2 - p1 - c[1]) # Flip sign for mcpsolve\n",
    "    #f_21: p1 - p2 - c_21\n",
    "    F[2] = -(p1 - p2 - c[2]) # Flip sign for mcpsolve\n",
    "end;"
   ]
  },
  {
   "cell_type": "markdown",
   "id": "b0e858a3-7af2-42d2-bd30-52b837b57bf6",
   "metadata": {
    "slideshow": {
     "slide_type": "slide"
    },
    "tags": []
   },
   "source": [
    "Then, define lower and upper bounds and run the solution"
   ]
  },
  {
   "cell_type": "code",
   "execution_count": 30,
   "id": "597906b6-73e7-4320-8691-2a4a6a027673",
   "metadata": {},
   "outputs": [
    {
     "data": {
      "text/plain": [
       "Results of Nonlinear Solver Algorithm\n",
       " * Algorithm: Newton with line-search\n",
       " * Starting Point: [3.0, 0.0]\n",
       " * Zero: [-4.430784348463855e-17, 1.5000000009771264]\n",
       " * Inf-norm of residuals: 0.000000\n",
       " * Iterations: 7\n",
       " * Convergence: true\n",
       "   * |x - x'| < 0.0e+00: false\n",
       "   * |f(x)| < 1.0e-08: true\n",
       " * Function Calls (f): 9\n",
       " * Jacobian Calls (df/dx): 7"
      ]
     },
     "execution_count": 30,
     "metadata": {},
     "output_type": "execute_result"
    }
   ],
   "source": [
    "a = [0.0; 0.0]\n",
    "b = [1.5; 1.5]\n",
    "\n",
    "const_trade_results = NLsolve.mcpsolve(f_const_trade!, a, b, [3.0; 0.0], method=:newton)"
   ]
  },
  {
   "cell_type": "code",
   "execution_count": 31,
   "id": "39695c7d-497a-42ce-8e4f-5f527bcab7a1",
   "metadata": {
    "slideshow": {
     "slide_type": "slide"
    },
    "tags": []
   },
   "outputs": [
    {
     "data": {
      "text/plain": [
       "2-element Vector{Float64}:\n",
       " -4.430784348463855e-17\n",
       "  1.5000000009771264"
      ]
     },
     "execution_count": 31,
     "metadata": {},
     "output_type": "execute_result"
    }
   ],
   "source": [
    "const_trade_x = const_trade_results.zero"
   ]
  },
  {
   "cell_type": "markdown",
   "id": "de9e0fe2-05d2-49da-8d42-338d2d4bcd0e",
   "metadata": {},
   "source": [
    "So both constraints bind: **country 1 imports at maximum capacity (`x21 = 1.5`) from country 2**"
   ]
  },
  {
   "cell_type": "markdown",
   "id": "fbcf327b-b9b3-4503-a906-211c99107deb",
   "metadata": {
    "slideshow": {
     "slide_type": "slide"
    },
    "tags": []
   },
   "source": [
    "Let's check prices"
   ]
  },
  {
   "cell_type": "code",
   "execution_count": 33,
   "id": "6e45a6ac-f068-4648-8aa0-2a7d1b716246",
   "metadata": {},
   "outputs": [
    {
     "data": {
      "text/plain": [
       "2-element Vector{Float64}:\n",
       " 1.1790808075246417\n",
       " 0.879045725555841"
      ]
     },
     "execution_count": 33,
     "metadata": {},
     "output_type": "execute_result"
    }
   ],
   "source": [
    "const_trade_p = [E_inv(const_trade_x[2]-const_trade_x[1], 1); E_inv(const_trade_x[1]-const_trade_x[2], 2)]"
   ]
  },
  {
   "cell_type": "code",
   "execution_count": 34,
   "id": "fcd9f070-b998-4fa6-bc1d-6cb42493e94f",
   "metadata": {},
   "outputs": [
    {
     "data": {
      "text/plain": [
       "0.3000350819688007"
      ]
     },
     "execution_count": 34,
     "metadata": {},
     "output_type": "execute_result"
    }
   ],
   "source": [
    "const_trade_p[1] - const_trade_p[2]"
   ]
  },
  {
   "cell_type": "markdown",
   "id": "e5e4135f-9948-4fc3-ba26-6684283d1dbc",
   "metadata": {},
   "source": [
    "So the price differentials exceed transportation costs because trade flow constraints prevent price equalization"
   ]
  },
  {
   "cell_type": "markdown",
   "id": "db947e8d-5d80-42bf-9a81-bd10f771bbff",
   "metadata": {
    "slideshow": {
     "slide_type": "slide"
    },
    "tags": []
   },
   "source": [
    "We can also check excess demands"
   ]
  },
  {
   "cell_type": "code",
   "execution_count": 35,
   "id": "85eb0163-7b58-4935-8a30-3857b2854eac",
   "metadata": {},
   "outputs": [
    {
     "data": {
      "text/plain": [
       "2-element Vector{Float64}:\n",
       "  1.500000000977126\n",
       " -1.4999999925872487"
      ]
     },
     "execution_count": 35,
     "metadata": {},
     "output_type": "execute_result"
    }
   ],
   "source": [
    "const_trade_E = E(const_trade_p)"
   ]
  },
  {
   "cell_type": "markdown",
   "id": "e59e35a2-8de4-4243-b90d-8bda97c56f7b",
   "metadata": {},
   "source": [
    "So, indeed trade flows offset excess demands."
   ]
  },
  {
   "cell_type": "markdown",
   "id": "6a8f411d-1b0f-4a85-8d37-2562feebfa35",
   "metadata": {
    "slideshow": {
     "slide_type": "slide"
    },
    "tags": []
   },
   "source": [
    "We can also check what is happening to $f$"
   ]
  },
  {
   "cell_type": "code",
   "execution_count": 36,
   "id": "2ee96f4f-dcda-4453-b2ae-218218d2d254",
   "metadata": {},
   "outputs": [
    {
     "data": {
      "text/plain": [
       "2-element Vector{Float64}:\n",
       " -0.5000350819688006\n",
       "  0.10003508196880068"
      ]
     },
     "execution_count": 36,
     "metadata": {},
     "output_type": "execute_result"
    }
   ],
   "source": [
    "F = zeros(2);\n",
    "f_const_trade!(F, const_trade_x);\n",
    "-F # We need to re-flip the sign coming out of mcpsolve"
   ]
  },
  {
   "cell_type": "markdown",
   "id": "4ad9b00d-0bb3-4196-8be9-b4552118874f",
   "metadata": {
    "slideshow": {
     "slide_type": "fragment"
    },
    "tags": []
   },
   "source": [
    "Since both constraints are binding, $f$ is non-zero in both cases. \n",
    "- $f_{21} \\approx 0.1 > 0$ indicates that arbitrage opportunities would exist by importing more if we were not constrained with flow limits\n",
    "- $f_{12} \\approx -0.5 < 0$ is the opposite: country 2 could benefit from exporting more if it were not constrained"
   ]
  }
 ],
 "metadata": {
  "kernelspec": {
   "display_name": "Julia 1.8.5",
   "language": "julia",
   "name": "julia-1.8"
  },
  "language_info": {
   "file_extension": ".jl",
   "mimetype": "application/julia",
   "name": "julia",
   "version": "1.8.5"
  },
  "toc-autonumbering": false,
  "toc-showcode": false,
  "toc-showmarkdowntxt": false
 },
 "nbformat": 4,
 "nbformat_minor": 5
}
