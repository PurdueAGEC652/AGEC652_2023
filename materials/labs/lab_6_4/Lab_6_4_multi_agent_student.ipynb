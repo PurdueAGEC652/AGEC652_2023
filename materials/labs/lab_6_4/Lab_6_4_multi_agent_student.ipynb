{
 "cells": [
  {
   "cell_type": "markdown",
   "id": "b15d6c75-db6d-45eb-964c-23c6ecdef75d",
   "metadata": {
    "slideshow": {
     "slide_type": "slide"
    },
    "tags": []
   },
   "source": [
    "*AGEC 652 - Spring 2023*\n",
    "# Structural estimation of a multi-agent model\n",
    "## Discrete choice within Nash-Bertrand competition"
   ]
  },
  {
   "cell_type": "markdown",
   "id": "4ffec8f9-810f-4d99-af9a-3296cdc05056",
   "metadata": {
    "slideshow": {
     "slide_type": "slide"
    },
    "tags": []
   },
   "source": [
    "## Agenda\n",
    "\n",
    "We will return to the discrete choice model between car models A and B (from weekly problems) only this time without knowing the model parameters!\n",
    "\n",
    "- You will estimate demand and supply models jointly using GMM\n",
    "- Using estimated parameters, you will predict marginal costs\n",
    "- Then, using marginal costs, you will quantify market power in this industry"
   ]
  },
  {
   "cell_type": "markdown",
   "id": "9b719e98-2e2c-4d89-a3e9-99d0b4a2cf45",
   "metadata": {
    "slideshow": {
     "slide_type": "slide"
    },
    "tags": []
   },
   "source": [
    "## Research problem\n",
    "\n",
    "Question: **How much market power do car brands A and B have?**\n",
    "\n",
    "We have data from a random sample from $N=300$ local markets (indexed by $j$) for car models A and B\n",
    "- Shares: $s_k$\n",
    "- Prices: $p_k$\n",
    "- Local steel prices: $t_k$\n",
    "- Average local labor costs: $l_i$"
   ]
  },
  {
   "cell_type": "markdown",
   "id": "8bcd91fe-69b6-4575-bad7-92f7b7c14799",
   "metadata": {
    "slideshow": {
     "slide_type": "fragment"
    },
    "tags": []
   },
   "source": [
    "We want to estimate the mean Lerner index for each firm\n",
    "$$L_k = \\frac{1}{N} \\sum_{j=1}^N \\frac{p_{k,j} - c_{k,j}}{p_{k,j}}$$"
   ]
  },
  {
   "cell_type": "markdown",
   "id": "f849c604-c430-4204-906f-babef9b088df",
   "metadata": {
    "slideshow": {
     "slide_type": "slide"
    },
    "tags": []
   },
   "source": [
    "## Demand: theoretical model\n",
    "\n",
    "In a given market, consumers have 3 options: \n",
    "- Buy one car of model a with price $p_a$\n",
    "- Buy one car of model b with price $p_b$\n",
    "- Not to buy a car, i.e., the outside option"
   ]
  },
  {
   "cell_type": "markdown",
   "id": "f8917c5d-2845-41ae-972e-248ef8447805",
   "metadata": {
    "slideshow": {
     "slide_type": "fragment"
    },
    "tags": []
   },
   "source": [
    "If consumer $i$ buys car $k$, they get utility\n",
    "\n",
    "$$u_{i,k} = \\beta_0 -\\alpha p_k + \\beta_1 B^D_k + \\beta_2 \\xi^D_k + \\nu_{ik} \\equiv V_k + \\nu_{ik}$$\n",
    "\n",
    "where \n",
    "- $\\alpha$ and $\\beta$s are model parameters\n",
    "- $B^D_k$ is a vector of **observed** product characteristics that consumers care about\n",
    "- $\\xi^D_k$ is a vector of **unobserved** product characteristics that consumers care about\n",
    "- $\\nu_{ik}$ is the (mean zero) idiosyncratic taste of consumer $i$ for product $k$\n",
    "- $V_{k}$ is the mean utility for product $k$\n",
    "\n",
    "If they do not buy a car, they get zero utility. Consumers are utility maximizers, so they pick the option that yields the highest utility."
   ]
  },
  {
   "cell_type": "markdown",
   "id": "81a13a07-bad3-47d6-9716-25d159e11282",
   "metadata": {
    "slideshow": {
     "slide_type": "slide"
    },
    "tags": []
   },
   "source": [
    "## Demand: theoretical model"
   ]
  },
  {
   "cell_type": "markdown",
   "id": "889655d3-920b-4a27-8281-3c67c996cfb2",
   "metadata": {},
   "source": [
    "Assuming $\\nu_{ik}$ is distributed in the population following a [Type I Extreme Value distribution](https://en.wikipedia.org/wiki/Gumbel_distribution), we can derive a closed-form expression for expected market shares of products a and b:\n",
    "\n",
    "$$s_{a}=\\frac{e^{V_a}}{1+e^{V_a}+e^{V_b}}, \\; s_{b}=\\frac{e^{V_b}}{1+e^{V_a}+e^{V_b}}$$\n",
    "\n",
    "The demand for the outside option is given by $s_0 = 1 - s_A - s_B = \\frac{1}{1+e^{V_a}+e^{V_b}}$"
   ]
  },
  {
   "cell_type": "markdown",
   "id": "a3f7c56b-b734-4db0-9738-2cf648a409a2",
   "metadata": {
    "slideshow": {
     "slide_type": "fragment"
    },
    "tags": []
   },
   "source": [
    "**Useful trick**. Note that $\\frac{s_k}{s_0} = e^{V_k}$. Take logs on both sides:\n",
    "$$\\log(s_k)-\\log(s_0) = V_k$$"
   ]
  },
  {
   "cell_type": "markdown",
   "id": "1a7ae1eb-1b32-42bc-90a4-4b48e8d595fa",
   "metadata": {
    "jp-MarkdownHeadingCollapsed": true,
    "slideshow": {
     "slide_type": "slide"
    },
    "tags": []
   },
   "source": [
    "## Demand: statistical model\n",
    "\n",
    "$$\\log(s_k)-\\log(s_0) = V_k$$\n",
    "\n",
    "The expression above refers to expected shares and does not fit the data exactly. For this reason, we add a idiosyncratic demand shock $\\epsilon^D_{k,j}$ to obtain \n",
    "\n",
    "$$\\log(s_{k,j})-\\log(s_{0,j}) = V_{k,j} + \\epsilon_{k,j} = \\beta_0 -\\alpha p_{k,j} + \\beta_1 B^D_{k,j} + \\beta_2 \\xi^D_{k,j} + \\epsilon^D_{k,j} \\quad (1)$$\n",
    "\n",
    "We assume $\\epsilon^D_{k,j}$ has mean zero and is uncorrelated with $p_{k,j}$, $B^D_{k,j}$, and $\\xi^D_{k,j}$"
   ]
  },
  {
   "cell_type": "markdown",
   "id": "5bd10cf9-c59c-480c-97c1-414b96815fa4",
   "metadata": {
    "slideshow": {
     "slide_type": "slide"
    },
    "tags": []
   },
   "source": [
    "## Supply: theoretical model\n",
    "Since this market is a duopoly, firms anticipate that their pricing decisions affect their demands mutually\n",
    "- Firms then choose the price that maximizes their expected profits given the price their competitor has chosen: Bertrand competition"
   ]
  },
  {
   "cell_type": "markdown",
   "id": "a97e87f3-0442-4895-a1ea-c456ddcbaa66",
   "metadata": {
    "slideshow": {
     "slide_type": "fragment"
    },
    "tags": []
   },
   "source": [
    "We assume that the outcome of this process is a Nash equilibrium: firms do the best they can given what others are doing and no firm has an incentive to unilaterally deviate\n",
    "- Hence, each market is in a Nash-Bertrand equilibrium"
   ]
  },
  {
   "cell_type": "markdown",
   "id": "61282799-0dde-4fb6-900a-e524dc5187d4",
   "metadata": {
    "slideshow": {
     "slide_type": "fragment"
    },
    "tags": []
   },
   "source": [
    "Let $c_{k}$ be the constant marginal cost. Then in each market each firm solves:\n",
    "$$\\max_{p_{k}} \\pi(p_k, p_{-k}) = p_{k} s_k(p_k, p_{-k}) - c_{k} s_k(p_k, p_{-k})$$  \n",
    "The first-order condition is"
   ]
  },
  {
   "cell_type": "markdown",
   "id": "5f6276ed-f58c-485f-82e0-0d75405216a2",
   "metadata": {
    "slideshow": {
     "slide_type": "fragment"
    },
    "tags": []
   },
   "source": [
    "$$\n",
    "\\partial\\pi_k/\\partial p_k = 0 \\Rightarrow s_k(p_k, p_{-k}) + (p_k - c_k) \\frac{\\partial s_k(p_k, p_{-k})}{\\partial p_k} = 0\n",
    "$$"
   ]
  },
  {
   "cell_type": "markdown",
   "id": "ce39d47e-40b0-4da7-96c6-66436ee6ca24",
   "metadata": {
    "slideshow": {
     "slide_type": "slide"
    },
    "tags": []
   },
   "source": [
    "## Supply: theoretical model\n",
    "\n",
    "Using the closed-form expression for the derivative $\\frac{\\partial s_k(p_k, p_{-k})}{\\partial p_k} = -\\alpha s_k (1-s_k)$, it follows that"
   ]
  },
  {
   "cell_type": "markdown",
   "id": "41b7a842-f3ce-4c4d-8a9a-700bddf9c7c6",
   "metadata": {
    "slideshow": {
     "slide_type": "fragment"
    },
    "tags": []
   },
   "source": [
    "$$\n",
    "s_k(p_k, p_{-k}) - \\alpha(p_k - c_k)s_k(p_k, p_{-k})(1-s_k(p_k, p_{-k})) = 0\\\\\n",
    "c_k = p_k - \\frac{1}{\\alpha(1-s_k)}\n",
    "$$"
   ]
  },
  {
   "cell_type": "markdown",
   "id": "586205cd-4104-4f38-8238-5f77909311ae",
   "metadata": {
    "slideshow": {
     "slide_type": "fragment"
    },
    "tags": []
   },
   "source": [
    "Thus, given parameter $\\alpha$, we can calculate marginal costs that rationalize equilibrium prices and shares"
   ]
  },
  {
   "cell_type": "markdown",
   "id": "2bef1d5a-893c-4256-8eb9-c6ba9b514471",
   "metadata": {
    "slideshow": {
     "slide_type": "slide"
    },
    "tags": []
   },
   "source": [
    "## Supply: statistical model\n",
    "\n",
    "With parameter estimate $\\hat{\\alpha}$ and using the expression for rationalized marginal costs based on the FOC, we can write predict expected marginal costs"
   ]
  },
  {
   "cell_type": "markdown",
   "id": "d81d7e67-df59-446c-8a0d-1f82bed85dbc",
   "metadata": {
    "slideshow": {
     "slide_type": "fragment"
    },
    "tags": []
   },
   "source": [
    "$$\n",
    "\\hat{c}_{k,j} = p_{k,j} - \\frac{1}{\\hat{\\alpha}(1-s_{k,j})} \\quad (2)\n",
    "$$"
   ]
  },
  {
   "cell_type": "markdown",
   "id": "03528564-981e-4c3a-9cd0-749f27b103dc",
   "metadata": {
    "slideshow": {
     "slide_type": "fragment"
    },
    "tags": []
   },
   "source": [
    "We parameterize marginal cost using observable input costs and add an idiosyncratic cost shock $\\epsilon^S_{k,j}$ to accomodate for differences from the expectation\n",
    "$$\\hat{c}_{k,j} = \\gamma_0 + \\gamma_1 B^S_{k,j} + \\gamma_2 t_{k,j} + \\gamma_3 l_{k,j} + \\gamma_4 \\xi^S_k +\\epsilon^S_{k,j} \\quad (3)$$\n",
    "\n",
    "where\n",
    "- $\\gamma$ s are parameters to be estimated\n",
    "- $t_{k,j}$ and $l_{k,j}$ are local input costs for steel and labor\n",
    "- $B^S_k$ is a vector of **observed** product characteristics that affect costs\n",
    "- $\\xi^S_k$ is a vector of **unobserved** product characteristics that affect costs\n",
    "\n",
    "We assume $\\epsilon^S_{k,j}$ to be uncorrelated with$t_{k,j}$, $l_{k,j}$, $B^S_{k,j}$, and $\\xi^S_k$"
   ]
  },
  {
   "cell_type": "markdown",
   "id": "b734e326-c28a-4df1-9272-55d1bd7e8757",
   "metadata": {
    "slideshow": {
     "slide_type": "slide"
    },
    "tags": []
   },
   "source": [
    "## Estimation: demand moment conditions\n",
    "\n",
    "$$\\log(s_{k,j})-\\log(s_{0,j}) = \\beta_0 -\\alpha p_{k,j} + \\beta_1 B^D_{k,j} + \\beta_2 \\xi^D_{k,j} + \\epsilon^D_{k,j} \\quad (1)$$\n",
    "\n",
    "Do we have a problem to estimate this equation?"
   ]
  },
  {
   "cell_type": "markdown",
   "id": "d0036483-c5b8-4d76-b174-e30cf8b9768a",
   "metadata": {
    "slideshow": {
     "slide_type": "fragment"
    },
    "tags": []
   },
   "source": [
    "Very likely, YES! Unobserved product characteristics affect willingness to pay: $E[p_{k,j}\\xi^D_{k,j}] \\neq 0$\n",
    "\n",
    "Since we can't include $\\xi^D_{k,j}$, we have that $E[p_{k,j}(\\beta_2 \\xi^D_{k,j} + \\epsilon^D_{k,j})] \\neq 0 \\Rightarrow$ ENDOGENEITY!\n",
    "\n",
    "How can we solve this?"
   ]
  },
  {
   "cell_type": "markdown",
   "id": "8a43c300-b4b6-4424-b81a-dd4685edb750",
   "metadata": {
    "slideshow": {
     "slide_type": "fragment"
    },
    "tags": []
   },
   "source": [
    "**With instruments**\n",
    "- We can use input costs $t_{k,j}, l_{k,j}$ to instrument for price\n",
    "- Key idea: with fixed product characteristics, higher costs lead to higher prices without affecting demand"
   ]
  },
  {
   "cell_type": "markdown",
   "id": "882edbc4-026b-447a-a381-5d488deca07a",
   "metadata": {
    "slideshow": {
     "slide_type": "slide"
    },
    "tags": []
   },
   "source": [
    "## Estimation: demand moment conditions\n",
    "So, we rewrite the demand estimating equation as\n",
    "\n",
    "$$\\log(s_{k,j})-\\log(s_{0,j}) = \\beta_0 -\\alpha p_{k,j} + \\beta_1 B^D_{k,j} + \\epsilon^D_{k,j} = X^D_{k,j} \\theta^D + \\epsilon^D_{k,j} \\quad (4)$$\n",
    "\n",
    "where \n",
    "- $\\theta^D$ is the parameter column vector $[\\beta_0 \\; -\\alpha \\; \\beta_1]^T$\n",
    "- $X^D$ is the row vector $[1 \\; p_{k,j} \\; B^D_{k,j}]$, with $B^D_{k,j}$ being a dummy variable receiving 1 for product b ($k=b$) or 0 otherwise\n",
    "    - $B^D_{k,j}$ will pick up all the perceived product characteristics that are constant across markets\n"
   ]
  },
  {
   "cell_type": "markdown",
   "id": "f2335467-6496-4b1c-bdee-e687feb8fe2a",
   "metadata": {
    "slideshow": {
     "slide_type": "fragment"
    },
    "tags": []
   },
   "source": [
    "Denote the instrument vector $Z_{k,j} = [1 \\; B^D_{k,j} \\; t_{k,j} \\; l_{k,j} ]$. Then, we can form moment conditions\n",
    "$$E\\left[Z^T_{k,j}\\epsilon^D_{k,j}\\right] = 0$$\n",
    "\n",
    "Q: How many moment conditions do we have here?"
   ]
  },
  {
   "cell_type": "markdown",
   "id": "733b7bca-610c-4061-a816-3e1b92d4b67f",
   "metadata": {
    "slideshow": {
     "slide_type": "slide"
    },
    "tags": []
   },
   "source": [
    "## Estimation: demand moment conditions\n",
    "\n",
    "A: We have **four moment** conditions from the demand side"
   ]
  },
  {
   "cell_type": "markdown",
   "id": "7aa8cc2b-1f6c-4ce7-a835-6c61e658163b",
   "metadata": {},
   "source": [
    "$$\n",
    "E\\left[\\epsilon^D_{k,j}\\right] = 0\\\\\n",
    "E\\left[B^D_{k,j}\\epsilon^D_{k,j}\\right] = 0\\\\\n",
    "E\\left[t_{k,j}\\epsilon^D_{k,j}\\right] = 0\\\\\n",
    "E\\left[l_{k,j}\\epsilon^D_{k,j}\\right] = 0\n",
    "$$"
   ]
  },
  {
   "cell_type": "markdown",
   "id": "6dfca991-11ea-4c9e-ac39-e786972134d4",
   "metadata": {
    "slideshow": {
     "slide_type": "slide"
    },
    "tags": []
   },
   "source": [
    "## Estimation: supply moment conditions\n",
    "\n",
    "$$\\hat{c}_{k,j} = \\gamma_0 + \\gamma_1 B^S_{k,j} + \\gamma_2 t_{k,j} + \\gamma_3 l_{k,j} + \\gamma_4 \\xi^S_k +\\epsilon^S_{k,j} \\quad (3)$$\n",
    "\n",
    "Again, we have unobserved characteristics that affect cost. However, endogeneity is less of a concern here if we consider this sector to be a small part of the economy:\n",
    "- Prices for steel and labor clear on much bigger markets, thus decisions of product characteristics are unlikely to affect their prices\n",
    "\n",
    "For this reason, we can more reasonably assume that $E[t_{k,j}\\epsilon^S_{k,j}]=0$, $E[l_{k,j}\\epsilon^S_{k,j}]=0$, and $E[B^S_{k,j}\\epsilon^S_{k,j}]=0$"
   ]
  },
  {
   "cell_type": "markdown",
   "id": "31c8555d-b4c4-4983-9f13-beb52cdfd7c4",
   "metadata": {
    "slideshow": {
     "slide_type": "slide"
    },
    "tags": []
   },
   "source": [
    "## Estimation: supply moment conditions\n",
    "\n",
    "So we rewrite our supply estimating equation as\n",
    "\n",
    "$$\\hat{c}_{k,j} = \\gamma_0 + \\gamma_1 B^S_{k,j} + \\gamma_2 t_{k,j} + \\gamma_3 l_{k,j} + \\epsilon^S_{k,j} = \\theta^S X^S_{k,j} + \\epsilon^S_{k,j} \\quad (5)$$\n",
    "\n",
    "where \n",
    "- $\\theta^S$ is the parameter column vector $[\\gamma_0 \\; \\gamma_1 \\; \\gamma_2 \\; \\gamma_3]^T$\n",
    "- $X^S$ is the row vector $[1 \\; B^S_{k,j} \\;t_{k,j} \\;l_{k,j}]$, with $B^S_{k,j}$ being a dummy variable receiving 1 for product b ($k=b$) or 0 otherwise"
   ]
  },
  {
   "cell_type": "markdown",
   "id": "68bd42b1-3e26-4afb-bfad-cfffde50f9f2",
   "metadata": {
    "slideshow": {
     "slide_type": "fragment"
    },
    "tags": []
   },
   "source": [
    "Since $X^S$ are instruments for themselves (and note that $X^S_{k,j} = Z_{k,j}$, we can construct supply moment conditions\n",
    "$$E\\left[Z^T_{k,j}\\epsilon^S_{k,j}\\right] = 0$$\n",
    "\n",
    "Q: How many moment conditions do we have here?"
   ]
  },
  {
   "cell_type": "markdown",
   "id": "3f375a8c-8d9d-4fe8-ae8c-c7f9e063b83e",
   "metadata": {
    "slideshow": {
     "slide_type": "slide"
    },
    "tags": []
   },
   "source": [
    "## Estimation: demand moment conditions\n",
    "\n",
    "A: Again, we have **four moment** conditions, now from the supply side"
   ]
  },
  {
   "cell_type": "markdown",
   "id": "90f882d0-9013-44ab-8686-bf8332e08952",
   "metadata": {},
   "source": [
    "$$\n",
    "E\\left[\\epsilon^S_{k,j}\\right] = 0\\\\\n",
    "E\\left[B^S_{k,j}\\epsilon^S_{k,j}\\right] = 0\\\\\n",
    "E\\left[t_{k,j}\\epsilon^S_{k,j}\\right] = 0\\\\\n",
    "E\\left[l_{k,j}\\epsilon^S_{k,j}\\right] = 0\n",
    "$$"
   ]
  },
  {
   "cell_type": "markdown",
   "id": "a23d0171-b709-4c32-9b1f-d866d0a96027",
   "metadata": {
    "slideshow": {
     "slide_type": "slide"
    },
    "tags": []
   },
   "source": [
    "## Your turn!\n",
    "\n",
    "Enough talk, let's work! The data for this exercise are in file `shares_data.csv`\n",
    "\n",
    "1. Using these 8 moment conditions, joinly estimate parameter vector $\\theta = [\\theta^D, \\theta^S]$ with GMM\n",
    "2. Using your estimate $\\hat{\\alpha}$, predict marginal costs (equation 2) and calculate the average Lerner index for each model: $\\hat{L}_k = \\frac{1}{N} \\sum_{j=1}^N \\frac{p_{k,j} - \\hat{c}_{k,j}}{p_{k,j}}$\n",
    "\n",
    "Here are a few steps to get you started"
   ]
  },
  {
   "cell_type": "markdown",
   "id": "e511b331-4d7b-487b-89fc-175c8540cac4",
   "metadata": {
    "slideshow": {
     "slide_type": "slide"
    },
    "tags": []
   },
   "source": [
    "## Loading and preparing the data"
   ]
  },
  {
   "cell_type": "code",
   "execution_count": 1,
   "id": "cab4f3e3-3ab1-4427-a68b-c9a40d7da955",
   "metadata": {},
   "outputs": [
    {
     "data": {
      "text/html": [
       "<div class=\"data-frame\"><p>600 rows × 7 columns</p><table class=\"data-frame\"><thead><tr><th></th><th>MarketID</th><th>s_k</th><th>p_k</th><th>s_0</th><th>steel</th><th>labor</th><th>product</th></tr><tr><th></th><th title=\"Int64\">Int64</th><th title=\"Float64\">Float64</th><th title=\"Float64\">Float64</th><th title=\"Float64\">Float64</th><th title=\"Float64\">Float64</th><th title=\"Float64\">Float64</th><th title=\"String1\">String1</th></tr></thead><tbody><tr><th>1</th><td>1</td><td>0.0485396</td><td>33.96</td><td>0.878173</td><td>8.95</td><td>20.68</td><td>a</td></tr><tr><th>2</th><td>1</td><td>0.0732874</td><td>33.53</td><td>0.878173</td><td>8.95</td><td>20.68</td><td>b</td></tr><tr><th>3</th><td>2</td><td>0.0492018</td><td>34.06</td><td>0.866904</td><td>8.45</td><td>22.02</td><td>a</td></tr><tr><th>4</th><td>2</td><td>0.0838941</td><td>33.18</td><td>0.866904</td><td>8.45</td><td>22.02</td><td>b</td></tr><tr><th>5</th><td>3</td><td>0.0566908</td><td>33.2689</td><td>0.850551</td><td>7.43</td><td>21.96</td><td>a</td></tr><tr><th>6</th><td>3</td><td>0.0927581</td><td>33.6889</td><td>0.850551</td><td>7.43</td><td>21.96</td><td>b</td></tr><tr><th>7</th><td>4</td><td>0.0590058</td><td>33.8089</td><td>0.858772</td><td>7.93</td><td>21.73</td><td>a</td></tr><tr><th>8</th><td>4</td><td>0.0822226</td><td>33.5989</td><td>0.858772</td><td>7.93</td><td>21.73</td><td>b</td></tr><tr><th>9</th><td>5</td><td>0.0742836</td><td>31.94</td><td>0.831041</td><td>7.61</td><td>21.9</td><td>a</td></tr><tr><th>10</th><td>5</td><td>0.0946749</td><td>32.92</td><td>0.831041</td><td>7.61</td><td>21.9</td><td>b</td></tr><tr><th>11</th><td>6</td><td>0.0705296</td><td>32.79</td><td>0.845203</td><td>7.07</td><td>22.43</td><td>a</td></tr><tr><th>12</th><td>6</td><td>0.0842672</td><td>32.89</td><td>0.845203</td><td>7.07</td><td>22.43</td><td>b</td></tr><tr><th>13</th><td>7</td><td>0.0551974</td><td>32.49</td><td>0.88366</td><td>8.07</td><td>21.25</td><td>a</td></tr><tr><th>14</th><td>7</td><td>0.0611427</td><td>32.97</td><td>0.88366</td><td>8.07</td><td>21.25</td><td>b</td></tr><tr><th>15</th><td>8</td><td>0.0489004</td><td>34.26</td><td>0.872733</td><td>8.38</td><td>22.36</td><td>a</td></tr><tr><th>16</th><td>8</td><td>0.0783665</td><td>33.92</td><td>0.872733</td><td>8.38</td><td>22.36</td><td>b</td></tr><tr><th>17</th><td>9</td><td>0.0573168</td><td>33.7994</td><td>0.861865</td><td>7.97</td><td>22.49</td><td>a</td></tr><tr><th>18</th><td>9</td><td>0.0808183</td><td>34.5494</td><td>0.861865</td><td>7.97</td><td>22.49</td><td>b</td></tr><tr><th>19</th><td>10</td><td>0.0477127</td><td>34.03</td><td>0.894306</td><td>9.27</td><td>21.15</td><td>a</td></tr><tr><th>20</th><td>10</td><td>0.0579813</td><td>33.77</td><td>0.894306</td><td>9.27</td><td>21.15</td><td>b</td></tr><tr><th>21</th><td>11</td><td>0.0777428</td><td>34.65</td><td>0.87268</td><td>8.95</td><td>22.36</td><td>a</td></tr><tr><th>22</th><td>11</td><td>0.0495767</td><td>35.2</td><td>0.87268</td><td>8.95</td><td>22.36</td><td>b</td></tr><tr><th>23</th><td>12</td><td>0.0531182</td><td>32.74</td><td>0.875014</td><td>7.56</td><td>22.92</td><td>a</td></tr><tr><th>24</th><td>12</td><td>0.0718681</td><td>33.33</td><td>0.875014</td><td>7.56</td><td>22.92</td><td>b</td></tr><tr><th>&vellip;</th><td>&vellip;</td><td>&vellip;</td><td>&vellip;</td><td>&vellip;</td><td>&vellip;</td><td>&vellip;</td><td>&vellip;</td></tr></tbody></table></div>"
      ],
      "text/latex": [
       "\\begin{tabular}{r|ccccccc}\n",
       "\t& MarketID & s\\_k & p\\_k & s\\_0 & steel & labor & product\\\\\n",
       "\t\\hline\n",
       "\t& Int64 & Float64 & Float64 & Float64 & Float64 & Float64 & String1\\\\\n",
       "\t\\hline\n",
       "\t1 & 1 & 0.0485396 & 33.96 & 0.878173 & 8.95 & 20.68 & a \\\\\n",
       "\t2 & 1 & 0.0732874 & 33.53 & 0.878173 & 8.95 & 20.68 & b \\\\\n",
       "\t3 & 2 & 0.0492018 & 34.06 & 0.866904 & 8.45 & 22.02 & a \\\\\n",
       "\t4 & 2 & 0.0838941 & 33.18 & 0.866904 & 8.45 & 22.02 & b \\\\\n",
       "\t5 & 3 & 0.0566908 & 33.2689 & 0.850551 & 7.43 & 21.96 & a \\\\\n",
       "\t6 & 3 & 0.0927581 & 33.6889 & 0.850551 & 7.43 & 21.96 & b \\\\\n",
       "\t7 & 4 & 0.0590058 & 33.8089 & 0.858772 & 7.93 & 21.73 & a \\\\\n",
       "\t8 & 4 & 0.0822226 & 33.5989 & 0.858772 & 7.93 & 21.73 & b \\\\\n",
       "\t9 & 5 & 0.0742836 & 31.94 & 0.831041 & 7.61 & 21.9 & a \\\\\n",
       "\t10 & 5 & 0.0946749 & 32.92 & 0.831041 & 7.61 & 21.9 & b \\\\\n",
       "\t11 & 6 & 0.0705296 & 32.79 & 0.845203 & 7.07 & 22.43 & a \\\\\n",
       "\t12 & 6 & 0.0842672 & 32.89 & 0.845203 & 7.07 & 22.43 & b \\\\\n",
       "\t13 & 7 & 0.0551974 & 32.49 & 0.88366 & 8.07 & 21.25 & a \\\\\n",
       "\t14 & 7 & 0.0611427 & 32.97 & 0.88366 & 8.07 & 21.25 & b \\\\\n",
       "\t15 & 8 & 0.0489004 & 34.26 & 0.872733 & 8.38 & 22.36 & a \\\\\n",
       "\t16 & 8 & 0.0783665 & 33.92 & 0.872733 & 8.38 & 22.36 & b \\\\\n",
       "\t17 & 9 & 0.0573168 & 33.7994 & 0.861865 & 7.97 & 22.49 & a \\\\\n",
       "\t18 & 9 & 0.0808183 & 34.5494 & 0.861865 & 7.97 & 22.49 & b \\\\\n",
       "\t19 & 10 & 0.0477127 & 34.03 & 0.894306 & 9.27 & 21.15 & a \\\\\n",
       "\t20 & 10 & 0.0579813 & 33.77 & 0.894306 & 9.27 & 21.15 & b \\\\\n",
       "\t21 & 11 & 0.0777428 & 34.65 & 0.87268 & 8.95 & 22.36 & a \\\\\n",
       "\t22 & 11 & 0.0495767 & 35.2 & 0.87268 & 8.95 & 22.36 & b \\\\\n",
       "\t23 & 12 & 0.0531182 & 32.74 & 0.875014 & 7.56 & 22.92 & a \\\\\n",
       "\t24 & 12 & 0.0718681 & 33.33 & 0.875014 & 7.56 & 22.92 & b \\\\\n",
       "\t$\\dots$ & $\\dots$ & $\\dots$ & $\\dots$ & $\\dots$ & $\\dots$ & $\\dots$ & $\\dots$ \\\\\n",
       "\\end{tabular}\n"
      ],
      "text/plain": [
       "\u001b[1m600×7 DataFrame\u001b[0m\n",
       "\u001b[1m Row \u001b[0m│\u001b[1m MarketID \u001b[0m\u001b[1m s_k       \u001b[0m\u001b[1m p_k     \u001b[0m\u001b[1m s_0      \u001b[0m\u001b[1m steel   \u001b[0m\u001b[1m labor   \u001b[0m\u001b[1m product \u001b[0m\n",
       "\u001b[1m     \u001b[0m│\u001b[90m Int64    \u001b[0m\u001b[90m Float64   \u001b[0m\u001b[90m Float64 \u001b[0m\u001b[90m Float64  \u001b[0m\u001b[90m Float64 \u001b[0m\u001b[90m Float64 \u001b[0m\u001b[90m String1 \u001b[0m\n",
       "─────┼───────────────────────────────────────────────────────────────────\n",
       "   1 │        1  0.0485396  33.96    0.878173     8.95    20.68  a\n",
       "   2 │        1  0.0732874  33.53    0.878173     8.95    20.68  b\n",
       "   3 │        2  0.0492018  34.06    0.866904     8.45    22.02  a\n",
       "   4 │        2  0.0838941  33.18    0.866904     8.45    22.02  b\n",
       "   5 │        3  0.0566908  33.2689  0.850551     7.43    21.96  a\n",
       "   6 │        3  0.0927581  33.6889  0.850551     7.43    21.96  b\n",
       "   7 │        4  0.0590058  33.8089  0.858772     7.93    21.73  a\n",
       "   8 │        4  0.0822226  33.5989  0.858772     7.93    21.73  b\n",
       "  ⋮  │    ⋮          ⋮         ⋮        ⋮         ⋮        ⋮        ⋮\n",
       " 594 │      297  0.0780094  34.2     0.879895     8.8     21.4   b\n",
       " 595 │      298  0.0511895  32.82    0.889502     7.58    22.69  a\n",
       " 596 │      298  0.0593084  33.08    0.889502     7.58    22.69  b\n",
       " 597 │      299  0.0444908  32.2124  0.853515     5.77    22.51  a\n",
       " 598 │      299  0.101994   33.0624  0.853515     5.77    22.51  b\n",
       " 599 │      300  0.0519875  32.51    0.883968     7.62    22.39  a\n",
       " 600 │      300  0.0640441  33.33    0.883968     7.62    22.39  b\n",
       "\u001b[36m                                                         585 rows omitted\u001b[0m"
      ]
     },
     "metadata": {},
     "output_type": "display_data"
    }
   ],
   "source": [
    "using DataFrames, CSV\n",
    "df = CSV.read(\"shares_data.csv\", DataFrame)"
   ]
  },
  {
   "cell_type": "markdown",
   "id": "57ea4e70-af0e-41be-bf4a-52cd8dac5ed4",
   "metadata": {
    "slideshow": {
     "slide_type": "slide"
    },
    "tags": []
   },
   "source": [
    "## Loading and preparing the data\n",
    "\n",
    "This data set already includes $s_0$ calculated for you. Let's get $N$ and generate\n",
    "- $log(s_{k,j}) - log(s_{0,j})$\n",
    "- $B_{k,j}$"
   ]
  },
  {
   "cell_type": "code",
   "execution_count": 2,
   "id": "f40db23b-88cc-457d-b718-cf7fc2730f1b",
   "metadata": {},
   "outputs": [
    {
     "data": {
      "text/html": [
       "<div class=\"data-frame\"><p>600 rows × 9 columns (omitted printing of 1 columns)</p><table class=\"data-frame\"><thead><tr><th></th><th>MarketID</th><th>s_k</th><th>p_k</th><th>s_0</th><th>steel</th><th>labor</th><th>product</th><th>logsk_logs0</th></tr><tr><th></th><th title=\"Int64\">Int64</th><th title=\"Float64\">Float64</th><th title=\"Float64\">Float64</th><th title=\"Float64\">Float64</th><th title=\"Float64\">Float64</th><th title=\"Float64\">Float64</th><th title=\"String1\">String1</th><th title=\"Float64\">Float64</th></tr></thead><tbody><tr><th>1</th><td>1</td><td>0.0485396</td><td>33.96</td><td>0.878173</td><td>8.95</td><td>20.68</td><td>a</td><td>-2.89546</td></tr><tr><th>2</th><td>1</td><td>0.0732874</td><td>33.53</td><td>0.878173</td><td>8.95</td><td>20.68</td><td>b</td><td>-2.48346</td></tr><tr><th>3</th><td>2</td><td>0.0492018</td><td>34.06</td><td>0.866904</td><td>8.45</td><td>22.02</td><td>a</td><td>-2.869</td></tr><tr><th>4</th><td>2</td><td>0.0838941</td><td>33.18</td><td>0.866904</td><td>8.45</td><td>22.02</td><td>b</td><td>-2.33537</td></tr><tr><th>5</th><td>3</td><td>0.0566908</td><td>33.2689</td><td>0.850551</td><td>7.43</td><td>21.96</td><td>a</td><td>-2.70827</td></tr><tr><th>6</th><td>3</td><td>0.0927581</td><td>33.6889</td><td>0.850551</td><td>7.43</td><td>21.96</td><td>b</td><td>-2.21589</td></tr><tr><th>7</th><td>4</td><td>0.0590058</td><td>33.8089</td><td>0.858772</td><td>7.93</td><td>21.73</td><td>a</td><td>-2.67787</td></tr><tr><th>8</th><td>4</td><td>0.0822226</td><td>33.5989</td><td>0.858772</td><td>7.93</td><td>21.73</td><td>b</td><td>-2.34607</td></tr><tr><th>9</th><td>5</td><td>0.0742836</td><td>31.94</td><td>0.831041</td><td>7.61</td><td>21.9</td><td>a</td><td>-2.41479</td></tr><tr><th>10</th><td>5</td><td>0.0946749</td><td>32.92</td><td>0.831041</td><td>7.61</td><td>21.9</td><td>b</td><td>-2.17223</td></tr><tr><th>11</th><td>6</td><td>0.0705296</td><td>32.79</td><td>0.845203</td><td>7.07</td><td>22.43</td><td>a</td><td>-2.48354</td></tr><tr><th>12</th><td>6</td><td>0.0842672</td><td>32.89</td><td>0.845203</td><td>7.07</td><td>22.43</td><td>b</td><td>-2.30558</td></tr><tr><th>13</th><td>7</td><td>0.0551974</td><td>32.49</td><td>0.88366</td><td>8.07</td><td>21.25</td><td>a</td><td>-2.77316</td></tr><tr><th>14</th><td>7</td><td>0.0611427</td><td>32.97</td><td>0.88366</td><td>8.07</td><td>21.25</td><td>b</td><td>-2.67086</td></tr><tr><th>15</th><td>8</td><td>0.0489004</td><td>34.26</td><td>0.872733</td><td>8.38</td><td>22.36</td><td>a</td><td>-2.88184</td></tr><tr><th>16</th><td>8</td><td>0.0783665</td><td>33.92</td><td>0.872733</td><td>8.38</td><td>22.36</td><td>b</td><td>-2.41023</td></tr><tr><th>17</th><td>9</td><td>0.0573168</td><td>33.7994</td><td>0.861865</td><td>7.97</td><td>22.49</td><td>a</td><td>-2.7105</td></tr><tr><th>18</th><td>9</td><td>0.0808183</td><td>34.5494</td><td>0.861865</td><td>7.97</td><td>22.49</td><td>b</td><td>-2.36689</td></tr><tr><th>19</th><td>10</td><td>0.0477127</td><td>34.03</td><td>0.894306</td><td>9.27</td><td>21.15</td><td>a</td><td>-2.93085</td></tr><tr><th>20</th><td>10</td><td>0.0579813</td><td>33.77</td><td>0.894306</td><td>9.27</td><td>21.15</td><td>b</td><td>-2.73593</td></tr><tr><th>21</th><td>11</td><td>0.0777428</td><td>34.65</td><td>0.87268</td><td>8.95</td><td>22.36</td><td>a</td><td>-2.41816</td></tr><tr><th>22</th><td>11</td><td>0.0495767</td><td>35.2</td><td>0.87268</td><td>8.95</td><td>22.36</td><td>b</td><td>-2.86805</td></tr><tr><th>23</th><td>12</td><td>0.0531182</td><td>32.74</td><td>0.875014</td><td>7.56</td><td>22.92</td><td>a</td><td>-2.80172</td></tr><tr><th>24</th><td>12</td><td>0.0718681</td><td>33.33</td><td>0.875014</td><td>7.56</td><td>22.92</td><td>b</td><td>-2.49941</td></tr><tr><th>&vellip;</th><td>&vellip;</td><td>&vellip;</td><td>&vellip;</td><td>&vellip;</td><td>&vellip;</td><td>&vellip;</td><td>&vellip;</td><td>&vellip;</td></tr></tbody></table></div>"
      ],
      "text/latex": [
       "\\begin{tabular}{r|ccccccccc}\n",
       "\t& MarketID & s\\_k & p\\_k & s\\_0 & steel & labor & product & logsk\\_logs0 & \\\\\n",
       "\t\\hline\n",
       "\t& Int64 & Float64 & Float64 & Float64 & Float64 & Float64 & String1 & Float64 & \\\\\n",
       "\t\\hline\n",
       "\t1 & 1 & 0.0485396 & 33.96 & 0.878173 & 8.95 & 20.68 & a & -2.89546 & $\\dots$ \\\\\n",
       "\t2 & 1 & 0.0732874 & 33.53 & 0.878173 & 8.95 & 20.68 & b & -2.48346 & $\\dots$ \\\\\n",
       "\t3 & 2 & 0.0492018 & 34.06 & 0.866904 & 8.45 & 22.02 & a & -2.869 & $\\dots$ \\\\\n",
       "\t4 & 2 & 0.0838941 & 33.18 & 0.866904 & 8.45 & 22.02 & b & -2.33537 & $\\dots$ \\\\\n",
       "\t5 & 3 & 0.0566908 & 33.2689 & 0.850551 & 7.43 & 21.96 & a & -2.70827 & $\\dots$ \\\\\n",
       "\t6 & 3 & 0.0927581 & 33.6889 & 0.850551 & 7.43 & 21.96 & b & -2.21589 & $\\dots$ \\\\\n",
       "\t7 & 4 & 0.0590058 & 33.8089 & 0.858772 & 7.93 & 21.73 & a & -2.67787 & $\\dots$ \\\\\n",
       "\t8 & 4 & 0.0822226 & 33.5989 & 0.858772 & 7.93 & 21.73 & b & -2.34607 & $\\dots$ \\\\\n",
       "\t9 & 5 & 0.0742836 & 31.94 & 0.831041 & 7.61 & 21.9 & a & -2.41479 & $\\dots$ \\\\\n",
       "\t10 & 5 & 0.0946749 & 32.92 & 0.831041 & 7.61 & 21.9 & b & -2.17223 & $\\dots$ \\\\\n",
       "\t11 & 6 & 0.0705296 & 32.79 & 0.845203 & 7.07 & 22.43 & a & -2.48354 & $\\dots$ \\\\\n",
       "\t12 & 6 & 0.0842672 & 32.89 & 0.845203 & 7.07 & 22.43 & b & -2.30558 & $\\dots$ \\\\\n",
       "\t13 & 7 & 0.0551974 & 32.49 & 0.88366 & 8.07 & 21.25 & a & -2.77316 & $\\dots$ \\\\\n",
       "\t14 & 7 & 0.0611427 & 32.97 & 0.88366 & 8.07 & 21.25 & b & -2.67086 & $\\dots$ \\\\\n",
       "\t15 & 8 & 0.0489004 & 34.26 & 0.872733 & 8.38 & 22.36 & a & -2.88184 & $\\dots$ \\\\\n",
       "\t16 & 8 & 0.0783665 & 33.92 & 0.872733 & 8.38 & 22.36 & b & -2.41023 & $\\dots$ \\\\\n",
       "\t17 & 9 & 0.0573168 & 33.7994 & 0.861865 & 7.97 & 22.49 & a & -2.7105 & $\\dots$ \\\\\n",
       "\t18 & 9 & 0.0808183 & 34.5494 & 0.861865 & 7.97 & 22.49 & b & -2.36689 & $\\dots$ \\\\\n",
       "\t19 & 10 & 0.0477127 & 34.03 & 0.894306 & 9.27 & 21.15 & a & -2.93085 & $\\dots$ \\\\\n",
       "\t20 & 10 & 0.0579813 & 33.77 & 0.894306 & 9.27 & 21.15 & b & -2.73593 & $\\dots$ \\\\\n",
       "\t21 & 11 & 0.0777428 & 34.65 & 0.87268 & 8.95 & 22.36 & a & -2.41816 & $\\dots$ \\\\\n",
       "\t22 & 11 & 0.0495767 & 35.2 & 0.87268 & 8.95 & 22.36 & b & -2.86805 & $\\dots$ \\\\\n",
       "\t23 & 12 & 0.0531182 & 32.74 & 0.875014 & 7.56 & 22.92 & a & -2.80172 & $\\dots$ \\\\\n",
       "\t24 & 12 & 0.0718681 & 33.33 & 0.875014 & 7.56 & 22.92 & b & -2.49941 & $\\dots$ \\\\\n",
       "\t$\\dots$ & $\\dots$ & $\\dots$ & $\\dots$ & $\\dots$ & $\\dots$ & $\\dots$ & $\\dots$ & $\\dots$ &  \\\\\n",
       "\\end{tabular}\n"
      ],
      "text/plain": [
       "\u001b[1m600×9 DataFrame\u001b[0m\n",
       "\u001b[1m Row \u001b[0m│\u001b[1m MarketID \u001b[0m\u001b[1m s_k       \u001b[0m\u001b[1m p_k     \u001b[0m\u001b[1m s_0      \u001b[0m\u001b[1m steel   \u001b[0m\u001b[1m labor   \u001b[0m\u001b[1m product \u001b[0m\u001b[1m logs\u001b[0m ⋯\n",
       "\u001b[1m     \u001b[0m│\u001b[90m Int64    \u001b[0m\u001b[90m Float64   \u001b[0m\u001b[90m Float64 \u001b[0m\u001b[90m Float64  \u001b[0m\u001b[90m Float64 \u001b[0m\u001b[90m Float64 \u001b[0m\u001b[90m String1 \u001b[0m\u001b[90m Floa\u001b[0m ⋯\n",
       "─────┼──────────────────────────────────────────────────────────────────────────\n",
       "   1 │        1  0.0485396  33.96    0.878173     8.95    20.68  a           - ⋯\n",
       "   2 │        1  0.0732874  33.53    0.878173     8.95    20.68  b           -\n",
       "   3 │        2  0.0492018  34.06    0.866904     8.45    22.02  a           -\n",
       "   4 │        2  0.0838941  33.18    0.866904     8.45    22.02  b           -\n",
       "   5 │        3  0.0566908  33.2689  0.850551     7.43    21.96  a           - ⋯\n",
       "   6 │        3  0.0927581  33.6889  0.850551     7.43    21.96  b           -\n",
       "   7 │        4  0.0590058  33.8089  0.858772     7.93    21.73  a           -\n",
       "   8 │        4  0.0822226  33.5989  0.858772     7.93    21.73  b           -\n",
       "  ⋮  │    ⋮          ⋮         ⋮        ⋮         ⋮        ⋮        ⋮          ⋱\n",
       " 594 │      297  0.0780094  34.2     0.879895     8.8     21.4   b           - ⋯\n",
       " 595 │      298  0.0511895  32.82    0.889502     7.58    22.69  a           -\n",
       " 596 │      298  0.0593084  33.08    0.889502     7.58    22.69  b           -\n",
       " 597 │      299  0.0444908  32.2124  0.853515     5.77    22.51  a           -\n",
       " 598 │      299  0.101994   33.0624  0.853515     5.77    22.51  b           - ⋯\n",
       " 599 │      300  0.0519875  32.51    0.883968     7.62    22.39  a           -\n",
       " 600 │      300  0.0640441  33.33    0.883968     7.62    22.39  b           -\n",
       "\u001b[36m                                                  2 columns and 585 rows omitted\u001b[0m"
      ]
     },
     "metadata": {},
     "output_type": "display_data"
    }
   ],
   "source": [
    "N = nrow(df)\n",
    "df.logsk_logs0 = log.(df.s_k) - log.(df.s_0);\n",
    "df.is_B = (df.product .== \"b\");\n",
    "df"
   ]
  },
  {
   "cell_type": "markdown",
   "id": "19909cb8-03c9-4fd1-886c-f79bedc29fdc",
   "metadata": {
    "slideshow": {
     "slide_type": "slide"
    },
    "tags": []
   },
   "source": [
    "## Loading and preparing the data\n",
    "\n",
    "It might also be useful to prepare matrices $X$ and $Z$"
   ]
  },
  {
   "cell_type": "code",
   "execution_count": 3,
   "id": "0687f2ab-4877-42c1-84b8-769d56e6aa39",
   "metadata": {},
   "outputs": [],
   "source": [
    "X = [ones(N) df.p_k df.is_B];\n",
    "Z = [ones(N) df.is_B df.steel df.labor];"
   ]
  },
  {
   "cell_type": "markdown",
   "id": "c710d13a-c7b0-41a1-88f1-21816c4f44d8",
   "metadata": {
    "slideshow": {
     "slide_type": "slide"
    },
    "tags": []
   },
   "source": [
    "## Moment conditions function\n",
    "\n",
    "Program function `g_i(theta)` that receives parameter vector $\\theta$ and returns the eight moment conditions for all observations ($N \\times 8$ matrix). Here is a way to structure it"
   ]
  },
  {
   "cell_type": "code",
   "execution_count": 4,
   "id": "be6737af-4194-4c16-bff5-726531044ff9",
   "metadata": {},
   "outputs": [
    {
     "data": {
      "text/plain": [
       "g_i (generic function with 1 method)"
      ]
     },
     "metadata": {},
     "output_type": "display_data"
    }
   ],
   "source": [
    "function g_i(theta::AbstractVector{T}) where T\n",
    "    # DEMAND SIDE\n",
    "    theta_d = theta[1:3] # demand parameters\n",
    "    # Epsilons for demand side\n",
    "    e_d = df.logsk_logs0 - (X * theta_d) \n",
    "    # Moment conditions for demand side\n",
    "    # REPLACE THIS LINE <m_di = ... >\n",
    "\n",
    "    # SUPPLY SIDE\n",
    "    # Costs\n",
    "    alpha = -theta[2] # we need it to estimate marginal costs\n",
    "    c_k = df.p_k - 1/alpha .* 1 ./(1 .- df.s_k)\n",
    "\n",
    "    theta_s = theta[4:7] # supply parameters\n",
    "    # Epsilons for supply side\n",
    "    e_s = c_k - (Z * theta_s)\n",
    "    # Moment conditions for supply side\n",
    "    # # REPLACE THIS LINE <m_si = ...>\n",
    "  \n",
    "    # Return matrices side by side (N x M)\n",
    "    return([m_di m_si])\n",
    "end"
   ]
  },
  {
   "cell_type": "markdown",
   "id": "68eebbf2-73e7-40ec-96f6-673d1bd61371",
   "metadata": {
    "slideshow": {
     "slide_type": "slide"
    },
    "tags": []
   },
   "source": [
    "## GMM estimation\n",
    "\n",
    "With function `g_i(theta)`, you can use `Optim` package to minimize objective function `Q(theta)` "
   ]
  },
  {
   "cell_type": "code",
   "execution_count": 5,
   "id": "4b043cf9-40bf-49e3-a285-8c0df80eb6b1",
   "metadata": {},
   "outputs": [
    {
     "data": {
      "text/plain": [
       "Q (generic function with 1 method)"
      ]
     },
     "metadata": {},
     "output_type": "display_data"
    }
   ],
   "source": [
    "using LinearAlgebra\n",
    "M = 8\n",
    "W = I(M) # Identity Matrix\n",
    "function Q(theta)\n",
    "    # Get moment vectors\n",
    "    m_i = g_i(theta)\n",
    "    # Take means of each column\n",
    "    G = [sum(m_i[:, k]) for k in 1:M] ./ N\n",
    "    # Calculate Q    \n",
    "    # REPLACE THIS LINE <...> \n",
    "end"
   ]
  },
  {
   "cell_type": "markdown",
   "id": "24f80398-7603-4e14-af1a-8bc7a172e26e",
   "metadata": {
    "slideshow": {
     "slide_type": "slide"
    },
    "tags": []
   },
   "source": [
    "## GMM estimation\n",
    "- For the first step, use $W$ as the identity matrix and find estimate `theta_1`\n",
    "- For the second step, $\\hat{W}=(\\hat{S})^{-1}$. So, you will need to calculate \n",
    "$$\\hat{S} = E[g_i(\\hat{\\theta}_1)^T g_i(\\hat{\\theta}_1)]$$"
   ]
  },
  {
   "attachments": {},
   "cell_type": "markdown",
   "id": "c74eb58c-8427-4a4f-b6ff-62fedf2134a5",
   "metadata": {
    "slideshow": {
     "slide_type": "slide"
    },
    "tags": []
   },
   "source": [
    "## GMM estimation: initial guess\n",
    "\n",
    "Given the dimensionality of the problem it's a good idea to start with a reasonable initial guess \n",
    "- Let's use OLS to get an initial guess for $\\theta^D$\n",
    "- Let's guess $\\gamma_0$ as the minimum price and set 0.1 for the other parameters (we expect them to be positive)"
   ]
  },
  {
   "cell_type": "code",
   "execution_count": 6,
   "id": "42fcdeab-b6dc-4825-991e-4236509fe53d",
   "metadata": {},
   "outputs": [
    {
     "data": {
      "text/plain": [
       "7-element Vector{Float64}:\n",
       "  0.31506305791962314\n",
       " -0.0928458769023904\n",
       "  0.3630065729084741\n",
       " 30.53116385673067\n",
       "  0.1\n",
       "  0.1\n",
       "  0.1"
      ]
     },
     "metadata": {},
     "output_type": "display_data"
    }
   ],
   "source": [
    "using GLM\n",
    "ols_reg = lm(@formula(logsk_logs0 ~ 1 + p_k + is_B), df)\n",
    "theta_0 = [coef(ols_reg); minimum(df.p_k); ones(3)./10]"
   ]
  },
  {
   "cell_type": "markdown",
   "id": "9d397884-bdc2-4cc7-9c5b-333bee84bc0f",
   "metadata": {
    "slideshow": {
     "slide_type": "slide"
    },
    "tags": []
   },
   "source": [
    "## GMM estimation: first step"
   ]
  },
  {
   "cell_type": "code",
   "execution_count": 7,
   "id": "fd375a07-49e7-4af1-a297-497a8888d41d",
   "metadata": {},
   "outputs": [
    {
     "data": {
      "text/plain": [
       "7-element Vector{Float64}:\n",
       "  1.3167934612005487\n",
       " -0.1228198715837184\n",
       "  0.3726111117323415\n",
       "  6.90249208813232\n",
       "  0.15417544082557208\n",
       "  0.9851256773142594\n",
       "  0.45457665443993567"
      ]
     },
     "metadata": {},
     "output_type": "display_data"
    }
   ],
   "source": [
    "# Step 1\n",
    "using Optim\n",
    "res = Optim.optimize(Q, theta_0, Newton(), Optim.Options(f_abstol=1e-10, g_abstol=0.0, g_reltol=0.0))\n",
    "theta_1 =  res.minimizer"
   ]
  },
  {
   "cell_type": "code",
   "execution_count": 8,
   "id": "7dfdf97d-cb2b-4363-b714-0a2591594cbb",
   "metadata": {},
   "outputs": [
    {
     "data": {
      "text/plain": [
       "8×8 Matrix{Float64}:\n",
       " 22262.9       -9.34389   -315.713     …  -40.593     -1.72596    22.5192\n",
       "    -9.34389  139.505       -6.33642       -5.44452    0.276477    0.435557\n",
       "  -315.713     -6.33642     34.9919         1.64377   -0.623417    0.197342\n",
       "  -893.464     -0.556555     1.81941        1.24632    0.298785   -1.09934\n",
       "  -472.364    -11.7318       0.257378       2.28337   -5.31538   -29.8727\n",
       "   -40.593     -5.44452      1.64377   …    5.88747   -0.14891    -0.166385\n",
       "    -1.72596    0.276477    -0.623417      -0.14891    1.2495     -0.185561\n",
       "    22.5192     0.435557     0.197342      -0.166385  -0.185561    1.4342"
      ]
     },
     "metadata": {},
     "output_type": "display_data"
    }
   ],
   "source": [
    "# Calculate W_hat\n",
    "# REPLACE THIS LINE <W = inv(... >"
   ]
  },
  {
   "cell_type": "markdown",
   "id": "330f3102-f7d8-45bd-9aec-096c620217e5",
   "metadata": {
    "slideshow": {
     "slide_type": "slide"
    },
    "tags": []
   },
   "source": [
    "## GMM estimation: second step"
   ]
  },
  {
   "cell_type": "code",
   "execution_count": 9,
   "id": "a72f0416-eafb-40bf-bd72-bdb0246c0a17",
   "metadata": {},
   "outputs": [
    {
     "data": {
      "text/plain": [
       "7-element Vector{Float64}:\n",
       "  1.0199256974273108\n",
       " -0.11397815604348306\n",
       "  0.3710074786956938\n",
       "  6.290279356119901\n",
       "  0.14020424544797908\n",
       "  0.9924727694197776\n",
       "  0.4493242201423294"
      ]
     },
     "metadata": {},
     "output_type": "display_data"
    }
   ],
   "source": [
    "# Use step 1 estimates as initial guess\n",
    "res = Optim.optimize(Q, theta_1, Newton(), Optim.Options(f_abstol=1e-10, g_abstol=0.0, g_reltol=0.0))\n",
    "theta_GMM =  res.minimizer"
   ]
  },
  {
   "attachments": {},
   "cell_type": "markdown",
   "id": "c8d69100-d680-43a9-99e8-d9ef47d2e982",
   "metadata": {
    "slideshow": {
     "slide_type": "slide"
    },
    "tags": []
   },
   "source": [
    "## GMM estimation: standard errors\n",
    "Recall \n",
    "$$Var(\\hat{\\theta}_{GMM}) = \\frac{1}{N}(\\hat{D}^\\prime \\hat{S}^{-1} \\hat{D})^{-1}$$\n",
    "where:\n",
    "- $\\hat{D} = E\\left[\\frac{\\partial g_i(z_i; \\hat{\\theta})}{\\partial \\hat{\\theta}^\\prime}\\right]$\n",
    "- $\\hat{S} = E\\left[g_i(z_i; \\hat{\\theta}) g_i(z_i;\\hat{\\theta})^\\prime\\right]$\n",
    "\n",
    "To calculate $\\hat{D}$, it will be useful to define function `Eg` for $E[g_i(z_i; \\hat{\\theta}]$"
   ]
  },
  {
   "cell_type": "code",
   "execution_count": 24,
   "id": "e8c4a781-e40b-4b20-8d50-1dc19e9496c5",
   "metadata": {},
   "outputs": [],
   "source": [
    "function Eg(theta_GMM)\n",
    "    gi = g_i(theta_GMM)\n",
    "    Eg = [sum(gi[:, k]) for k in 1:M] ./ N; # This take means of each column\n",
    "    return Eg\n",
    "end;"
   ]
  },
  {
   "attachments": {},
   "cell_type": "markdown",
   "id": "908ad8d7-36f0-4347-8c79-2332c70949d5",
   "metadata": {},
   "source": [
    "## GMM estimation: standard errors\n",
    "So we calculate\n",
    "- $\\hat{D} = E\\left[\\frac{\\partial g_i(z_i; \\hat{\\theta})}{\\partial \\hat{\\theta}^\\prime}\\right]$\n",
    "- $\\hat{S} = E\\left[g_i(z_i; \\hat{\\theta}) g_i(z_i;\\hat{\\theta})^\\prime\\right]$\n",
    "- $Var(\\hat{\\theta}_{GMM}) = \\frac{1}{N}(\\hat{D}^\\prime \\hat{S}^{-1} \\hat{D})^{-1}$"
   ]
  },
  {
   "cell_type": "code",
   "execution_count": null,
   "id": "46fe57ea-7d03-49da-bd5a-06f81e0b0d7d",
   "metadata": {},
   "outputs": [
    {
     "data": {
      "text/plain": [
       "7×7 Matrix{Float64}:\n",
       "  0.0636808    -0.00190122    0.000430357  …  -0.00155039   -0.000665075\n",
       " -0.00190122    5.68441e-5   -1.56312e-5       4.65384e-5    2.00545e-5\n",
       "  0.000430357  -1.56312e-5    0.000206462     -6.79124e-5   -4.0683e-5\n",
       "  0.181612     -0.00543615    0.00274163      -0.0302212    -0.0483084\n",
       "  0.00562975   -0.000167422   0.000175138      0.000148558   0.000160716\n",
       " -0.00155039    4.65384e-5   -6.79124e-5   …   0.00209994    0.000403963\n",
       " -0.000665075   2.00545e-5   -4.0683e-5        0.000403963   0.00195862"
      ]
     },
     "execution_count": 25,
     "metadata": {},
     "output_type": "execute_result"
    }
   ],
   "source": [
    "using ForwardDiff\n",
    "D_GMM = ForwardDiff.jacobian(Eg, theta_GMM);\n",
    "S_GMM = g_i(theta_GMM)'  * g_i(theta_GMM) ./N;\n",
    "V_GMM = inv(D_GMM' * inv(S_GMM) * D_GMM) ./N"
   ]
  },
  {
   "cell_type": "markdown",
   "id": "a8958c4b-cf90-4e12-819e-d6e81da3bd7b",
   "metadata": {
    "slideshow": {
     "slide_type": "slide"
    },
    "tags": []
   },
   "source": [
    "## GMM estimation: standard errors\n",
    "\n",
    "Having the estimated variance-covariance matrix $\\hat{V}$, we can easily calculate the standard errors of our estimates and 95% confidence intervals"
   ]
  },
  {
   "cell_type": "code",
   "execution_count": 33,
   "id": "cff78810-d9e3-4127-be5b-709ac35271c3",
   "metadata": {},
   "outputs": [
    {
     "data": {
      "text/plain": [
       "7×4 Matrix{Float64}:\n",
       "  1.01993   0.252351    0.525319     1.51453\n",
       " -0.113978  0.0075395  -0.128756    -0.0992007\n",
       "  0.371007  0.0143688   0.342845     0.39917\n",
       "  6.29028   1.32785     3.68769      8.89287\n",
       "  0.140204  0.0741099  -0.00505119   0.28546\n",
       "  0.992473  0.0458251   0.902656     1.08229\n",
       "  0.449324  0.0442563   0.362582     0.536067"
      ]
     },
     "execution_count": 33,
     "metadata": {},
     "output_type": "execute_result"
    }
   ],
   "source": [
    "SE_GMM = sqrt.(diag(V_GMM));\n",
    "[theta_GMM SE_GMM (theta_GMM-1.96*SE_GMM) (theta_GMM+1.96*SE_GMM)]"
   ]
  },
  {
   "cell_type": "markdown",
   "id": "cfa9b13a-302d-40c8-bb57-f4669625fff5",
   "metadata": {
    "slideshow": {
     "slide_type": "slide"
    },
    "tags": []
   },
   "source": [
    "## Marginal cost estimation\n",
    "Now that we have estimated all model parameters, we can pick $\\alpha$ to calculate implied marginal costs"
   ]
  },
  {
   "cell_type": "code",
   "execution_count": 10,
   "id": "92c8d698-5956-4175-a947-652af4849744",
   "metadata": {},
   "outputs": [
    {
     "data": {
      "text/plain": [
       "600-element Vector{Float64}:\n",
       " 24.738795623135914\n",
       " 24.062544181471655\n",
       " 24.832373516777842\n",
       " 23.60292920868719\n",
       " 23.96804478334333\n",
       " 24.01828910485132\n",
       " 24.48508967353134\n",
       " 24.039228021894246\n",
       " 22.46235534622872\n",
       " 23.228883020499666\n",
       "  ⋮\n",
       " 24.4522919411026\n",
       " 24.9708247087463\n",
       " 24.684056116326747\n",
       " 23.57304222168553\n",
       " 23.753233362550105\n",
       " 23.03024376005476\n",
       " 23.29227139103517\n",
       " 23.255258601242673\n",
       " 23.956042729733415"
      ]
     },
     "metadata": {},
     "output_type": "display_data"
    }
   ],
   "source": [
    "alpha_hat = -theta_GMM[2]\n",
    "df.c_k = df.p_k - 1/alpha_hat .* 1 ./(1 .- df.s_k)"
   ]
  },
  {
   "cell_type": "markdown",
   "id": "c5566faf-6323-46c5-9911-c6bcb08a1727",
   "metadata": {
    "slideshow": {
     "slide_type": "slide"
    },
    "tags": []
   },
   "source": [
    "## Marginal cost estimation\n",
    "Let's take a look at the distribution of costs per firm"
   ]
  },
  {
   "cell_type": "code",
   "execution_count": 12,
   "id": "b76e2a20-af66-4972-86c6-986240c89bf0",
   "metadata": {},
   "outputs": [
    {
     "data": {
      "image/png": "[encoded data removed]",
      "image/svg+xml": [
       "<?xml version=\"1.0\" encoding=\"utf-8\"?>\n",
       "<svg xmlns=\"http://www.w3.org/2000/svg\" xmlns:xlink=\"http://www.w3.org/1999/xlink\" width=\"600\" height=\"400\" viewBox=\"0 0 2400 1600\">\n",
       "<defs>\n",
       "  <clipPath id=\"clip930\">\n",
       "    <rect x=\"0\" y=\"0\" width=\"2400\" height=\"1600\"/>\n",
       "  </clipPath>\n",
       "</defs>\n",
       "<path clip-path=\"url(#clip930)\" d=\"\n",
       "M0 1600 L2400 1600 L2400 0 L0 0  Z\n",
       "  \" fill=\"#ffffff\" fill-rule=\"evenodd\" fill-opacity=\"1\"/>\n",
       "<defs>\n",
       "  <clipPath id=\"clip931\">\n",
       "    <rect x=\"480\" y=\"0\" width=\"1681\" height=\"1600\"/>\n",
       "  </clipPath>\n",
       "</defs>\n",
       "<defs>\n",
       "  <clipPath id=\"clip932\">\n",
       "    <rect x=\"1341\" y=\"47\" width=\"1012\" height=\"1440\"/>\n",
       "  </clipPath>\n",
       "</defs>\n",
       "<path clip-path=\"url(#clip930)\" d=\"\n",
       "M141.853 1486.45 L1152.76 1486.45 L1152.76 47.2441 L141.853 47.2441  Z\n",
       "  \" fill=\"#ffffff\" fill-rule=\"evenodd\" fill-opacity=\"1\"/>\n",
       "<defs>\n",
       "  <clipPath id=\"clip933\">\n",
       "    <rect x=\"141\" y=\"47\" width=\"1012\" height=\"1440\"/>\n",
       "  </clipPath>\n",
       "</defs>\n",
       "<polyline clip-path=\"url(#clip933)\" style=\"stroke:#000000; stroke-linecap:butt; stroke-linejoin:round; stroke-width:2; stroke-opacity:0.1; fill:none\" points=\"\n",
       "  325.983,1486.45 325.983,47.2441 \n",
       "  \"/>\n",
       "<polyline clip-path=\"url(#clip933)\" style=\"stroke:#000000; stroke-linecap:butt; stroke-linejoin:round; stroke-width:2; stroke-opacity:0.1; fill:none\" points=\"\n",
       "  583.04,1486.45 583.04,47.2441 \n",
       "  \"/>\n",
       "<polyline clip-path=\"url(#clip933)\" style=\"stroke:#000000; stroke-linecap:butt; stroke-linejoin:round; stroke-width:2; stroke-opacity:0.1; fill:none\" points=\"\n",
       "  840.097,1486.45 840.097,47.2441 \n",
       "  \"/>\n",
       "<polyline clip-path=\"url(#clip933)\" style=\"stroke:#000000; stroke-linecap:butt; stroke-linejoin:round; stroke-width:2; stroke-opacity:0.1; fill:none\" points=\"\n",
       "  1097.15,1486.45 1097.15,47.2441 \n",
       "  \"/>\n",
       "<polyline clip-path=\"url(#clip930)\" style=\"stroke:#000000; stroke-linecap:butt; stroke-linejoin:round; stroke-width:4; stroke-opacity:1; fill:none\" points=\"\n",
       "  141.853,1486.45 1152.76,1486.45 \n",
       "  \"/>\n",
       "<polyline clip-path=\"url(#clip930)\" style=\"stroke:#000000; stroke-linecap:butt; stroke-linejoin:round; stroke-width:4; stroke-opacity:1; fill:none\" points=\"\n",
       "  325.983,1486.45 325.983,1467.55 \n",
       "  \"/>\n",
       "<polyline clip-path=\"url(#clip930)\" style=\"stroke:#000000; stroke-linecap:butt; stroke-linejoin:round; stroke-width:4; stroke-opacity:1; fill:none\" points=\"\n",
       "  583.04,1486.45 583.04,1467.55 \n",
       "  \"/>\n",
       "<polyline clip-path=\"url(#clip930)\" style=\"stroke:#000000; stroke-linecap:butt; stroke-linejoin:round; stroke-width:4; stroke-opacity:1; fill:none\" points=\"\n",
       "  840.097,1486.45 840.097,1467.55 \n",
       "  \"/>\n",
       "<polyline clip-path=\"url(#clip930)\" style=\"stroke:#000000; stroke-linecap:butt; stroke-linejoin:round; stroke-width:4; stroke-opacity:1; fill:none\" points=\"\n",
       "  1097.15,1486.45 1097.15,1467.55 \n",
       "  \"/>\n",
       "<path clip-path=\"url(#clip930)\" d=\"M305.555 1544.91 L321.874 1544.91 L321.874 1548.85 L299.93 1548.85 L299.93 1544.91 Q302.592 1542.16 307.175 1537.53 Q311.782 1532.88 312.962 1531.53 Q315.208 1529.01 316.087 1527.27 Q316.99 1525.51 316.99 1523.82 Q316.99 1521.07 315.046 1519.33 Q313.124 1517.6 310.022 1517.6 Q307.823 1517.6 305.37 1518.36 Q302.939 1519.13 300.161 1520.68 L300.161 1515.95 Q302.985 1514.82 305.439 1514.24 Q307.893 1513.66 309.93 1513.66 Q315.3 1513.66 318.495 1516.35 Q321.689 1519.03 321.689 1523.52 Q321.689 1525.65 320.879 1527.57 Q320.092 1529.47 317.985 1532.07 Q317.407 1532.74 314.305 1535.95 Q311.203 1539.15 305.555 1544.91 Z\" fill=\"#000000\" fill-rule=\"evenodd\" fill-opacity=\"1\" /><path clip-path=\"url(#clip930)\" d=\"M335.717 1544.91 L352.036 1544.91 L352.036 1548.85 L330.092 1548.85 L330.092 1544.91 Q332.754 1542.16 337.337 1537.53 Q341.944 1532.88 343.124 1531.53 Q345.369 1529.01 346.249 1527.27 Q347.152 1525.51 347.152 1523.82 Q347.152 1521.07 345.207 1519.33 Q343.286 1517.6 340.184 1517.6 Q337.985 1517.6 335.532 1518.36 Q333.101 1519.13 330.323 1520.68 L330.323 1515.95 Q333.147 1514.82 335.601 1514.24 Q338.055 1513.66 340.092 1513.66 Q345.462 1513.66 348.656 1516.35 Q351.851 1519.03 351.851 1523.52 Q351.851 1525.65 351.041 1527.57 Q350.254 1529.47 348.147 1532.07 Q347.569 1532.74 344.467 1535.95 Q341.365 1539.15 335.717 1544.91 Z\" fill=\"#000000\" fill-rule=\"evenodd\" fill-opacity=\"1\" /><path clip-path=\"url(#clip930)\" d=\"M561.57 1544.91 L577.89 1544.91 L577.89 1548.85 L555.945 1548.85 L555.945 1544.91 Q558.607 1542.16 563.191 1537.53 Q567.797 1532.88 568.978 1531.53 Q571.223 1529.01 572.103 1527.27 Q573.005 1525.51 573.005 1523.82 Q573.005 1521.07 571.061 1519.33 Q569.14 1517.6 566.038 1517.6 Q563.839 1517.6 561.385 1518.36 Q558.955 1519.13 556.177 1520.68 L556.177 1515.95 Q559.001 1514.82 561.455 1514.24 Q563.908 1513.66 565.945 1513.66 Q571.316 1513.66 574.51 1516.35 Q577.705 1519.03 577.705 1523.52 Q577.705 1525.65 576.894 1527.57 Q576.107 1529.47 574.001 1532.07 Q573.422 1532.74 570.32 1535.95 Q567.218 1539.15 561.57 1544.91 Z\" fill=\"#000000\" fill-rule=\"evenodd\" fill-opacity=\"1\" /><path clip-path=\"url(#clip930)\" d=\"M600.552 1518.36 L588.746 1536.81 L600.552 1536.81 L600.552 1518.36 M599.325 1514.29 L605.204 1514.29 L605.204 1536.81 L610.135 1536.81 L610.135 1540.7 L605.204 1540.7 L605.204 1548.85 L600.552 1548.85 L600.552 1540.7 L584.95 1540.7 L584.95 1536.19 L599.325 1514.29 Z\" fill=\"#000000\" fill-rule=\"evenodd\" fill-opacity=\"1\" /><path clip-path=\"url(#clip930)\" d=\"M818.79 1544.91 L835.109 1544.91 L835.109 1548.85 L813.165 1548.85 L813.165 1544.91 Q815.827 1542.16 820.41 1537.53 Q825.016 1532.88 826.197 1531.53 Q828.442 1529.01 829.322 1527.27 Q830.225 1525.51 830.225 1523.82 Q830.225 1521.07 828.28 1519.33 Q826.359 1517.6 823.257 1517.6 Q821.058 1517.6 818.604 1518.36 Q816.174 1519.13 813.396 1520.68 L813.396 1515.95 Q816.22 1514.82 818.674 1514.24 Q821.127 1513.66 823.165 1513.66 Q828.535 1513.66 831.729 1516.35 Q834.924 1519.03 834.924 1523.52 Q834.924 1525.65 834.114 1527.57 Q833.326 1529.47 831.22 1532.07 Q830.641 1532.74 827.539 1535.95 Q824.438 1539.15 818.79 1544.91 Z\" fill=\"#000000\" fill-rule=\"evenodd\" fill-opacity=\"1\" /><path clip-path=\"url(#clip930)\" d=\"M855.502 1529.7 Q852.354 1529.7 850.502 1531.86 Q848.674 1534.01 848.674 1537.76 Q848.674 1541.49 850.502 1543.66 Q852.354 1545.82 855.502 1545.82 Q858.65 1545.82 860.479 1543.66 Q862.331 1541.49 862.331 1537.76 Q862.331 1534.01 860.479 1531.86 Q858.65 1529.7 855.502 1529.7 M864.785 1515.05 L864.785 1519.31 Q863.025 1518.48 861.22 1518.04 Q859.437 1517.6 857.678 1517.6 Q853.049 1517.6 850.595 1520.72 Q848.164 1523.85 847.817 1530.17 Q849.183 1528.15 851.243 1527.09 Q853.303 1526 855.78 1526 Q860.988 1526 863.998 1529.17 Q867.03 1532.32 867.03 1537.76 Q867.03 1543.08 863.882 1546.3 Q860.734 1549.52 855.502 1549.52 Q849.507 1549.52 846.336 1544.94 Q843.164 1540.33 843.164 1531.6 Q843.164 1523.41 847.053 1518.55 Q850.942 1513.66 857.493 1513.66 Q859.252 1513.66 861.035 1514.01 Q862.84 1514.36 864.785 1515.05 Z\" fill=\"#000000\" fill-rule=\"evenodd\" fill-opacity=\"1\" /><path clip-path=\"url(#clip930)\" d=\"M1075.97 1544.91 L1092.29 1544.91 L1092.29 1548.85 L1070.35 1548.85 L1070.35 1544.91 Q1073.01 1542.16 1077.59 1537.53 Q1082.2 1532.88 1083.38 1531.53 Q1085.63 1529.01 1086.51 1527.27 Q1087.41 1525.51 1087.41 1523.82 Q1087.41 1521.07 1085.46 1519.33 Q1083.54 1517.6 1080.44 1517.6 Q1078.24 1517.6 1075.79 1518.36 Q1073.36 1519.13 1070.58 1520.68 L1070.58 1515.95 Q1073.4 1514.82 1075.86 1514.24 Q1078.31 1513.66 1080.35 1513.66 Q1085.72 1513.66 1088.91 1516.35 Q1092.11 1519.03 1092.11 1523.52 Q1092.11 1525.65 1091.3 1527.57 Q1090.51 1529.47 1088.4 1532.07 Q1087.83 1532.74 1084.72 1535.95 Q1081.62 1539.15 1075.97 1544.91 Z\" fill=\"#000000\" fill-rule=\"evenodd\" fill-opacity=\"1\" /><path clip-path=\"url(#clip930)\" d=\"M1112.11 1532.44 Q1108.77 1532.44 1106.85 1534.22 Q1104.96 1536 1104.96 1539.13 Q1104.96 1542.25 1106.85 1544.03 Q1108.77 1545.82 1112.11 1545.82 Q1115.44 1545.82 1117.36 1544.03 Q1119.28 1542.23 1119.28 1539.13 Q1119.28 1536 1117.36 1534.22 Q1115.46 1532.44 1112.11 1532.44 M1107.43 1530.45 Q1104.42 1529.7 1102.73 1527.64 Q1101.07 1525.58 1101.07 1522.62 Q1101.07 1518.48 1104.01 1516.07 Q1106.97 1513.66 1112.11 1513.66 Q1117.27 1513.66 1120.21 1516.07 Q1123.15 1518.48 1123.15 1522.62 Q1123.15 1525.58 1121.46 1527.64 Q1119.79 1529.7 1116.81 1530.45 Q1120.19 1531.23 1122.06 1533.52 Q1123.96 1535.82 1123.96 1539.13 Q1123.96 1544.15 1120.88 1546.83 Q1117.83 1549.52 1112.11 1549.52 Q1106.39 1549.52 1103.31 1546.83 Q1100.26 1544.15 1100.26 1539.13 Q1100.26 1535.82 1102.15 1533.52 Q1104.05 1531.23 1107.43 1530.45 M1105.72 1523.06 Q1105.72 1525.75 1107.39 1527.25 Q1109.08 1528.76 1112.11 1528.76 Q1115.12 1528.76 1116.81 1527.25 Q1118.52 1525.75 1118.52 1523.06 Q1118.52 1520.38 1116.81 1518.87 Q1115.12 1517.37 1112.11 1517.37 Q1109.08 1517.37 1107.39 1518.87 Q1105.72 1520.38 1105.72 1523.06 Z\" fill=\"#000000\" fill-rule=\"evenodd\" fill-opacity=\"1\" /><polyline clip-path=\"url(#clip933)\" style=\"stroke:#000000; stroke-linecap:butt; stroke-linejoin:round; stroke-width:2; stroke-opacity:0.1; fill:none\" points=\"\n",
       "  141.853,1445.72 1152.76,1445.72 \n",
       "  \"/>\n",
       "<polyline clip-path=\"url(#clip933)\" style=\"stroke:#000000; stroke-linecap:butt; stroke-linejoin:round; stroke-width:2; stroke-opacity:0.1; fill:none\" points=\"\n",
       "  141.853,1137.14 1152.76,1137.14 \n",
       "  \"/>\n",
       "<polyline clip-path=\"url(#clip933)\" style=\"stroke:#000000; stroke-linecap:butt; stroke-linejoin:round; stroke-width:2; stroke-opacity:0.1; fill:none\" points=\"\n",
       "  141.853,828.561 1152.76,828.561 \n",
       "  \"/>\n",
       "<polyline clip-path=\"url(#clip933)\" style=\"stroke:#000000; stroke-linecap:butt; stroke-linejoin:round; stroke-width:2; stroke-opacity:0.1; fill:none\" points=\"\n",
       "  141.853,519.984 1152.76,519.984 \n",
       "  \"/>\n",
       "<polyline clip-path=\"url(#clip933)\" style=\"stroke:#000000; stroke-linecap:butt; stroke-linejoin:round; stroke-width:2; stroke-opacity:0.1; fill:none\" points=\"\n",
       "  141.853,211.407 1152.76,211.407 \n",
       "  \"/>\n",
       "<polyline clip-path=\"url(#clip930)\" style=\"stroke:#000000; stroke-linecap:butt; stroke-linejoin:round; stroke-width:4; stroke-opacity:1; fill:none\" points=\"\n",
       "  141.853,1486.45 141.853,47.2441 \n",
       "  \"/>\n",
       "<polyline clip-path=\"url(#clip930)\" style=\"stroke:#000000; stroke-linecap:butt; stroke-linejoin:round; stroke-width:4; stroke-opacity:1; fill:none\" points=\"\n",
       "  141.853,1445.72 160.751,1445.72 \n",
       "  \"/>\n",
       "<polyline clip-path=\"url(#clip930)\" style=\"stroke:#000000; stroke-linecap:butt; stroke-linejoin:round; stroke-width:4; stroke-opacity:1; fill:none\" points=\"\n",
       "  141.853,1137.14 160.751,1137.14 \n",
       "  \"/>\n",
       "<polyline clip-path=\"url(#clip930)\" style=\"stroke:#000000; stroke-linecap:butt; stroke-linejoin:round; stroke-width:4; stroke-opacity:1; fill:none\" points=\"\n",
       "  141.853,828.561 160.751,828.561 \n",
       "  \"/>\n",
       "<polyline clip-path=\"url(#clip930)\" style=\"stroke:#000000; stroke-linecap:butt; stroke-linejoin:round; stroke-width:4; stroke-opacity:1; fill:none\" points=\"\n",
       "  141.853,519.984 160.751,519.984 \n",
       "  \"/>\n",
       "<polyline clip-path=\"url(#clip930)\" style=\"stroke:#000000; stroke-linecap:butt; stroke-linejoin:round; stroke-width:4; stroke-opacity:1; fill:none\" points=\"\n",
       "  141.853,211.407 160.751,211.407 \n",
       "  \"/>\n",
       "<path clip-path=\"url(#clip930)\" d=\"M93.9086 1431.51 Q90.2975 1431.51 88.4688 1435.08 Q86.6632 1438.62 86.6632 1445.75 Q86.6632 1452.86 88.4688 1456.42 Q90.2975 1459.96 93.9086 1459.96 Q97.5428 1459.96 99.3483 1456.42 Q101.177 1452.86 101.177 1445.75 Q101.177 1438.62 99.3483 1435.08 Q97.5428 1431.51 93.9086 1431.51 M93.9086 1427.81 Q99.7187 1427.81 102.774 1432.42 Q105.853 1437 105.853 1445.75 Q105.853 1454.48 102.774 1459.08 Q99.7187 1463.67 93.9086 1463.67 Q88.0984 1463.67 85.0197 1459.08 Q81.9642 1454.48 81.9642 1445.75 Q81.9642 1437 85.0197 1432.42 Q88.0984 1427.81 93.9086 1427.81 Z\" fill=\"#000000\" fill-rule=\"evenodd\" fill-opacity=\"1\" /><path clip-path=\"url(#clip930)\" d=\"M54.5569 1150.48 L62.1958 1150.48 L62.1958 1124.12 L53.8856 1125.78 L53.8856 1121.53 L62.1495 1119.86 L66.8254 1119.86 L66.8254 1150.48 L74.4642 1150.48 L74.4642 1154.42 L54.5569 1154.42 L54.5569 1150.48 Z\" fill=\"#000000\" fill-rule=\"evenodd\" fill-opacity=\"1\" /><path clip-path=\"url(#clip930)\" d=\"M93.9086 1122.94 Q90.2975 1122.94 88.4688 1126.5 Q86.6632 1130.04 86.6632 1137.17 Q86.6632 1144.28 88.4688 1147.84 Q90.2975 1151.39 93.9086 1151.39 Q97.5428 1151.39 99.3483 1147.84 Q101.177 1144.28 101.177 1137.17 Q101.177 1130.04 99.3483 1126.5 Q97.5428 1122.94 93.9086 1122.94 M93.9086 1119.23 Q99.7187 1119.23 102.774 1123.84 Q105.853 1128.42 105.853 1137.17 Q105.853 1145.9 102.774 1150.51 Q99.7187 1155.09 93.9086 1155.09 Q88.0984 1155.09 85.0197 1150.51 Q81.9642 1145.9 81.9642 1137.17 Q81.9642 1128.42 85.0197 1123.84 Q88.0984 1119.23 93.9086 1119.23 Z\" fill=\"#000000\" fill-rule=\"evenodd\" fill-opacity=\"1\" /><path clip-path=\"url(#clip930)\" d=\"M57.7745 841.906 L74.0939 841.906 L74.0939 845.841 L52.1495 845.841 L52.1495 841.906 Q54.8115 839.152 59.3949 834.522 Q64.0013 829.869 65.1819 828.527 Q67.4272 826.004 68.3068 824.267 Q69.2096 822.508 69.2096 820.818 Q69.2096 818.064 67.2652 816.328 Q65.3439 814.592 62.2421 814.592 Q60.043 814.592 57.5893 815.355 Q55.1588 816.119 52.381 817.67 L52.381 812.948 Q55.2051 811.814 57.6588 811.235 Q60.1124 810.656 62.1495 810.656 Q67.5198 810.656 70.7142 813.342 Q73.9087 816.027 73.9087 820.517 Q73.9087 822.647 73.0985 824.568 Q72.3115 826.467 70.205 829.059 Q69.6263 829.73 66.5245 832.948 Q63.4226 836.142 57.7745 841.906 Z\" fill=\"#000000\" fill-rule=\"evenodd\" fill-opacity=\"1\" /><path clip-path=\"url(#clip930)\" d=\"M93.9086 814.36 Q90.2975 814.36 88.4688 817.925 Q86.6632 821.467 86.6632 828.596 Q86.6632 835.703 88.4688 839.267 Q90.2975 842.809 93.9086 842.809 Q97.5428 842.809 99.3483 839.267 Q101.177 835.703 101.177 828.596 Q101.177 821.467 99.3483 817.925 Q97.5428 814.36 93.9086 814.36 M93.9086 810.656 Q99.7187 810.656 102.774 815.263 Q105.853 819.846 105.853 828.596 Q105.853 837.323 102.774 841.929 Q99.7187 846.513 93.9086 846.513 Q88.0984 846.513 85.0197 841.929 Q81.9642 837.323 81.9642 828.596 Q81.9642 819.846 85.0197 815.263 Q88.0984 810.656 93.9086 810.656 Z\" fill=\"#000000\" fill-rule=\"evenodd\" fill-opacity=\"1\" /><path clip-path=\"url(#clip930)\" d=\"M67.9133 518.63 Q71.2698 519.348 73.1448 521.616 Q75.0429 523.885 75.0429 527.218 Q75.0429 532.334 71.5244 535.135 Q68.0059 537.936 61.5245 537.936 Q59.3486 537.936 57.0338 537.496 Q54.7421 537.079 52.2884 536.223 L52.2884 531.709 Q54.2328 532.843 56.5477 533.422 Q58.8625 534 61.3856 534 Q65.7837 534 68.0754 532.264 Q70.3902 530.528 70.3902 527.218 Q70.3902 524.162 68.2374 522.45 Q66.1078 520.713 62.2884 520.713 L58.2606 520.713 L58.2606 516.871 L62.4735 516.871 Q65.9226 516.871 67.7513 515.505 Q69.58 514.116 69.58 511.524 Q69.58 508.862 67.6819 507.45 Q65.8069 506.014 62.2884 506.014 Q60.3671 506.014 58.168 506.431 Q55.969 506.848 53.3301 507.727 L53.3301 503.561 Q55.9921 502.82 58.3069 502.45 Q60.6449 502.079 62.705 502.079 Q68.0291 502.079 71.1309 504.51 Q74.2327 506.917 74.2327 511.038 Q74.2327 513.908 72.5892 515.899 Q70.9457 517.866 67.9133 518.63 Z\" fill=\"#000000\" fill-rule=\"evenodd\" fill-opacity=\"1\" /><path clip-path=\"url(#clip930)\" d=\"M93.9086 505.783 Q90.2975 505.783 88.4688 509.348 Q86.6632 512.889 86.6632 520.019 Q86.6632 527.125 88.4688 530.69 Q90.2975 534.232 93.9086 534.232 Q97.5428 534.232 99.3483 530.69 Q101.177 527.125 101.177 520.019 Q101.177 512.889 99.3483 509.348 Q97.5428 505.783 93.9086 505.783 M93.9086 502.079 Q99.7187 502.079 102.774 506.686 Q105.853 511.269 105.853 520.019 Q105.853 528.746 102.774 533.352 Q99.7187 537.936 93.9086 537.936 Q88.0984 537.936 85.0197 533.352 Q81.9642 528.746 81.9642 520.019 Q81.9642 511.269 85.0197 506.686 Q88.0984 502.079 93.9086 502.079 Z\" fill=\"#000000\" fill-rule=\"evenodd\" fill-opacity=\"1\" /><path clip-path=\"url(#clip930)\" d=\"M66.5939 198.201 L54.7884 216.65 L66.5939 216.65 L66.5939 198.201 M65.367 194.127 L71.2466 194.127 L71.2466 216.65 L76.1772 216.65 L76.1772 220.539 L71.2466 220.539 L71.2466 228.687 L66.5939 228.687 L66.5939 220.539 L50.9921 220.539 L50.9921 216.025 L65.367 194.127 Z\" fill=\"#000000\" fill-rule=\"evenodd\" fill-opacity=\"1\" /><path clip-path=\"url(#clip930)\" d=\"M93.9086 197.206 Q90.2975 197.206 88.4688 200.771 Q86.6632 204.312 86.6632 211.442 Q86.6632 218.548 88.4688 222.113 Q90.2975 225.655 93.9086 225.655 Q97.5428 225.655 99.3483 222.113 Q101.177 218.548 101.177 211.442 Q101.177 204.312 99.3483 200.771 Q97.5428 197.206 93.9086 197.206 M93.9086 193.502 Q99.7187 193.502 102.774 198.109 Q105.853 202.692 105.853 211.442 Q105.853 220.169 102.774 224.775 Q99.7187 229.358 93.9086 229.358 Q88.0984 229.358 85.0197 224.775 Q81.9642 220.169 81.9642 211.442 Q81.9642 202.692 85.0197 198.109 Q88.0984 193.502 93.9086 193.502 Z\" fill=\"#000000\" fill-rule=\"evenodd\" fill-opacity=\"1\" /><path clip-path=\"url(#clip933)\" d=\"\n",
       "M197.454 1229.71 L197.454 1445.72 L261.719 1445.72 L261.719 1229.71 L197.454 1229.71 L197.454 1229.71  Z\n",
       "  \" fill=\"#009af9\" fill-rule=\"evenodd\" fill-opacity=\"1\"/>\n",
       "<polyline clip-path=\"url(#clip933)\" style=\"stroke:#000000; stroke-linecap:butt; stroke-linejoin:round; stroke-width:4; stroke-opacity:1; fill:none\" points=\"\n",
       "  197.454,1229.71 197.454,1445.72 261.719,1445.72 261.719,1229.71 197.454,1229.71 \n",
       "  \"/>\n",
       "<path clip-path=\"url(#clip933)\" d=\"\n",
       "M261.719 1168 L261.719 1445.72 L325.983 1445.72 L325.983 1168 L261.719 1168 L261.719 1168  Z\n",
       "  \" fill=\"#009af9\" fill-rule=\"evenodd\" fill-opacity=\"1\"/>\n",
       "<polyline clip-path=\"url(#clip933)\" style=\"stroke:#000000; stroke-linecap:butt; stroke-linejoin:round; stroke-width:4; stroke-opacity:1; fill:none\" points=\"\n",
       "  261.719,1168 261.719,1445.72 325.983,1445.72 325.983,1168 261.719,1168 \n",
       "  \"/>\n",
       "<path clip-path=\"url(#clip933)\" d=\"\n",
       "M325.983 1106.28 L325.983 1445.72 L390.247 1445.72 L390.247 1106.28 L325.983 1106.28 L325.983 1106.28  Z\n",
       "  \" fill=\"#009af9\" fill-rule=\"evenodd\" fill-opacity=\"1\"/>\n",
       "<polyline clip-path=\"url(#clip933)\" style=\"stroke:#000000; stroke-linecap:butt; stroke-linejoin:round; stroke-width:4; stroke-opacity:1; fill:none\" points=\"\n",
       "  325.983,1106.28 325.983,1445.72 390.247,1445.72 390.247,1106.28 325.983,1106.28 \n",
       "  \"/>\n",
       "<path clip-path=\"url(#clip933)\" d=\"\n",
       "M390.247 303.98 L390.247 1445.72 L454.512 1445.72 L454.512 303.98 L390.247 303.98 L390.247 303.98  Z\n",
       "  \" fill=\"#009af9\" fill-rule=\"evenodd\" fill-opacity=\"1\"/>\n",
       "<polyline clip-path=\"url(#clip933)\" style=\"stroke:#000000; stroke-linecap:butt; stroke-linejoin:round; stroke-width:4; stroke-opacity:1; fill:none\" points=\"\n",
       "  390.247,303.98 390.247,1445.72 454.512,1445.72 454.512,303.98 390.247,303.98 \n",
       "  \"/>\n",
       "<path clip-path=\"url(#clip933)\" d=\"\n",
       "M454.512 180.549 L454.512 1445.72 L518.776 1445.72 L518.776 180.549 L454.512 180.549 L454.512 180.549  Z\n",
       "  \" fill=\"#009af9\" fill-rule=\"evenodd\" fill-opacity=\"1\"/>\n",
       "<polyline clip-path=\"url(#clip933)\" style=\"stroke:#000000; stroke-linecap:butt; stroke-linejoin:round; stroke-width:4; stroke-opacity:1; fill:none\" points=\"\n",
       "  454.512,180.549 454.512,1445.72 518.776,1445.72 518.776,180.549 454.512,180.549 \n",
       "  \"/>\n",
       "<path clip-path=\"url(#clip933)\" d=\"\n",
       "M518.776 87.9763 L518.776 1445.72 L583.04 1445.72 L583.04 87.9763 L518.776 87.9763 L518.776 87.9763  Z\n",
       "  \" fill=\"#009af9\" fill-rule=\"evenodd\" fill-opacity=\"1\"/>\n",
       "<polyline clip-path=\"url(#clip933)\" style=\"stroke:#000000; stroke-linecap:butt; stroke-linejoin:round; stroke-width:4; stroke-opacity:1; fill:none\" points=\"\n",
       "  518.776,87.9763 518.776,1445.72 583.04,1445.72 583.04,87.9763 518.776,87.9763 \n",
       "  \"/>\n",
       "<path clip-path=\"url(#clip933)\" d=\"\n",
       "M583.04 303.98 L583.04 1445.72 L647.304 1445.72 L647.304 303.98 L583.04 303.98 L583.04 303.98  Z\n",
       "  \" fill=\"#009af9\" fill-rule=\"evenodd\" fill-opacity=\"1\"/>\n",
       "<polyline clip-path=\"url(#clip933)\" style=\"stroke:#000000; stroke-linecap:butt; stroke-linejoin:round; stroke-width:4; stroke-opacity:1; fill:none\" points=\"\n",
       "  583.04,303.98 583.04,1445.72 647.304,1445.72 647.304,303.98 583.04,303.98 \n",
       "  \"/>\n",
       "<path clip-path=\"url(#clip933)\" d=\"\n",
       "M647.304 180.549 L647.304 1445.72 L711.569 1445.72 L711.569 180.549 L647.304 180.549 L647.304 180.549  Z\n",
       "  \" fill=\"#009af9\" fill-rule=\"evenodd\" fill-opacity=\"1\"/>\n",
       "<polyline clip-path=\"url(#clip933)\" style=\"stroke:#000000; stroke-linecap:butt; stroke-linejoin:round; stroke-width:4; stroke-opacity:1; fill:none\" points=\"\n",
       "  647.304,180.549 647.304,1445.72 711.569,1445.72 711.569,180.549 647.304,180.549 \n",
       "  \"/>\n",
       "<path clip-path=\"url(#clip933)\" d=\"\n",
       "M711.569 550.842 L711.569 1445.72 L775.833 1445.72 L775.833 550.842 L711.569 550.842 L711.569 550.842  Z\n",
       "  \" fill=\"#009af9\" fill-rule=\"evenodd\" fill-opacity=\"1\"/>\n",
       "<polyline clip-path=\"url(#clip933)\" style=\"stroke:#000000; stroke-linecap:butt; stroke-linejoin:round; stroke-width:4; stroke-opacity:1; fill:none\" points=\"\n",
       "  711.569,550.842 711.569,1445.72 775.833,1445.72 775.833,550.842 711.569,550.842 \n",
       "  \"/>\n",
       "<path clip-path=\"url(#clip933)\" d=\"\n",
       "M775.833 890.277 L775.833 1445.72 L840.097 1445.72 L840.097 890.277 L775.833 890.277 L775.833 890.277  Z\n",
       "  \" fill=\"#009af9\" fill-rule=\"evenodd\" fill-opacity=\"1\"/>\n",
       "<polyline clip-path=\"url(#clip933)\" style=\"stroke:#000000; stroke-linecap:butt; stroke-linejoin:round; stroke-width:4; stroke-opacity:1; fill:none\" points=\"\n",
       "  775.833,890.277 775.833,1445.72 840.097,1445.72 840.097,890.277 775.833,890.277 \n",
       "  \"/>\n",
       "<path clip-path=\"url(#clip933)\" d=\"\n",
       "M840.097 1106.28 L840.097 1445.72 L904.362 1445.72 L904.362 1106.28 L840.097 1106.28 L840.097 1106.28  Z\n",
       "  \" fill=\"#009af9\" fill-rule=\"evenodd\" fill-opacity=\"1\"/>\n",
       "<polyline clip-path=\"url(#clip933)\" style=\"stroke:#000000; stroke-linecap:butt; stroke-linejoin:round; stroke-width:4; stroke-opacity:1; fill:none\" points=\"\n",
       "  840.097,1106.28 840.097,1445.72 904.362,1445.72 904.362,1106.28 840.097,1106.28 \n",
       "  \"/>\n",
       "<path clip-path=\"url(#clip933)\" d=\"\n",
       "M904.362 1291.43 L904.362 1445.72 L968.626 1445.72 L968.626 1291.43 L904.362 1291.43 L904.362 1291.43  Z\n",
       "  \" fill=\"#009af9\" fill-rule=\"evenodd\" fill-opacity=\"1\"/>\n",
       "<polyline clip-path=\"url(#clip933)\" style=\"stroke:#000000; stroke-linecap:butt; stroke-linejoin:round; stroke-width:4; stroke-opacity:1; fill:none\" points=\"\n",
       "  904.362,1291.43 904.362,1445.72 968.626,1445.72 968.626,1291.43 904.362,1291.43 \n",
       "  \"/>\n",
       "<path clip-path=\"url(#clip933)\" d=\"\n",
       "M968.626 1198.85 L968.626 1445.72 L1032.89 1445.72 L1032.89 1198.85 L968.626 1198.85 L968.626 1198.85  Z\n",
       "  \" fill=\"#009af9\" fill-rule=\"evenodd\" fill-opacity=\"1\"/>\n",
       "<polyline clip-path=\"url(#clip933)\" style=\"stroke:#000000; stroke-linecap:butt; stroke-linejoin:round; stroke-width:4; stroke-opacity:1; fill:none\" points=\"\n",
       "  968.626,1198.85 968.626,1445.72 1032.89,1445.72 1032.89,1198.85 968.626,1198.85 \n",
       "  \"/>\n",
       "<path clip-path=\"url(#clip933)\" d=\"\n",
       "M1032.89 1384 L1032.89 1445.72 L1097.15 1445.72 L1097.15 1384 L1032.89 1384 L1032.89 1384  Z\n",
       "  \" fill=\"#009af9\" fill-rule=\"evenodd\" fill-opacity=\"1\"/>\n",
       "<polyline clip-path=\"url(#clip933)\" style=\"stroke:#000000; stroke-linecap:butt; stroke-linejoin:round; stroke-width:4; stroke-opacity:1; fill:none\" points=\"\n",
       "  1032.89,1384 1032.89,1445.72 1097.15,1445.72 1097.15,1384 1032.89,1384 \n",
       "  \"/>\n",
       "<circle clip-path=\"url(#clip933)\" style=\"fill:#009af9; stroke:none; fill-opacity:0\" cx=\"229.587\" cy=\"1229.71\" r=\"2\"/>\n",
       "<circle clip-path=\"url(#clip933)\" style=\"fill:#009af9; stroke:none; fill-opacity:0\" cx=\"293.851\" cy=\"1168\" r=\"2\"/>\n",
       "<circle clip-path=\"url(#clip933)\" style=\"fill:#009af9; stroke:none; fill-opacity:0\" cx=\"358.115\" cy=\"1106.28\" r=\"2\"/>\n",
       "<circle clip-path=\"url(#clip933)\" style=\"fill:#009af9; stroke:none; fill-opacity:0\" cx=\"422.379\" cy=\"303.98\" r=\"2\"/>\n",
       "<circle clip-path=\"url(#clip933)\" style=\"fill:#009af9; stroke:none; fill-opacity:0\" cx=\"486.644\" cy=\"180.549\" r=\"2\"/>\n",
       "<circle clip-path=\"url(#clip933)\" style=\"fill:#009af9; stroke:none; fill-opacity:0\" cx=\"550.908\" cy=\"87.9763\" r=\"2\"/>\n",
       "<circle clip-path=\"url(#clip933)\" style=\"fill:#009af9; stroke:none; fill-opacity:0\" cx=\"615.172\" cy=\"303.98\" r=\"2\"/>\n",
       "<circle clip-path=\"url(#clip933)\" style=\"fill:#009af9; stroke:none; fill-opacity:0\" cx=\"679.437\" cy=\"180.549\" r=\"2\"/>\n",
       "<circle clip-path=\"url(#clip933)\" style=\"fill:#009af9; stroke:none; fill-opacity:0\" cx=\"743.701\" cy=\"550.842\" r=\"2\"/>\n",
       "<circle clip-path=\"url(#clip933)\" style=\"fill:#009af9; stroke:none; fill-opacity:0\" cx=\"807.965\" cy=\"890.277\" r=\"2\"/>\n",
       "<circle clip-path=\"url(#clip933)\" style=\"fill:#009af9; stroke:none; fill-opacity:0\" cx=\"872.229\" cy=\"1106.28\" r=\"2\"/>\n",
       "<circle clip-path=\"url(#clip933)\" style=\"fill:#009af9; stroke:none; fill-opacity:0\" cx=\"936.494\" cy=\"1291.43\" r=\"2\"/>\n",
       "<circle clip-path=\"url(#clip933)\" style=\"fill:#009af9; stroke:none; fill-opacity:0\" cx=\"1000.76\" cy=\"1198.85\" r=\"2\"/>\n",
       "<circle clip-path=\"url(#clip933)\" style=\"fill:#009af9; stroke:none; fill-opacity:0\" cx=\"1065.02\" cy=\"1384\" r=\"2\"/>\n",
       "<path clip-path=\"url(#clip930)\" d=\"\n",
       "M831.839 198.898 L1119.06 198.898 L1119.06 95.2176 L831.839 95.2176  Z\n",
       "  \" fill=\"#ffffff\" fill-rule=\"evenodd\" fill-opacity=\"1\"/>\n",
       "<polyline clip-path=\"url(#clip930)\" style=\"stroke:#000000; stroke-linecap:butt; stroke-linejoin:round; stroke-width:4; stroke-opacity:1; fill:none\" points=\"\n",
       "  831.839,198.898 1119.06,198.898 1119.06,95.2176 831.839,95.2176 831.839,198.898 \n",
       "  \"/>\n",
       "<path clip-path=\"url(#clip930)\" d=\"\n",
       "M843.071 167.794 L910.465 167.794 L910.465 126.322 L843.071 126.322 L843.071 167.794  Z\n",
       "  \" fill=\"#009af9\" fill-rule=\"evenodd\" fill-opacity=\"1\"/>\n",
       "<polyline clip-path=\"url(#clip930)\" style=\"stroke:#000000; stroke-linecap:butt; stroke-linejoin:round; stroke-width:4; stroke-opacity:1; fill:none\" points=\"\n",
       "  843.071,167.794 910.465,167.794 910.465,126.322 843.071,126.322 843.071,167.794 \n",
       "  \"/>\n",
       "<path clip-path=\"url(#clip930)\" d=\"M926.373 128.886 L926.373 141.872 L932.252 141.872 Q935.516 141.872 937.299 140.182 Q939.081 138.492 939.081 135.367 Q939.081 132.266 937.299 130.576 Q935.516 128.886 932.252 128.886 L926.373 128.886 M921.697 125.043 L932.252 125.043 Q938.063 125.043 941.025 127.682 Q944.012 130.298 944.012 135.367 Q944.012 140.483 941.025 143.099 Q938.063 145.715 932.252 145.715 L926.373 145.715 L926.373 159.603 L921.697 159.603 L921.697 125.043 Z\" fill=\"#000000\" fill-rule=\"evenodd\" fill-opacity=\"1\" /><path clip-path=\"url(#clip930)\" d=\"M964.289 137.659 Q963.572 137.242 962.715 137.057 Q961.882 136.849 960.863 136.849 Q957.252 136.849 955.308 139.21 Q953.387 141.548 953.387 145.946 L953.387 159.603 L949.104 159.603 L949.104 133.678 L953.387 133.678 L953.387 137.705 Q954.729 135.344 956.882 134.21 Q959.035 133.053 962.113 133.053 Q962.553 133.053 963.086 133.122 Q963.618 133.168 964.266 133.284 L964.289 137.659 Z\" fill=\"#000000\" fill-rule=\"evenodd\" fill-opacity=\"1\" /><path clip-path=\"url(#clip930)\" d=\"M989.891 145.576 L989.891 147.659 L970.308 147.659 Q970.586 152.057 972.947 154.372 Q975.331 156.664 979.567 156.664 Q982.021 156.664 984.312 156.062 Q986.627 155.46 988.896 154.256 L988.896 158.284 Q986.604 159.256 984.197 159.765 Q981.789 160.275 979.312 160.275 Q973.109 160.275 969.474 156.664 Q965.863 153.053 965.863 146.895 Q965.863 140.529 969.289 136.803 Q972.738 133.053 978.572 133.053 Q983.803 133.053 986.835 136.432 Q989.891 139.789 989.891 145.576 M985.632 144.326 Q985.585 140.83 983.664 138.747 Q981.766 136.664 978.618 136.664 Q975.053 136.664 972.9 138.678 Q970.771 140.692 970.447 144.349 L985.632 144.326 Z\" fill=\"#000000\" fill-rule=\"evenodd\" fill-opacity=\"1\" /><path clip-path=\"url(#clip930)\" d=\"M1013.94 137.613 L1013.94 123.585 L1018.2 123.585 L1018.2 159.603 L1013.94 159.603 L1013.94 155.715 Q1012.6 158.029 1010.54 159.164 Q1008.5 160.275 1005.63 160.275 Q1000.93 160.275 997.97 156.525 Q995.03 152.775 995.03 146.664 Q995.03 140.553 997.97 136.803 Q1000.93 133.053 1005.63 133.053 Q1008.5 133.053 1010.54 134.187 Q1012.6 135.298 1013.94 137.613 M999.428 146.664 Q999.428 151.363 1001.35 154.048 Q1003.29 156.71 1006.67 156.71 Q1010.05 156.71 1012 154.048 Q1013.94 151.363 1013.94 146.664 Q1013.94 141.965 1012 139.303 Q1010.05 136.617 1006.67 136.617 Q1003.29 136.617 1001.35 139.303 Q999.428 141.965 999.428 146.664 Z\" fill=\"#000000\" fill-rule=\"evenodd\" fill-opacity=\"1\" /><path clip-path=\"url(#clip930)\" d=\"M1027.58 153.724 L1032.46 153.724 L1032.46 159.603 L1027.58 159.603 L1027.58 153.724 Z\" fill=\"#000000\" fill-rule=\"evenodd\" fill-opacity=\"1\" /><path clip-path=\"url(#clip930)\" d=\"M1071.13 154.052 Q1071.31 154.263 1071.31 154.474 Q1071.31 154.685 1070.84 155.294 Q1070.4 155.903 1069.44 156.722 Q1068.48 157.542 1067.24 158.315 Q1066 159.088 1064.17 159.603 Q1062.34 160.142 1060.42 160.142 Q1056.84 160.142 1054.73 157.777 Q1052.65 155.411 1052.65 152.015 Q1052.65 148.712 1054.5 145.55 Q1056.35 142.365 1059.34 140.397 Q1062.34 138.406 1065.5 138.406 Q1068.01 138.406 1069.58 139.577 Q1071.15 140.748 1071.15 142.528 Q1071.15 143.91 1070.35 144.754 Q1069.56 145.597 1068.48 145.597 Q1067.73 145.597 1067.21 145.175 Q1066.7 144.73 1066.7 143.91 Q1066.7 142.856 1067.57 142.037 Q1067.89 141.709 1068.27 141.568 Q1068.67 141.404 1068.9 141.404 Q1069.13 141.381 1069.67 141.381 Q1069.18 140.467 1068.01 139.975 Q1066.86 139.46 1065.55 139.46 Q1063.61 139.46 1061.76 140.819 Q1059.91 142.154 1058.78 144.262 Q1057.66 146.323 1056.93 149.251 Q1056.21 152.155 1056.21 153.842 Q1056.21 156.16 1057.28 157.613 Q1058.36 159.065 1060.52 159.065 Q1060.94 159.065 1061.38 159.041 Q1061.85 159.018 1063.02 158.76 Q1064.22 158.503 1065.27 158.058 Q1066.32 157.613 1067.66 156.652 Q1069.02 155.668 1070.09 154.333 Q1070.47 153.842 1070.73 153.842 Q1070.94 153.842 1071.13 154.052 Z\" fill=\"#000000\" fill-rule=\"evenodd\" fill-opacity=\"1\" /><path clip-path=\"url(#clip930)\" d=\"M1091.63 164.144 Q1091.19 166.259 1090.61 167.473 Q1089.69 169.325 1088.14 169.325 Q1086.96 169.325 1086.12 168.604 Q1085.28 167.882 1085.09 166.8 Q1082.94 169.325 1080.71 169.325 Q1078.74 169.325 1077.5 167.833 Q1076.25 166.325 1076.25 163.947 Q1076.25 161.554 1077.43 159.258 Q1078.63 156.963 1080.51 155.536 Q1082.4 154.11 1084.33 154.11 Q1086.38 154.11 1087.43 156.258 Q1087.51 155.668 1087.89 155.225 Q1088.27 154.782 1088.84 154.782 Q1089.28 154.782 1089.55 155.028 Q1089.81 155.258 1089.81 155.684 Q1089.81 155.897 1089.58 156.832 L1088.37 161.521 L1087.63 164.554 Q1087.35 165.669 1087.27 166.079 Q1087.2 166.489 1087.2 167.03 Q1087.2 168.571 1088.2 168.571 Q1088.69 168.571 1089.09 168.26 Q1089.48 167.948 1089.79 167.292 Q1090.1 166.636 1090.3 166.03 Q1090.5 165.407 1090.76 164.423 Q1090.84 164.029 1090.91 163.931 Q1090.99 163.816 1091.22 163.816 Q1091.63 163.816 1091.63 164.144 M1087.02 157.799 Q1087.02 157.652 1086.91 157.242 Q1086.79 156.832 1086.53 156.258 Q1086.27 155.684 1085.69 155.274 Q1085.14 154.848 1084.38 154.848 Q1083.37 154.848 1082.3 155.717 Q1081.25 156.586 1080.48 158.061 Q1079.89 159.242 1079.25 161.718 Q1078.63 164.193 1078.63 165.423 Q1078.63 166.177 1078.79 166.849 Q1078.97 167.505 1079.48 168.046 Q1079.99 168.571 1080.77 168.571 Q1082.69 168.571 1084.58 166.194 Q1084.94 165.784 1085.02 165.62 Q1085.12 165.439 1085.25 164.948 L1086.92 158.373 Q1087.02 157.881 1087.02 157.799 Z\" fill=\"#000000\" fill-rule=\"evenodd\" fill-opacity=\"1\" /><path clip-path=\"url(#clip930)\" d=\"\n",
       "M1341.85 1486.45 L2352.76 1486.45 L2352.76 47.2441 L1341.85 47.2441  Z\n",
       "  \" fill=\"#ffffff\" fill-rule=\"evenodd\" fill-opacity=\"1\"/>\n",
       "<polyline clip-path=\"url(#clip932)\" style=\"stroke:#000000; stroke-linecap:butt; stroke-linejoin:round; stroke-width:2; stroke-opacity:0.1; fill:none\" points=\"\n",
       "  1525.98,1486.45 1525.98,47.2441 \n",
       "  \"/>\n",
       "<polyline clip-path=\"url(#clip932)\" style=\"stroke:#000000; stroke-linecap:butt; stroke-linejoin:round; stroke-width:2; stroke-opacity:0.1; fill:none\" points=\"\n",
       "  1783.04,1486.45 1783.04,47.2441 \n",
       "  \"/>\n",
       "<polyline clip-path=\"url(#clip932)\" style=\"stroke:#000000; stroke-linecap:butt; stroke-linejoin:round; stroke-width:2; stroke-opacity:0.1; fill:none\" points=\"\n",
       "  2040.1,1486.45 2040.1,47.2441 \n",
       "  \"/>\n",
       "<polyline clip-path=\"url(#clip932)\" style=\"stroke:#000000; stroke-linecap:butt; stroke-linejoin:round; stroke-width:2; stroke-opacity:0.1; fill:none\" points=\"\n",
       "  2297.15,1486.45 2297.15,47.2441 \n",
       "  \"/>\n",
       "<polyline clip-path=\"url(#clip930)\" style=\"stroke:#000000; stroke-linecap:butt; stroke-linejoin:round; stroke-width:4; stroke-opacity:1; fill:none\" points=\"\n",
       "  1341.85,1486.45 2352.76,1486.45 \n",
       "  \"/>\n",
       "<polyline clip-path=\"url(#clip930)\" style=\"stroke:#000000; stroke-linecap:butt; stroke-linejoin:round; stroke-width:4; stroke-opacity:1; fill:none\" points=\"\n",
       "  1525.98,1486.45 1525.98,1467.55 \n",
       "  \"/>\n",
       "<polyline clip-path=\"url(#clip930)\" style=\"stroke:#000000; stroke-linecap:butt; stroke-linejoin:round; stroke-width:4; stroke-opacity:1; fill:none\" points=\"\n",
       "  1783.04,1486.45 1783.04,1467.55 \n",
       "  \"/>\n",
       "<polyline clip-path=\"url(#clip930)\" style=\"stroke:#000000; stroke-linecap:butt; stroke-linejoin:round; stroke-width:4; stroke-opacity:1; fill:none\" points=\"\n",
       "  2040.1,1486.45 2040.1,1467.55 \n",
       "  \"/>\n",
       "<polyline clip-path=\"url(#clip930)\" style=\"stroke:#000000; stroke-linecap:butt; stroke-linejoin:round; stroke-width:4; stroke-opacity:1; fill:none\" points=\"\n",
       "  2297.15,1486.45 2297.15,1467.55 \n",
       "  \"/>\n",
       "<path clip-path=\"url(#clip930)\" d=\"M1505.55 1544.91 L1521.87 1544.91 L1521.87 1548.85 L1499.93 1548.85 L1499.93 1544.91 Q1502.59 1542.16 1507.18 1537.53 Q1511.78 1532.88 1512.96 1531.53 Q1515.21 1529.01 1516.09 1527.27 Q1516.99 1525.51 1516.99 1523.82 Q1516.99 1521.07 1515.05 1519.33 Q1513.12 1517.6 1510.02 1517.6 Q1507.82 1517.6 1505.37 1518.36 Q1502.94 1519.13 1500.16 1520.68 L1500.16 1515.95 Q1502.99 1514.82 1505.44 1514.24 Q1507.89 1513.66 1509.93 1513.66 Q1515.3 1513.66 1518.49 1516.35 Q1521.69 1519.03 1521.69 1523.52 Q1521.69 1525.65 1520.88 1527.57 Q1520.09 1529.47 1517.99 1532.07 Q1517.41 1532.74 1514.3 1535.95 Q1511.2 1539.15 1505.55 1544.91 Z\" fill=\"#000000\" fill-rule=\"evenodd\" fill-opacity=\"1\" /><path clip-path=\"url(#clip930)\" d=\"M1535.72 1544.91 L1552.04 1544.91 L1552.04 1548.85 L1530.09 1548.85 L1530.09 1544.91 Q1532.75 1542.16 1537.34 1537.53 Q1541.94 1532.88 1543.12 1531.53 Q1545.37 1529.01 1546.25 1527.27 Q1547.15 1525.51 1547.15 1523.82 Q1547.15 1521.07 1545.21 1519.33 Q1543.29 1517.6 1540.18 1517.6 Q1537.99 1517.6 1535.53 1518.36 Q1533.1 1519.13 1530.32 1520.68 L1530.32 1515.95 Q1533.15 1514.82 1535.6 1514.24 Q1538.05 1513.66 1540.09 1513.66 Q1545.46 1513.66 1548.66 1516.35 Q1551.85 1519.03 1551.85 1523.52 Q1551.85 1525.65 1551.04 1527.57 Q1550.25 1529.47 1548.15 1532.07 Q1547.57 1532.74 1544.47 1535.95 Q1541.36 1539.15 1535.72 1544.91 Z\" fill=\"#000000\" fill-rule=\"evenodd\" fill-opacity=\"1\" /><path clip-path=\"url(#clip930)\" d=\"M1761.57 1544.91 L1777.89 1544.91 L1777.89 1548.85 L1755.95 1548.85 L1755.95 1544.91 Q1758.61 1542.16 1763.19 1537.53 Q1767.8 1532.88 1768.98 1531.53 Q1771.22 1529.01 1772.1 1527.27 Q1773.01 1525.51 1773.01 1523.82 Q1773.01 1521.07 1771.06 1519.33 Q1769.14 1517.6 1766.04 1517.6 Q1763.84 1517.6 1761.39 1518.36 Q1758.95 1519.13 1756.18 1520.68 L1756.18 1515.95 Q1759 1514.82 1761.45 1514.24 Q1763.91 1513.66 1765.95 1513.66 Q1771.32 1513.66 1774.51 1516.35 Q1777.7 1519.03 1777.7 1523.52 Q1777.7 1525.65 1776.89 1527.57 Q1776.11 1529.47 1774 1532.07 Q1773.42 1532.74 1770.32 1535.95 Q1767.22 1539.15 1761.57 1544.91 Z\" fill=\"#000000\" fill-rule=\"evenodd\" fill-opacity=\"1\" /><path clip-path=\"url(#clip930)\" d=\"M1800.55 1518.36 L1788.75 1536.81 L1800.55 1536.81 L1800.55 1518.36 M1799.32 1514.29 L1805.2 1514.29 L1805.2 1536.81 L1810.13 1536.81 L1810.13 1540.7 L1805.2 1540.7 L1805.2 1548.85 L1800.55 1548.85 L1800.55 1540.7 L1784.95 1540.7 L1784.95 1536.19 L1799.32 1514.29 Z\" fill=\"#000000\" fill-rule=\"evenodd\" fill-opacity=\"1\" /><path clip-path=\"url(#clip930)\" d=\"M2018.79 1544.91 L2035.11 1544.91 L2035.11 1548.85 L2013.16 1548.85 L2013.16 1544.91 Q2015.83 1542.16 2020.41 1537.53 Q2025.02 1532.88 2026.2 1531.53 Q2028.44 1529.01 2029.32 1527.27 Q2030.22 1525.51 2030.22 1523.82 Q2030.22 1521.07 2028.28 1519.33 Q2026.36 1517.6 2023.26 1517.6 Q2021.06 1517.6 2018.6 1518.36 Q2016.17 1519.13 2013.4 1520.68 L2013.4 1515.95 Q2016.22 1514.82 2018.67 1514.24 Q2021.13 1513.66 2023.16 1513.66 Q2028.53 1513.66 2031.73 1516.35 Q2034.92 1519.03 2034.92 1523.52 Q2034.92 1525.65 2034.11 1527.57 Q2033.33 1529.47 2031.22 1532.07 Q2030.64 1532.74 2027.54 1535.95 Q2024.44 1539.15 2018.79 1544.91 Z\" fill=\"#000000\" fill-rule=\"evenodd\" fill-opacity=\"1\" /><path clip-path=\"url(#clip930)\" d=\"M2055.5 1529.7 Q2052.35 1529.7 2050.5 1531.86 Q2048.67 1534.01 2048.67 1537.76 Q2048.67 1541.49 2050.5 1543.66 Q2052.35 1545.82 2055.5 1545.82 Q2058.65 1545.82 2060.48 1543.66 Q2062.33 1541.49 2062.33 1537.76 Q2062.33 1534.01 2060.48 1531.86 Q2058.65 1529.7 2055.5 1529.7 M2064.78 1515.05 L2064.78 1519.31 Q2063.03 1518.48 2061.22 1518.04 Q2059.44 1517.6 2057.68 1517.6 Q2053.05 1517.6 2050.59 1520.72 Q2048.16 1523.85 2047.82 1530.17 Q2049.18 1528.15 2051.24 1527.09 Q2053.3 1526 2055.78 1526 Q2060.99 1526 2064 1529.17 Q2067.03 1532.32 2067.03 1537.76 Q2067.03 1543.08 2063.88 1546.3 Q2060.73 1549.52 2055.5 1549.52 Q2049.51 1549.52 2046.34 1544.94 Q2043.16 1540.33 2043.16 1531.6 Q2043.16 1523.41 2047.05 1518.55 Q2050.94 1513.66 2057.49 1513.66 Q2059.25 1513.66 2061.03 1514.01 Q2062.84 1514.36 2064.78 1515.05 Z\" fill=\"#000000\" fill-rule=\"evenodd\" fill-opacity=\"1\" /><path clip-path=\"url(#clip930)\" d=\"M2275.97 1544.91 L2292.29 1544.91 L2292.29 1548.85 L2270.35 1548.85 L2270.35 1544.91 Q2273.01 1542.16 2277.59 1537.53 Q2282.2 1532.88 2283.38 1531.53 Q2285.63 1529.01 2286.51 1527.27 Q2287.41 1525.51 2287.41 1523.82 Q2287.41 1521.07 2285.46 1519.33 Q2283.54 1517.6 2280.44 1517.6 Q2278.24 1517.6 2275.79 1518.36 Q2273.36 1519.13 2270.58 1520.68 L2270.58 1515.95 Q2273.4 1514.82 2275.86 1514.24 Q2278.31 1513.66 2280.35 1513.66 Q2285.72 1513.66 2288.91 1516.35 Q2292.11 1519.03 2292.11 1523.52 Q2292.11 1525.65 2291.3 1527.57 Q2290.51 1529.47 2288.4 1532.07 Q2287.83 1532.74 2284.72 1535.95 Q2281.62 1539.15 2275.97 1544.91 Z\" fill=\"#000000\" fill-rule=\"evenodd\" fill-opacity=\"1\" /><path clip-path=\"url(#clip930)\" d=\"M2312.11 1532.44 Q2308.77 1532.44 2306.85 1534.22 Q2304.96 1536 2304.96 1539.13 Q2304.96 1542.25 2306.85 1544.03 Q2308.77 1545.82 2312.11 1545.82 Q2315.44 1545.82 2317.36 1544.03 Q2319.28 1542.23 2319.28 1539.13 Q2319.28 1536 2317.36 1534.22 Q2315.46 1532.44 2312.11 1532.44 M2307.43 1530.45 Q2304.42 1529.7 2302.73 1527.64 Q2301.07 1525.58 2301.07 1522.62 Q2301.07 1518.48 2304.01 1516.07 Q2306.97 1513.66 2312.11 1513.66 Q2317.27 1513.66 2320.21 1516.07 Q2323.15 1518.48 2323.15 1522.62 Q2323.15 1525.58 2321.46 1527.64 Q2319.79 1529.7 2316.81 1530.45 Q2320.19 1531.23 2322.06 1533.52 Q2323.96 1535.82 2323.96 1539.13 Q2323.96 1544.15 2320.88 1546.83 Q2317.83 1549.52 2312.11 1549.52 Q2306.39 1549.52 2303.31 1546.83 Q2300.26 1544.15 2300.26 1539.13 Q2300.26 1535.82 2302.15 1533.52 Q2304.05 1531.23 2307.43 1530.45 M2305.72 1523.06 Q2305.72 1525.75 2307.39 1527.25 Q2309.08 1528.76 2312.11 1528.76 Q2315.12 1528.76 2316.81 1527.25 Q2318.52 1525.75 2318.52 1523.06 Q2318.52 1520.38 2316.81 1518.87 Q2315.12 1517.37 2312.11 1517.37 Q2309.08 1517.37 2307.39 1518.87 Q2305.72 1520.38 2305.72 1523.06 Z\" fill=\"#000000\" fill-rule=\"evenodd\" fill-opacity=\"1\" /><polyline clip-path=\"url(#clip932)\" style=\"stroke:#000000; stroke-linecap:butt; stroke-linejoin:round; stroke-width:2; stroke-opacity:0.1; fill:none\" points=\"\n",
       "  1341.85,1445.72 2352.76,1445.72 \n",
       "  \"/>\n",
       "<polyline clip-path=\"url(#clip932)\" style=\"stroke:#000000; stroke-linecap:butt; stroke-linejoin:round; stroke-width:2; stroke-opacity:0.1; fill:none\" points=\"\n",
       "  1341.85,1174.17 2352.76,1174.17 \n",
       "  \"/>\n",
       "<polyline clip-path=\"url(#clip932)\" style=\"stroke:#000000; stroke-linecap:butt; stroke-linejoin:round; stroke-width:2; stroke-opacity:0.1; fill:none\" points=\"\n",
       "  1341.85,902.62 2352.76,902.62 \n",
       "  \"/>\n",
       "<polyline clip-path=\"url(#clip932)\" style=\"stroke:#000000; stroke-linecap:butt; stroke-linejoin:round; stroke-width:2; stroke-opacity:0.1; fill:none\" points=\"\n",
       "  1341.85,631.072 2352.76,631.072 \n",
       "  \"/>\n",
       "<polyline clip-path=\"url(#clip932)\" style=\"stroke:#000000; stroke-linecap:butt; stroke-linejoin:round; stroke-width:2; stroke-opacity:0.1; fill:none\" points=\"\n",
       "  1341.85,359.524 2352.76,359.524 \n",
       "  \"/>\n",
       "<polyline clip-path=\"url(#clip932)\" style=\"stroke:#000000; stroke-linecap:butt; stroke-linejoin:round; stroke-width:2; stroke-opacity:0.1; fill:none\" points=\"\n",
       "  1341.85,87.9763 2352.76,87.9763 \n",
       "  \"/>\n",
       "<polyline clip-path=\"url(#clip930)\" style=\"stroke:#000000; stroke-linecap:butt; stroke-linejoin:round; stroke-width:4; stroke-opacity:1; fill:none\" points=\"\n",
       "  1341.85,1486.45 1341.85,47.2441 \n",
       "  \"/>\n",
       "<polyline clip-path=\"url(#clip930)\" style=\"stroke:#000000; stroke-linecap:butt; stroke-linejoin:round; stroke-width:4; stroke-opacity:1; fill:none\" points=\"\n",
       "  1341.85,1445.72 1360.75,1445.72 \n",
       "  \"/>\n",
       "<polyline clip-path=\"url(#clip930)\" style=\"stroke:#000000; stroke-linecap:butt; stroke-linejoin:round; stroke-width:4; stroke-opacity:1; fill:none\" points=\"\n",
       "  1341.85,1174.17 1360.75,1174.17 \n",
       "  \"/>\n",
       "<polyline clip-path=\"url(#clip930)\" style=\"stroke:#000000; stroke-linecap:butt; stroke-linejoin:round; stroke-width:4; stroke-opacity:1; fill:none\" points=\"\n",
       "  1341.85,902.62 1360.75,902.62 \n",
       "  \"/>\n",
       "<polyline clip-path=\"url(#clip930)\" style=\"stroke:#000000; stroke-linecap:butt; stroke-linejoin:round; stroke-width:4; stroke-opacity:1; fill:none\" points=\"\n",
       "  1341.85,631.072 1360.75,631.072 \n",
       "  \"/>\n",
       "<polyline clip-path=\"url(#clip930)\" style=\"stroke:#000000; stroke-linecap:butt; stroke-linejoin:round; stroke-width:4; stroke-opacity:1; fill:none\" points=\"\n",
       "  1341.85,359.524 1360.75,359.524 \n",
       "  \"/>\n",
       "<polyline clip-path=\"url(#clip930)\" style=\"stroke:#000000; stroke-linecap:butt; stroke-linejoin:round; stroke-width:4; stroke-opacity:1; fill:none\" points=\"\n",
       "  1341.85,87.9763 1360.75,87.9763 \n",
       "  \"/>\n",
       "<path clip-path=\"url(#clip930)\" d=\"M1293.91 1431.51 Q1290.3 1431.51 1288.47 1435.08 Q1286.66 1438.62 1286.66 1445.75 Q1286.66 1452.86 1288.47 1456.42 Q1290.3 1459.96 1293.91 1459.96 Q1297.54 1459.96 1299.35 1456.42 Q1301.18 1452.86 1301.18 1445.75 Q1301.18 1438.62 1299.35 1435.08 Q1297.54 1431.51 1293.91 1431.51 M1293.91 1427.81 Q1299.72 1427.81 1302.77 1432.42 Q1305.85 1437 1305.85 1445.75 Q1305.85 1454.48 1302.77 1459.08 Q1299.72 1463.67 1293.91 1463.67 Q1288.1 1463.67 1285.02 1459.08 Q1281.96 1454.48 1281.96 1445.75 Q1281.96 1437 1285.02 1432.42 Q1288.1 1427.81 1293.91 1427.81 Z\" fill=\"#000000\" fill-rule=\"evenodd\" fill-opacity=\"1\" /><path clip-path=\"url(#clip930)\" d=\"M1254.56 1187.51 L1262.2 1187.51 L1262.2 1161.15 L1253.89 1162.81 L1253.89 1158.55 L1262.15 1156.89 L1266.83 1156.89 L1266.83 1187.51 L1274.46 1187.51 L1274.46 1191.45 L1254.56 1191.45 L1254.56 1187.51 Z\" fill=\"#000000\" fill-rule=\"evenodd\" fill-opacity=\"1\" /><path clip-path=\"url(#clip930)\" d=\"M1293.91 1159.97 Q1290.3 1159.97 1288.47 1163.53 Q1286.66 1167.07 1286.66 1174.2 Q1286.66 1181.31 1288.47 1184.87 Q1290.3 1188.42 1293.91 1188.42 Q1297.54 1188.42 1299.35 1184.87 Q1301.18 1181.31 1301.18 1174.2 Q1301.18 1167.07 1299.35 1163.53 Q1297.54 1159.97 1293.91 1159.97 M1293.91 1156.26 Q1299.72 1156.26 1302.77 1160.87 Q1305.85 1165.45 1305.85 1174.2 Q1305.85 1182.93 1302.77 1187.54 Q1299.72 1192.12 1293.91 1192.12 Q1288.1 1192.12 1285.02 1187.54 Q1281.96 1182.93 1281.96 1174.2 Q1281.96 1165.45 1285.02 1160.87 Q1288.1 1156.26 1293.91 1156.26 Z\" fill=\"#000000\" fill-rule=\"evenodd\" fill-opacity=\"1\" /><path clip-path=\"url(#clip930)\" d=\"M1257.77 915.965 L1274.09 915.965 L1274.09 919.9 L1252.15 919.9 L1252.15 915.965 Q1254.81 913.21 1259.39 908.581 Q1264 903.928 1265.18 902.585 Q1267.43 900.062 1268.31 898.326 Q1269.21 896.567 1269.21 894.877 Q1269.21 892.122 1267.27 890.386 Q1265.34 888.65 1262.24 888.65 Q1260.04 888.65 1257.59 889.414 Q1255.16 890.178 1252.38 891.729 L1252.38 887.007 Q1255.21 885.872 1257.66 885.294 Q1260.11 884.715 1262.15 884.715 Q1267.52 884.715 1270.71 887.4 Q1273.91 890.085 1273.91 894.576 Q1273.91 896.706 1273.1 898.627 Q1272.31 900.525 1270.2 903.118 Q1269.63 903.789 1266.52 907.006 Q1263.42 910.201 1257.77 915.965 Z\" fill=\"#000000\" fill-rule=\"evenodd\" fill-opacity=\"1\" /><path clip-path=\"url(#clip930)\" d=\"M1293.91 888.419 Q1290.3 888.419 1288.47 891.983 Q1286.66 895.525 1286.66 902.655 Q1286.66 909.761 1288.47 913.326 Q1290.3 916.868 1293.91 916.868 Q1297.54 916.868 1299.35 913.326 Q1301.18 909.761 1301.18 902.655 Q1301.18 895.525 1299.35 891.983 Q1297.54 888.419 1293.91 888.419 M1293.91 884.715 Q1299.72 884.715 1302.77 889.321 Q1305.85 893.905 1305.85 902.655 Q1305.85 911.381 1302.77 915.988 Q1299.72 920.571 1293.91 920.571 Q1288.1 920.571 1285.02 915.988 Q1281.96 911.381 1281.96 902.655 Q1281.96 893.905 1285.02 889.321 Q1288.1 884.715 1293.91 884.715 Z\" fill=\"#000000\" fill-rule=\"evenodd\" fill-opacity=\"1\" /><path clip-path=\"url(#clip930)\" d=\"M1267.91 629.718 Q1271.27 630.435 1273.14 632.704 Q1275.04 634.972 1275.04 638.306 Q1275.04 643.422 1271.52 646.222 Q1268.01 649.023 1261.52 649.023 Q1259.35 649.023 1257.03 648.584 Q1254.74 648.167 1252.29 647.31 L1252.29 642.797 Q1254.23 643.931 1256.55 644.509 Q1258.86 645.088 1261.39 645.088 Q1265.78 645.088 1268.08 643.352 Q1270.39 641.616 1270.39 638.306 Q1270.39 635.25 1268.24 633.537 Q1266.11 631.801 1262.29 631.801 L1258.26 631.801 L1258.26 627.959 L1262.47 627.959 Q1265.92 627.959 1267.75 626.593 Q1269.58 625.204 1269.58 622.611 Q1269.58 619.949 1267.68 618.537 Q1265.81 617.102 1262.29 617.102 Q1260.37 617.102 1258.17 617.519 Q1255.97 617.936 1253.33 618.815 L1253.33 614.649 Q1255.99 613.908 1258.31 613.537 Q1260.64 613.167 1262.71 613.167 Q1268.03 613.167 1271.13 615.598 Q1274.23 618.005 1274.23 622.125 Q1274.23 624.996 1272.59 626.986 Q1270.95 628.954 1267.91 629.718 Z\" fill=\"#000000\" fill-rule=\"evenodd\" fill-opacity=\"1\" /><path clip-path=\"url(#clip930)\" d=\"M1293.91 616.871 Q1290.3 616.871 1288.47 620.436 Q1286.66 623.977 1286.66 631.107 Q1286.66 638.213 1288.47 641.778 Q1290.3 645.32 1293.91 645.32 Q1297.54 645.32 1299.35 641.778 Q1301.18 638.213 1301.18 631.107 Q1301.18 623.977 1299.35 620.436 Q1297.54 616.871 1293.91 616.871 M1293.91 613.167 Q1299.72 613.167 1302.77 617.774 Q1305.85 622.357 1305.85 631.107 Q1305.85 639.834 1302.77 644.44 Q1299.72 649.023 1293.91 649.023 Q1288.1 649.023 1285.02 644.44 Q1281.96 639.834 1281.96 631.107 Q1281.96 622.357 1285.02 617.774 Q1288.1 613.167 1293.91 613.167 Z\" fill=\"#000000\" fill-rule=\"evenodd\" fill-opacity=\"1\" /><path clip-path=\"url(#clip930)\" d=\"M1266.59 346.318 L1254.79 364.767 L1266.59 364.767 L1266.59 346.318 M1265.37 342.244 L1271.25 342.244 L1271.25 364.767 L1276.18 364.767 L1276.18 368.656 L1271.25 368.656 L1271.25 376.804 L1266.59 376.804 L1266.59 368.656 L1250.99 368.656 L1250.99 364.142 L1265.37 342.244 Z\" fill=\"#000000\" fill-rule=\"evenodd\" fill-opacity=\"1\" /><path clip-path=\"url(#clip930)\" d=\"M1293.91 345.323 Q1290.3 345.323 1288.47 348.888 Q1286.66 352.429 1286.66 359.559 Q1286.66 366.665 1288.47 370.23 Q1290.3 373.772 1293.91 373.772 Q1297.54 373.772 1299.35 370.23 Q1301.18 366.665 1301.18 359.559 Q1301.18 352.429 1299.35 348.888 Q1297.54 345.323 1293.91 345.323 M1293.91 341.619 Q1299.72 341.619 1302.77 346.226 Q1305.85 350.809 1305.85 359.559 Q1305.85 368.286 1302.77 372.892 Q1299.72 377.475 1293.91 377.475 Q1288.1 377.475 1285.02 372.892 Q1281.96 368.286 1281.96 359.559 Q1281.96 350.809 1285.02 346.226 Q1288.1 341.619 1293.91 341.619 Z\" fill=\"#000000\" fill-rule=\"evenodd\" fill-opacity=\"1\" /><path clip-path=\"url(#clip930)\" d=\"M1253.79 70.6963 L1272.15 70.6963 L1272.15 74.6314 L1258.08 74.6314 L1258.08 83.1036 Q1259.09 82.7564 1260.11 82.5944 Q1261.13 82.4092 1262.15 82.4092 Q1267.94 82.4092 1271.32 85.5805 Q1274.7 88.7517 1274.7 94.1684 Q1274.7 99.747 1271.22 102.849 Q1267.75 105.928 1261.43 105.928 Q1259.26 105.928 1256.99 105.557 Q1254.74 105.187 1252.33 104.446 L1252.33 99.747 Q1254.42 100.881 1256.64 101.437 Q1258.86 101.992 1261.34 101.992 Q1265.34 101.992 1267.68 99.8859 Q1270.02 97.7795 1270.02 94.1684 Q1270.02 90.5573 1267.68 88.4508 Q1265.34 86.3443 1261.34 86.3443 Q1259.46 86.3443 1257.59 86.761 Q1255.74 87.1777 1253.79 88.0573 L1253.79 70.6963 Z\" fill=\"#000000\" fill-rule=\"evenodd\" fill-opacity=\"1\" /><path clip-path=\"url(#clip930)\" d=\"M1293.91 73.775 Q1290.3 73.775 1288.47 77.3398 Q1286.66 80.8814 1286.66 88.011 Q1286.66 95.1174 1288.47 98.6822 Q1290.3 102.224 1293.91 102.224 Q1297.54 102.224 1299.35 98.6822 Q1301.18 95.1174 1301.18 88.011 Q1301.18 80.8814 1299.35 77.3398 Q1297.54 73.775 1293.91 73.775 M1293.91 70.0713 Q1299.72 70.0713 1302.77 74.6777 Q1305.85 79.261 1305.85 88.011 Q1305.85 96.7378 1302.77 101.344 Q1299.72 105.928 1293.91 105.928 Q1288.1 105.928 1285.02 101.344 Q1281.96 96.7378 1281.96 88.011 Q1281.96 79.261 1285.02 74.6777 Q1288.1 70.0713 1293.91 70.0713 Z\" fill=\"#000000\" fill-rule=\"evenodd\" fill-opacity=\"1\" /><path clip-path=\"url(#clip932)\" d=\"\n",
       "M1397.45 1364.25 L1397.45 1445.72 L1461.72 1445.72 L1461.72 1364.25 L1397.45 1364.25 L1397.45 1364.25  Z\n",
       "  \" fill=\"#009af9\" fill-rule=\"evenodd\" fill-opacity=\"1\"/>\n",
       "<polyline clip-path=\"url(#clip932)\" style=\"stroke:#000000; stroke-linecap:butt; stroke-linejoin:round; stroke-width:4; stroke-opacity:1; fill:none\" points=\"\n",
       "  1397.45,1364.25 1397.45,1445.72 1461.72,1445.72 1461.72,1364.25 1397.45,1364.25 \n",
       "  \"/>\n",
       "<path clip-path=\"url(#clip932)\" d=\"\n",
       "M1461.72 1255.63 L1461.72 1445.72 L1525.98 1445.72 L1525.98 1255.63 L1461.72 1255.63 L1461.72 1255.63  Z\n",
       "  \" fill=\"#009af9\" fill-rule=\"evenodd\" fill-opacity=\"1\"/>\n",
       "<polyline clip-path=\"url(#clip932)\" style=\"stroke:#000000; stroke-linecap:butt; stroke-linejoin:round; stroke-width:4; stroke-opacity:1; fill:none\" points=\"\n",
       "  1461.72,1255.63 1461.72,1445.72 1525.98,1445.72 1525.98,1255.63 1461.72,1255.63 \n",
       "  \"/>\n",
       "<path clip-path=\"url(#clip932)\" d=\"\n",
       "M1525.98 1065.55 L1525.98 1445.72 L1590.25 1445.72 L1590.25 1065.55 L1525.98 1065.55 L1525.98 1065.55  Z\n",
       "  \" fill=\"#009af9\" fill-rule=\"evenodd\" fill-opacity=\"1\"/>\n",
       "<polyline clip-path=\"url(#clip932)\" style=\"stroke:#000000; stroke-linecap:butt; stroke-linejoin:round; stroke-width:4; stroke-opacity:1; fill:none\" points=\"\n",
       "  1525.98,1065.55 1525.98,1445.72 1590.25,1445.72 1590.25,1065.55 1525.98,1065.55 \n",
       "  \"/>\n",
       "<path clip-path=\"url(#clip932)\" d=\"\n",
       "M1590.25 712.536 L1590.25 1445.72 L1654.51 1445.72 L1654.51 712.536 L1590.25 712.536 L1590.25 712.536  Z\n",
       "  \" fill=\"#009af9\" fill-rule=\"evenodd\" fill-opacity=\"1\"/>\n",
       "<polyline clip-path=\"url(#clip932)\" style=\"stroke:#000000; stroke-linecap:butt; stroke-linejoin:round; stroke-width:4; stroke-opacity:1; fill:none\" points=\"\n",
       "  1590.25,712.536 1590.25,1445.72 1654.51,1445.72 1654.51,712.536 1590.25,712.536 \n",
       "  \"/>\n",
       "<path clip-path=\"url(#clip932)\" d=\"\n",
       "M1654.51 305.215 L1654.51 1445.72 L1718.78 1445.72 L1718.78 305.215 L1654.51 305.215 L1654.51 305.215  Z\n",
       "  \" fill=\"#009af9\" fill-rule=\"evenodd\" fill-opacity=\"1\"/>\n",
       "<polyline clip-path=\"url(#clip932)\" style=\"stroke:#000000; stroke-linecap:butt; stroke-linejoin:round; stroke-width:4; stroke-opacity:1; fill:none\" points=\"\n",
       "  1654.51,305.215 1654.51,1445.72 1718.78,1445.72 1718.78,305.215 1654.51,305.215 \n",
       "  \"/>\n",
       "<path clip-path=\"url(#clip932)\" d=\"\n",
       "M1718.78 332.369 L1718.78 1445.72 L1783.04 1445.72 L1783.04 332.369 L1718.78 332.369 L1718.78 332.369  Z\n",
       "  \" fill=\"#009af9\" fill-rule=\"evenodd\" fill-opacity=\"1\"/>\n",
       "<polyline clip-path=\"url(#clip932)\" style=\"stroke:#000000; stroke-linecap:butt; stroke-linejoin:round; stroke-width:4; stroke-opacity:1; fill:none\" points=\"\n",
       "  1718.78,332.369 1718.78,1445.72 1783.04,1445.72 1783.04,332.369 1718.78,332.369 \n",
       "  \"/>\n",
       "<path clip-path=\"url(#clip932)\" d=\"\n",
       "M1783.04 87.9763 L1783.04 1445.72 L1847.3 1445.72 L1847.3 87.9763 L1783.04 87.9763 L1783.04 87.9763  Z\n",
       "  \" fill=\"#009af9\" fill-rule=\"evenodd\" fill-opacity=\"1\"/>\n",
       "<polyline clip-path=\"url(#clip932)\" style=\"stroke:#000000; stroke-linecap:butt; stroke-linejoin:round; stroke-width:4; stroke-opacity:1; fill:none\" points=\"\n",
       "  1783.04,87.9763 1783.04,1445.72 1847.3,1445.72 1847.3,87.9763 1783.04,87.9763 \n",
       "  \"/>\n",
       "<path clip-path=\"url(#clip932)\" d=\"\n",
       "M1847.3 305.215 L1847.3 1445.72 L1911.57 1445.72 L1911.57 305.215 L1847.3 305.215 L1847.3 305.215  Z\n",
       "  \" fill=\"#009af9\" fill-rule=\"evenodd\" fill-opacity=\"1\"/>\n",
       "<polyline clip-path=\"url(#clip932)\" style=\"stroke:#000000; stroke-linecap:butt; stroke-linejoin:round; stroke-width:4; stroke-opacity:1; fill:none\" points=\"\n",
       "  1847.3,305.215 1847.3,1445.72 1911.57,1445.72 1911.57,305.215 1847.3,305.215 \n",
       "  \"/>\n",
       "<path clip-path=\"url(#clip932)\" d=\"\n",
       "M1911.57 929.775 L1911.57 1445.72 L1975.83 1445.72 L1975.83 929.775 L1911.57 929.775 L1911.57 929.775  Z\n",
       "  \" fill=\"#009af9\" fill-rule=\"evenodd\" fill-opacity=\"1\"/>\n",
       "<polyline clip-path=\"url(#clip932)\" style=\"stroke:#000000; stroke-linecap:butt; stroke-linejoin:round; stroke-width:4; stroke-opacity:1; fill:none\" points=\"\n",
       "  1911.57,929.775 1911.57,1445.72 1975.83,1445.72 1975.83,929.775 1911.57,929.775 \n",
       "  \"/>\n",
       "<path clip-path=\"url(#clip932)\" d=\"\n",
       "M1975.83 902.62 L1975.83 1445.72 L2040.1 1445.72 L2040.1 902.62 L1975.83 902.62 L1975.83 902.62  Z\n",
       "  \" fill=\"#009af9\" fill-rule=\"evenodd\" fill-opacity=\"1\"/>\n",
       "<polyline clip-path=\"url(#clip932)\" style=\"stroke:#000000; stroke-linecap:butt; stroke-linejoin:round; stroke-width:4; stroke-opacity:1; fill:none\" points=\"\n",
       "  1975.83,902.62 1975.83,1445.72 2040.1,1445.72 2040.1,902.62 1975.83,902.62 \n",
       "  \"/>\n",
       "<path clip-path=\"url(#clip932)\" d=\"\n",
       "M2040.1 929.775 L2040.1 1445.72 L2104.36 1445.72 L2104.36 929.775 L2040.1 929.775 L2040.1 929.775  Z\n",
       "  \" fill=\"#009af9\" fill-rule=\"evenodd\" fill-opacity=\"1\"/>\n",
       "<polyline clip-path=\"url(#clip932)\" style=\"stroke:#000000; stroke-linecap:butt; stroke-linejoin:round; stroke-width:4; stroke-opacity:1; fill:none\" points=\"\n",
       "  2040.1,929.775 2040.1,1445.72 2104.36,1445.72 2104.36,929.775 2040.1,929.775 \n",
       "  \"/>\n",
       "<path clip-path=\"url(#clip932)\" d=\"\n",
       "M2104.36 1255.63 L2104.36 1445.72 L2168.63 1445.72 L2168.63 1255.63 L2104.36 1255.63 L2104.36 1255.63  Z\n",
       "  \" fill=\"#009af9\" fill-rule=\"evenodd\" fill-opacity=\"1\"/>\n",
       "<polyline clip-path=\"url(#clip932)\" style=\"stroke:#000000; stroke-linecap:butt; stroke-linejoin:round; stroke-width:4; stroke-opacity:1; fill:none\" points=\"\n",
       "  2104.36,1255.63 2104.36,1445.72 2168.63,1445.72 2168.63,1255.63 2104.36,1255.63 \n",
       "  \"/>\n",
       "<path clip-path=\"url(#clip932)\" d=\"\n",
       "M2168.63 1309.94 L2168.63 1445.72 L2232.89 1445.72 L2232.89 1309.94 L2168.63 1309.94 L2168.63 1309.94  Z\n",
       "  \" fill=\"#009af9\" fill-rule=\"evenodd\" fill-opacity=\"1\"/>\n",
       "<polyline clip-path=\"url(#clip932)\" style=\"stroke:#000000; stroke-linecap:butt; stroke-linejoin:round; stroke-width:4; stroke-opacity:1; fill:none\" points=\"\n",
       "  2168.63,1309.94 2168.63,1445.72 2232.89,1445.72 2232.89,1309.94 2168.63,1309.94 \n",
       "  \"/>\n",
       "<path clip-path=\"url(#clip932)\" d=\"\n",
       "M2232.89 1337.1 L2232.89 1445.72 L2297.15 1445.72 L2297.15 1337.1 L2232.89 1337.1 L2232.89 1337.1  Z\n",
       "  \" fill=\"#009af9\" fill-rule=\"evenodd\" fill-opacity=\"1\"/>\n",
       "<polyline clip-path=\"url(#clip932)\" style=\"stroke:#000000; stroke-linecap:butt; stroke-linejoin:round; stroke-width:4; stroke-opacity:1; fill:none\" points=\"\n",
       "  2232.89,1337.1 2232.89,1445.72 2297.15,1445.72 2297.15,1337.1 2232.89,1337.1 \n",
       "  \"/>\n",
       "<circle clip-path=\"url(#clip932)\" style=\"fill:#009af9; stroke:none; fill-opacity:0\" cx=\"1429.59\" cy=\"1364.25\" r=\"2\"/>\n",
       "<circle clip-path=\"url(#clip932)\" style=\"fill:#009af9; stroke:none; fill-opacity:0\" cx=\"1493.85\" cy=\"1255.63\" r=\"2\"/>\n",
       "<circle clip-path=\"url(#clip932)\" style=\"fill:#009af9; stroke:none; fill-opacity:0\" cx=\"1558.12\" cy=\"1065.55\" r=\"2\"/>\n",
       "<circle clip-path=\"url(#clip932)\" style=\"fill:#009af9; stroke:none; fill-opacity:0\" cx=\"1622.38\" cy=\"712.536\" r=\"2\"/>\n",
       "<circle clip-path=\"url(#clip932)\" style=\"fill:#009af9; stroke:none; fill-opacity:0\" cx=\"1686.64\" cy=\"305.215\" r=\"2\"/>\n",
       "<circle clip-path=\"url(#clip932)\" style=\"fill:#009af9; stroke:none; fill-opacity:0\" cx=\"1750.91\" cy=\"332.369\" r=\"2\"/>\n",
       "<circle clip-path=\"url(#clip932)\" style=\"fill:#009af9; stroke:none; fill-opacity:0\" cx=\"1815.17\" cy=\"87.9763\" r=\"2\"/>\n",
       "<circle clip-path=\"url(#clip932)\" style=\"fill:#009af9; stroke:none; fill-opacity:0\" cx=\"1879.44\" cy=\"305.215\" r=\"2\"/>\n",
       "<circle clip-path=\"url(#clip932)\" style=\"fill:#009af9; stroke:none; fill-opacity:0\" cx=\"1943.7\" cy=\"929.775\" r=\"2\"/>\n",
       "<circle clip-path=\"url(#clip932)\" style=\"fill:#009af9; stroke:none; fill-opacity:0\" cx=\"2007.97\" cy=\"902.62\" r=\"2\"/>\n",
       "<circle clip-path=\"url(#clip932)\" style=\"fill:#009af9; stroke:none; fill-opacity:0\" cx=\"2072.23\" cy=\"929.775\" r=\"2\"/>\n",
       "<circle clip-path=\"url(#clip932)\" style=\"fill:#009af9; stroke:none; fill-opacity:0\" cx=\"2136.49\" cy=\"1255.63\" r=\"2\"/>\n",
       "<circle clip-path=\"url(#clip932)\" style=\"fill:#009af9; stroke:none; fill-opacity:0\" cx=\"2200.76\" cy=\"1309.94\" r=\"2\"/>\n",
       "<circle clip-path=\"url(#clip932)\" style=\"fill:#009af9; stroke:none; fill-opacity:0\" cx=\"2265.02\" cy=\"1337.1\" r=\"2\"/>\n",
       "<path clip-path=\"url(#clip930)\" d=\"\n",
       "M2034.82 198.898 L2319.06 198.898 L2319.06 95.2176 L2034.82 95.2176  Z\n",
       "  \" fill=\"#ffffff\" fill-rule=\"evenodd\" fill-opacity=\"1\"/>\n",
       "<polyline clip-path=\"url(#clip930)\" style=\"stroke:#000000; stroke-linecap:butt; stroke-linejoin:round; stroke-width:4; stroke-opacity:1; fill:none\" points=\"\n",
       "  2034.82,198.898 2319.06,198.898 2319.06,95.2176 2034.82,95.2176 2034.82,198.898 \n",
       "  \"/>\n",
       "<path clip-path=\"url(#clip930)\" d=\"\n",
       "M2046.06 167.794 L2113.45 167.794 L2113.45 126.322 L2046.06 126.322 L2046.06 167.794  Z\n",
       "  \" fill=\"#009af9\" fill-rule=\"evenodd\" fill-opacity=\"1\"/>\n",
       "<polyline clip-path=\"url(#clip930)\" style=\"stroke:#000000; stroke-linecap:butt; stroke-linejoin:round; stroke-width:4; stroke-opacity:1; fill:none\" points=\"\n",
       "  2046.06,167.794 2113.45,167.794 2113.45,126.322 2046.06,126.322 2046.06,167.794 \n",
       "  \"/>\n",
       "<path clip-path=\"url(#clip930)\" d=\"M2129.36 126.373 L2129.36 139.359 L2135.24 139.359 Q2138.5 139.359 2140.28 137.669 Q2142.07 135.979 2142.07 132.854 Q2142.07 129.752 2140.28 128.062 Q2138.5 126.373 2135.24 126.373 L2129.36 126.373 M2124.68 122.53 L2135.24 122.53 Q2141.05 122.53 2144.01 125.169 Q2147 127.785 2147 132.854 Q2147 137.97 2144.01 140.585 Q2141.05 143.201 2135.24 143.201 L2129.36 143.201 L2129.36 157.09 L2124.68 157.09 L2124.68 122.53 Z\" fill=\"#000000\" fill-rule=\"evenodd\" fill-opacity=\"1\" /><path clip-path=\"url(#clip930)\" d=\"M2167.28 135.146 Q2166.56 134.729 2165.7 134.544 Q2164.87 134.336 2163.85 134.336 Q2160.24 134.336 2158.29 136.697 Q2156.37 139.035 2156.37 143.433 L2156.37 157.09 L2152.09 157.09 L2152.09 131.164 L2156.37 131.164 L2156.37 135.192 Q2157.72 132.831 2159.87 131.697 Q2162.02 130.539 2165.1 130.539 Q2165.54 130.539 2166.07 130.609 Q2166.6 130.655 2167.25 130.771 L2167.28 135.146 Z\" fill=\"#000000\" fill-rule=\"evenodd\" fill-opacity=\"1\" /><path clip-path=\"url(#clip930)\" d=\"M2192.88 143.062 L2192.88 145.146 L2173.29 145.146 Q2173.57 149.544 2175.93 151.859 Q2178.32 154.15 2182.55 154.15 Q2185.01 154.15 2187.3 153.548 Q2189.61 152.947 2191.88 151.743 L2191.88 155.771 Q2189.59 156.743 2187.18 157.252 Q2184.78 157.761 2182.3 157.761 Q2176.09 157.761 2172.46 154.15 Q2168.85 150.539 2168.85 144.382 Q2168.85 138.016 2172.28 134.289 Q2175.72 130.539 2181.56 130.539 Q2186.79 130.539 2189.82 133.919 Q2192.88 137.275 2192.88 143.062 M2188.62 141.812 Q2188.57 138.317 2186.65 136.234 Q2184.75 134.15 2181.6 134.15 Q2178.04 134.15 2175.89 136.164 Q2173.76 138.178 2173.43 141.835 L2188.62 141.812 Z\" fill=\"#000000\" fill-rule=\"evenodd\" fill-opacity=\"1\" /><path clip-path=\"url(#clip930)\" d=\"M2216.93 135.099 L2216.93 121.072 L2221.19 121.072 L2221.19 157.09 L2216.93 157.09 L2216.93 153.201 Q2215.59 155.516 2213.52 156.65 Q2211.49 157.761 2208.62 157.761 Q2203.92 157.761 2200.96 154.011 Q2198.02 150.261 2198.02 144.15 Q2198.02 138.039 2200.96 134.289 Q2203.92 130.539 2208.62 130.539 Q2211.49 130.539 2213.52 131.673 Q2215.59 132.785 2216.93 135.099 M2202.41 144.15 Q2202.41 148.849 2204.34 151.534 Q2206.28 154.197 2209.66 154.197 Q2213.04 154.197 2214.98 151.534 Q2216.93 148.849 2216.93 144.15 Q2216.93 139.451 2214.98 136.789 Q2213.04 134.104 2209.66 134.104 Q2206.28 134.104 2204.34 136.789 Q2202.41 139.451 2202.41 144.15 Z\" fill=\"#000000\" fill-rule=\"evenodd\" fill-opacity=\"1\" /><path clip-path=\"url(#clip930)\" d=\"M2230.56 151.21 L2235.45 151.21 L2235.45 157.09 L2230.56 157.09 L2230.56 151.21 Z\" fill=\"#000000\" fill-rule=\"evenodd\" fill-opacity=\"1\" /><path clip-path=\"url(#clip930)\" d=\"M2274.11 151.539 Q2274.3 151.75 2274.3 151.961 Q2274.3 152.171 2273.83 152.78 Q2273.39 153.389 2272.43 154.209 Q2271.46 155.029 2270.22 155.802 Q2268.98 156.575 2267.16 157.09 Q2265.33 157.629 2263.41 157.629 Q2259.82 157.629 2257.72 155.263 Q2255.63 152.897 2255.63 149.501 Q2255.63 146.199 2257.48 143.037 Q2259.33 139.851 2262.33 137.884 Q2265.33 135.893 2268.49 135.893 Q2271 135.893 2272.57 137.064 Q2274.13 138.235 2274.13 140.015 Q2274.13 141.397 2273.34 142.24 Q2272.54 143.083 2271.46 143.083 Q2270.72 143.083 2270.2 142.662 Q2269.68 142.217 2269.68 141.397 Q2269.68 140.343 2270.55 139.523 Q2270.88 139.195 2271.25 139.055 Q2271.65 138.891 2271.89 138.891 Q2272.12 138.867 2272.66 138.867 Q2272.17 137.954 2271 137.462 Q2269.85 136.947 2268.54 136.947 Q2266.59 136.947 2264.74 138.305 Q2262.89 139.64 2261.77 141.748 Q2260.64 143.809 2259.92 146.737 Q2259.19 149.642 2259.19 151.328 Q2259.19 153.647 2260.27 155.099 Q2261.35 156.551 2263.5 156.551 Q2263.92 156.551 2264.37 156.528 Q2264.84 156.504 2266.01 156.247 Q2267.2 155.989 2268.26 155.544 Q2269.31 155.099 2270.64 154.139 Q2272 153.155 2273.08 151.82 Q2273.46 151.328 2273.71 151.328 Q2273.92 151.328 2274.11 151.539 Z\" fill=\"#000000\" fill-rule=\"evenodd\" fill-opacity=\"1\" /><path clip-path=\"url(#clip930)\" d=\"M2291.6 161.985 Q2291.6 164.346 2290.4 166.658 Q2289.22 168.953 2287.32 170.396 Q2285.43 171.839 2283.5 171.839 Q2281.61 171.839 2280.42 170.396 Q2279.24 168.937 2279.24 166.559 Q2279.24 165.723 2279.33 165.133 Q2279.43 164.543 2279.78 163.165 L2282.53 152.213 Q2283.01 150.164 2283.01 150.147 Q2283.01 149.95 2282.92 149.852 Q2282.86 149.737 2282.47 149.655 Q2282.07 149.573 2281.32 149.573 Q2281.01 149.573 2280.86 149.557 Q2280.73 149.541 2280.61 149.459 Q2280.51 149.36 2280.51 149.163 Q2280.51 148.885 2280.63 148.737 Q2280.76 148.573 2280.86 148.54 Q2280.96 148.508 2281.15 148.491 Q2281.43 148.475 2282.37 148.393 Q2283.3 148.294 2284.11 148.229 Q2284.91 148.163 2285.25 148.163 Q2285.45 148.163 2285.55 148.262 Q2285.66 148.344 2285.66 148.442 L2285.68 148.524 L2283.2 158.64 Q2285.15 156.623 2287.14 156.623 Q2289.12 156.623 2290.35 158.148 Q2291.6 159.673 2291.6 161.985 M2289.17 160.509 Q2289.17 158.952 2288.58 158.165 Q2288.01 157.361 2287.06 157.361 Q2286.25 157.361 2285.2 157.968 Q2284.15 158.575 2283.04 160.05 Q2282.83 160.329 2282.74 160.493 Q2282.68 160.657 2282.53 161.214 L2281.79 164.313 Q2281.25 166.428 2281.25 167.707 Q2281.25 169.445 2281.89 170.265 Q2282.53 171.084 2283.5 171.084 Q2284.51 171.084 2285.58 170.183 Q2286.65 169.281 2287.47 167.641 Q2287.97 166.559 2288.56 164.231 Q2289.17 161.886 2289.17 160.509 Z\" fill=\"#000000\" fill-rule=\"evenodd\" fill-opacity=\"1\" /></svg>\n"
      ],
      "text/html": [
       "<?xml version=\"1.0\" encoding=\"utf-8\"?>\n",
       "<svg xmlns=\"http://www.w3.org/2000/svg\" xmlns:xlink=\"http://www.w3.org/1999/xlink\" width=\"600\" height=\"400\" viewBox=\"0 0 2400 1600\">\n",
       "<defs>\n",
       "  <clipPath id=\"clip980\">\n",
       "    <rect x=\"0\" y=\"0\" width=\"2400\" height=\"1600\"/>\n",
       "  </clipPath>\n",
       "</defs>\n",
       "<path clip-path=\"url(#clip980)\" d=\"\n",
       "M0 1600 L2400 1600 L2400 0 L0 0  Z\n",
       "  \" fill=\"#ffffff\" fill-rule=\"evenodd\" fill-opacity=\"1\"/>\n",
       "<defs>\n",
       "  <clipPath id=\"clip981\">\n",
       "    <rect x=\"480\" y=\"0\" width=\"1681\" height=\"1600\"/>\n",
       "  </clipPath>\n",
       "</defs>\n",
       "<defs>\n",
       "  <clipPath id=\"clip982\">\n",
       "    <rect x=\"1341\" y=\"47\" width=\"1012\" height=\"1440\"/>\n",
       "  </clipPath>\n",
       "</defs>\n",
       "<path clip-path=\"url(#clip980)\" d=\"\n",
       "M141.853 1486.45 L1152.76 1486.45 L1152.76 47.2441 L141.853 47.2441  Z\n",
       "  \" fill=\"#ffffff\" fill-rule=\"evenodd\" fill-opacity=\"1\"/>\n",
       "<defs>\n",
       "  <clipPath id=\"clip983\">\n",
       "    <rect x=\"141\" y=\"47\" width=\"1012\" height=\"1440\"/>\n",
       "  </clipPath>\n",
       "</defs>\n",
       "<polyline clip-path=\"url(#clip983)\" style=\"stroke:#000000; stroke-linecap:butt; stroke-linejoin:round; stroke-width:2; stroke-opacity:0.1; fill:none\" points=\"\n",
       "  325.983,1486.45 325.983,47.2441 \n",
       "  \"/>\n",
       "<polyline clip-path=\"url(#clip983)\" style=\"stroke:#000000; stroke-linecap:butt; stroke-linejoin:round; stroke-width:2; stroke-opacity:0.1; fill:none\" points=\"\n",
       "  583.04,1486.45 583.04,47.2441 \n",
       "  \"/>\n",
       "<polyline clip-path=\"url(#clip983)\" style=\"stroke:#000000; stroke-linecap:butt; stroke-linejoin:round; stroke-width:2; stroke-opacity:0.1; fill:none\" points=\"\n",
       "  840.097,1486.45 840.097,47.2441 \n",
       "  \"/>\n",
       "<polyline clip-path=\"url(#clip983)\" style=\"stroke:#000000; stroke-linecap:butt; stroke-linejoin:round; stroke-width:2; stroke-opacity:0.1; fill:none\" points=\"\n",
       "  1097.15,1486.45 1097.15,47.2441 \n",
       "  \"/>\n",
       "<polyline clip-path=\"url(#clip980)\" style=\"stroke:#000000; stroke-linecap:butt; stroke-linejoin:round; stroke-width:4; stroke-opacity:1; fill:none\" points=\"\n",
       "  141.853,1486.45 1152.76,1486.45 \n",
       "  \"/>\n",
       "<polyline clip-path=\"url(#clip980)\" style=\"stroke:#000000; stroke-linecap:butt; stroke-linejoin:round; stroke-width:4; stroke-opacity:1; fill:none\" points=\"\n",
       "  325.983,1486.45 325.983,1467.55 \n",
       "  \"/>\n",
       "<polyline clip-path=\"url(#clip980)\" style=\"stroke:#000000; stroke-linecap:butt; stroke-linejoin:round; stroke-width:4; stroke-opacity:1; fill:none\" points=\"\n",
       "  583.04,1486.45 583.04,1467.55 \n",
       "  \"/>\n",
       "<polyline clip-path=\"url(#clip980)\" style=\"stroke:#000000; stroke-linecap:butt; stroke-linejoin:round; stroke-width:4; stroke-opacity:1; fill:none\" points=\"\n",
       "  840.097,1486.45 840.097,1467.55 \n",
       "  \"/>\n",
       "<polyline clip-path=\"url(#clip980)\" style=\"stroke:#000000; stroke-linecap:butt; stroke-linejoin:round; stroke-width:4; stroke-opacity:1; fill:none\" points=\"\n",
       "  1097.15,1486.45 1097.15,1467.55 \n",
       "  \"/>\n",
       "<path clip-path=\"url(#clip980)\" d=\"M305.555 1544.91 L321.874 1544.91 L321.874 1548.85 L299.93 1548.85 L299.93 1544.91 Q302.592 1542.16 307.175 1537.53 Q311.782 1532.88 312.962 1531.53 Q315.208 1529.01 316.087 1527.27 Q316.99 1525.51 316.99 1523.82 Q316.99 1521.07 315.046 1519.33 Q313.124 1517.6 310.022 1517.6 Q307.823 1517.6 305.37 1518.36 Q302.939 1519.13 300.161 1520.68 L300.161 1515.95 Q302.985 1514.82 305.439 1514.24 Q307.893 1513.66 309.93 1513.66 Q315.3 1513.66 318.495 1516.35 Q321.689 1519.03 321.689 1523.52 Q321.689 1525.65 320.879 1527.57 Q320.092 1529.47 317.985 1532.07 Q317.407 1532.74 314.305 1535.95 Q311.203 1539.15 305.555 1544.91 Z\" fill=\"#000000\" fill-rule=\"evenodd\" fill-opacity=\"1\" /><path clip-path=\"url(#clip980)\" d=\"M335.717 1544.91 L352.036 1544.91 L352.036 1548.85 L330.092 1548.85 L330.092 1544.91 Q332.754 1542.16 337.337 1537.53 Q341.944 1532.88 343.124 1531.53 Q345.369 1529.01 346.249 1527.27 Q347.152 1525.51 347.152 1523.82 Q347.152 1521.07 345.207 1519.33 Q343.286 1517.6 340.184 1517.6 Q337.985 1517.6 335.532 1518.36 Q333.101 1519.13 330.323 1520.68 L330.323 1515.95 Q333.147 1514.82 335.601 1514.24 Q338.055 1513.66 340.092 1513.66 Q345.462 1513.66 348.656 1516.35 Q351.851 1519.03 351.851 1523.52 Q351.851 1525.65 351.041 1527.57 Q350.254 1529.47 348.147 1532.07 Q347.569 1532.74 344.467 1535.95 Q341.365 1539.15 335.717 1544.91 Z\" fill=\"#000000\" fill-rule=\"evenodd\" fill-opacity=\"1\" /><path clip-path=\"url(#clip980)\" d=\"M561.57 1544.91 L577.89 1544.91 L577.89 1548.85 L555.945 1548.85 L555.945 1544.91 Q558.607 1542.16 563.191 1537.53 Q567.797 1532.88 568.978 1531.53 Q571.223 1529.01 572.103 1527.27 Q573.005 1525.51 573.005 1523.82 Q573.005 1521.07 571.061 1519.33 Q569.14 1517.6 566.038 1517.6 Q563.839 1517.6 561.385 1518.36 Q558.955 1519.13 556.177 1520.68 L556.177 1515.95 Q559.001 1514.82 561.455 1514.24 Q563.908 1513.66 565.945 1513.66 Q571.316 1513.66 574.51 1516.35 Q577.705 1519.03 577.705 1523.52 Q577.705 1525.65 576.894 1527.57 Q576.107 1529.47 574.001 1532.07 Q573.422 1532.74 570.32 1535.95 Q567.218 1539.15 561.57 1544.91 Z\" fill=\"#000000\" fill-rule=\"evenodd\" fill-opacity=\"1\" /><path clip-path=\"url(#clip980)\" d=\"M600.552 1518.36 L588.746 1536.81 L600.552 1536.81 L600.552 1518.36 M599.325 1514.29 L605.204 1514.29 L605.204 1536.81 L610.135 1536.81 L610.135 1540.7 L605.204 1540.7 L605.204 1548.85 L600.552 1548.85 L600.552 1540.7 L584.95 1540.7 L584.95 1536.19 L599.325 1514.29 Z\" fill=\"#000000\" fill-rule=\"evenodd\" fill-opacity=\"1\" /><path clip-path=\"url(#clip980)\" d=\"M818.79 1544.91 L835.109 1544.91 L835.109 1548.85 L813.165 1548.85 L813.165 1544.91 Q815.827 1542.16 820.41 1537.53 Q825.016 1532.88 826.197 1531.53 Q828.442 1529.01 829.322 1527.27 Q830.225 1525.51 830.225 1523.82 Q830.225 1521.07 828.28 1519.33 Q826.359 1517.6 823.257 1517.6 Q821.058 1517.6 818.604 1518.36 Q816.174 1519.13 813.396 1520.68 L813.396 1515.95 Q816.22 1514.82 818.674 1514.24 Q821.127 1513.66 823.165 1513.66 Q828.535 1513.66 831.729 1516.35 Q834.924 1519.03 834.924 1523.52 Q834.924 1525.65 834.114 1527.57 Q833.326 1529.47 831.22 1532.07 Q830.641 1532.74 827.539 1535.95 Q824.438 1539.15 818.79 1544.91 Z\" fill=\"#000000\" fill-rule=\"evenodd\" fill-opacity=\"1\" /><path clip-path=\"url(#clip980)\" d=\"M855.502 1529.7 Q852.354 1529.7 850.502 1531.86 Q848.674 1534.01 848.674 1537.76 Q848.674 1541.49 850.502 1543.66 Q852.354 1545.82 855.502 1545.82 Q858.65 1545.82 860.479 1543.66 Q862.331 1541.49 862.331 1537.76 Q862.331 1534.01 860.479 1531.86 Q858.65 1529.7 855.502 1529.7 M864.785 1515.05 L864.785 1519.31 Q863.025 1518.48 861.22 1518.04 Q859.437 1517.6 857.678 1517.6 Q853.049 1517.6 850.595 1520.72 Q848.164 1523.85 847.817 1530.17 Q849.183 1528.15 851.243 1527.09 Q853.303 1526 855.78 1526 Q860.988 1526 863.998 1529.17 Q867.03 1532.32 867.03 1537.76 Q867.03 1543.08 863.882 1546.3 Q860.734 1549.52 855.502 1549.52 Q849.507 1549.52 846.336 1544.94 Q843.164 1540.33 843.164 1531.6 Q843.164 1523.41 847.053 1518.55 Q850.942 1513.66 857.493 1513.66 Q859.252 1513.66 861.035 1514.01 Q862.84 1514.36 864.785 1515.05 Z\" fill=\"#000000\" fill-rule=\"evenodd\" fill-opacity=\"1\" /><path clip-path=\"url(#clip980)\" d=\"M1075.97 1544.91 L1092.29 1544.91 L1092.29 1548.85 L1070.35 1548.85 L1070.35 1544.91 Q1073.01 1542.16 1077.59 1537.53 Q1082.2 1532.88 1083.38 1531.53 Q1085.63 1529.01 1086.51 1527.27 Q1087.41 1525.51 1087.41 1523.82 Q1087.41 1521.07 1085.46 1519.33 Q1083.54 1517.6 1080.44 1517.6 Q1078.24 1517.6 1075.79 1518.36 Q1073.36 1519.13 1070.58 1520.68 L1070.58 1515.95 Q1073.4 1514.82 1075.86 1514.24 Q1078.31 1513.66 1080.35 1513.66 Q1085.72 1513.66 1088.91 1516.35 Q1092.11 1519.03 1092.11 1523.52 Q1092.11 1525.65 1091.3 1527.57 Q1090.51 1529.47 1088.4 1532.07 Q1087.83 1532.74 1084.72 1535.95 Q1081.62 1539.15 1075.97 1544.91 Z\" fill=\"#000000\" fill-rule=\"evenodd\" fill-opacity=\"1\" /><path clip-path=\"url(#clip980)\" d=\"M1112.11 1532.44 Q1108.77 1532.44 1106.85 1534.22 Q1104.96 1536 1104.96 1539.13 Q1104.96 1542.25 1106.85 1544.03 Q1108.77 1545.82 1112.11 1545.82 Q1115.44 1545.82 1117.36 1544.03 Q1119.28 1542.23 1119.28 1539.13 Q1119.28 1536 1117.36 1534.22 Q1115.46 1532.44 1112.11 1532.44 M1107.43 1530.45 Q1104.42 1529.7 1102.73 1527.64 Q1101.07 1525.58 1101.07 1522.62 Q1101.07 1518.48 1104.01 1516.07 Q1106.97 1513.66 1112.11 1513.66 Q1117.27 1513.66 1120.21 1516.07 Q1123.15 1518.48 1123.15 1522.62 Q1123.15 1525.58 1121.46 1527.64 Q1119.79 1529.7 1116.81 1530.45 Q1120.19 1531.23 1122.06 1533.52 Q1123.96 1535.82 1123.96 1539.13 Q1123.96 1544.15 1120.88 1546.83 Q1117.83 1549.52 1112.11 1549.52 Q1106.39 1549.52 1103.31 1546.83 Q1100.26 1544.15 1100.26 1539.13 Q1100.26 1535.82 1102.15 1533.52 Q1104.05 1531.23 1107.43 1530.45 M1105.72 1523.06 Q1105.72 1525.75 1107.39 1527.25 Q1109.08 1528.76 1112.11 1528.76 Q1115.12 1528.76 1116.81 1527.25 Q1118.52 1525.75 1118.52 1523.06 Q1118.52 1520.38 1116.81 1518.87 Q1115.12 1517.37 1112.11 1517.37 Q1109.08 1517.37 1107.39 1518.87 Q1105.72 1520.38 1105.72 1523.06 Z\" fill=\"#000000\" fill-rule=\"evenodd\" fill-opacity=\"1\" /><polyline clip-path=\"url(#clip983)\" style=\"stroke:#000000; stroke-linecap:butt; stroke-linejoin:round; stroke-width:2; stroke-opacity:0.1; fill:none\" points=\"\n",
       "  141.853,1445.72 1152.76,1445.72 \n",
       "  \"/>\n",
       "<polyline clip-path=\"url(#clip983)\" style=\"stroke:#000000; stroke-linecap:butt; stroke-linejoin:round; stroke-width:2; stroke-opacity:0.1; fill:none\" points=\"\n",
       "  141.853,1137.14 1152.76,1137.14 \n",
       "  \"/>\n",
       "<polyline clip-path=\"url(#clip983)\" style=\"stroke:#000000; stroke-linecap:butt; stroke-linejoin:round; stroke-width:2; stroke-opacity:0.1; fill:none\" points=\"\n",
       "  141.853,828.561 1152.76,828.561 \n",
       "  \"/>\n",
       "<polyline clip-path=\"url(#clip983)\" style=\"stroke:#000000; stroke-linecap:butt; stroke-linejoin:round; stroke-width:2; stroke-opacity:0.1; fill:none\" points=\"\n",
       "  141.853,519.984 1152.76,519.984 \n",
       "  \"/>\n",
       "<polyline clip-path=\"url(#clip983)\" style=\"stroke:#000000; stroke-linecap:butt; stroke-linejoin:round; stroke-width:2; stroke-opacity:0.1; fill:none\" points=\"\n",
       "  141.853,211.407 1152.76,211.407 \n",
       "  \"/>\n",
       "<polyline clip-path=\"url(#clip980)\" style=\"stroke:#000000; stroke-linecap:butt; stroke-linejoin:round; stroke-width:4; stroke-opacity:1; fill:none\" points=\"\n",
       "  141.853,1486.45 141.853,47.2441 \n",
       "  \"/>\n",
       "<polyline clip-path=\"url(#clip980)\" style=\"stroke:#000000; stroke-linecap:butt; stroke-linejoin:round; stroke-width:4; stroke-opacity:1; fill:none\" points=\"\n",
       "  141.853,1445.72 160.751,1445.72 \n",
       "  \"/>\n",
       "<polyline clip-path=\"url(#clip980)\" style=\"stroke:#000000; stroke-linecap:butt; stroke-linejoin:round; stroke-width:4; stroke-opacity:1; fill:none\" points=\"\n",
       "  141.853,1137.14 160.751,1137.14 \n",
       "  \"/>\n",
       "<polyline clip-path=\"url(#clip980)\" style=\"stroke:#000000; stroke-linecap:butt; stroke-linejoin:round; stroke-width:4; stroke-opacity:1; fill:none\" points=\"\n",
       "  141.853,828.561 160.751,828.561 \n",
       "  \"/>\n",
       "<polyline clip-path=\"url(#clip980)\" style=\"stroke:#000000; stroke-linecap:butt; stroke-linejoin:round; stroke-width:4; stroke-opacity:1; fill:none\" points=\"\n",
       "  141.853,519.984 160.751,519.984 \n",
       "  \"/>\n",
       "<polyline clip-path=\"url(#clip980)\" style=\"stroke:#000000; stroke-linecap:butt; stroke-linejoin:round; stroke-width:4; stroke-opacity:1; fill:none\" points=\"\n",
       "  141.853,211.407 160.751,211.407 \n",
       "  \"/>\n",
       "<path clip-path=\"url(#clip980)\" d=\"M93.9086 1431.51 Q90.2975 1431.51 88.4688 1435.08 Q86.6632 1438.62 86.6632 1445.75 Q86.6632 1452.86 88.4688 1456.42 Q90.2975 1459.96 93.9086 1459.96 Q97.5428 1459.96 99.3483 1456.42 Q101.177 1452.86 101.177 1445.75 Q101.177 1438.62 99.3483 1435.08 Q97.5428 1431.51 93.9086 1431.51 M93.9086 1427.81 Q99.7187 1427.81 102.774 1432.42 Q105.853 1437 105.853 1445.75 Q105.853 1454.48 102.774 1459.08 Q99.7187 1463.67 93.9086 1463.67 Q88.0984 1463.67 85.0197 1459.08 Q81.9642 1454.48 81.9642 1445.75 Q81.9642 1437 85.0197 1432.42 Q88.0984 1427.81 93.9086 1427.81 Z\" fill=\"#000000\" fill-rule=\"evenodd\" fill-opacity=\"1\" /><path clip-path=\"url(#clip980)\" d=\"M54.5569 1150.48 L62.1958 1150.48 L62.1958 1124.12 L53.8856 1125.78 L53.8856 1121.53 L62.1495 1119.86 L66.8254 1119.86 L66.8254 1150.48 L74.4642 1150.48 L74.4642 1154.42 L54.5569 1154.42 L54.5569 1150.48 Z\" fill=\"#000000\" fill-rule=\"evenodd\" fill-opacity=\"1\" /><path clip-path=\"url(#clip980)\" d=\"M93.9086 1122.94 Q90.2975 1122.94 88.4688 1126.5 Q86.6632 1130.04 86.6632 1137.17 Q86.6632 1144.28 88.4688 1147.84 Q90.2975 1151.39 93.9086 1151.39 Q97.5428 1151.39 99.3483 1147.84 Q101.177 1144.28 101.177 1137.17 Q101.177 1130.04 99.3483 1126.5 Q97.5428 1122.94 93.9086 1122.94 M93.9086 1119.23 Q99.7187 1119.23 102.774 1123.84 Q105.853 1128.42 105.853 1137.17 Q105.853 1145.9 102.774 1150.51 Q99.7187 1155.09 93.9086 1155.09 Q88.0984 1155.09 85.0197 1150.51 Q81.9642 1145.9 81.9642 1137.17 Q81.9642 1128.42 85.0197 1123.84 Q88.0984 1119.23 93.9086 1119.23 Z\" fill=\"#000000\" fill-rule=\"evenodd\" fill-opacity=\"1\" /><path clip-path=\"url(#clip980)\" d=\"M57.7745 841.906 L74.0939 841.906 L74.0939 845.841 L52.1495 845.841 L52.1495 841.906 Q54.8115 839.152 59.3949 834.522 Q64.0013 829.869 65.1819 828.527 Q67.4272 826.004 68.3068 824.267 Q69.2096 822.508 69.2096 820.818 Q69.2096 818.064 67.2652 816.328 Q65.3439 814.592 62.2421 814.592 Q60.043 814.592 57.5893 815.355 Q55.1588 816.119 52.381 817.67 L52.381 812.948 Q55.2051 811.814 57.6588 811.235 Q60.1124 810.656 62.1495 810.656 Q67.5198 810.656 70.7142 813.342 Q73.9087 816.027 73.9087 820.517 Q73.9087 822.647 73.0985 824.568 Q72.3115 826.467 70.205 829.059 Q69.6263 829.73 66.5245 832.948 Q63.4226 836.142 57.7745 841.906 Z\" fill=\"#000000\" fill-rule=\"evenodd\" fill-opacity=\"1\" /><path clip-path=\"url(#clip980)\" d=\"M93.9086 814.36 Q90.2975 814.36 88.4688 817.925 Q86.6632 821.467 86.6632 828.596 Q86.6632 835.703 88.4688 839.267 Q90.2975 842.809 93.9086 842.809 Q97.5428 842.809 99.3483 839.267 Q101.177 835.703 101.177 828.596 Q101.177 821.467 99.3483 817.925 Q97.5428 814.36 93.9086 814.36 M93.9086 810.656 Q99.7187 810.656 102.774 815.263 Q105.853 819.846 105.853 828.596 Q105.853 837.323 102.774 841.929 Q99.7187 846.513 93.9086 846.513 Q88.0984 846.513 85.0197 841.929 Q81.9642 837.323 81.9642 828.596 Q81.9642 819.846 85.0197 815.263 Q88.0984 810.656 93.9086 810.656 Z\" fill=\"#000000\" fill-rule=\"evenodd\" fill-opacity=\"1\" /><path clip-path=\"url(#clip980)\" d=\"M67.9133 518.63 Q71.2698 519.348 73.1448 521.616 Q75.0429 523.885 75.0429 527.218 Q75.0429 532.334 71.5244 535.135 Q68.0059 537.936 61.5245 537.936 Q59.3486 537.936 57.0338 537.496 Q54.7421 537.079 52.2884 536.223 L52.2884 531.709 Q54.2328 532.843 56.5477 533.422 Q58.8625 534 61.3856 534 Q65.7837 534 68.0754 532.264 Q70.3902 530.528 70.3902 527.218 Q70.3902 524.162 68.2374 522.45 Q66.1078 520.713 62.2884 520.713 L58.2606 520.713 L58.2606 516.871 L62.4735 516.871 Q65.9226 516.871 67.7513 515.505 Q69.58 514.116 69.58 511.524 Q69.58 508.862 67.6819 507.45 Q65.8069 506.014 62.2884 506.014 Q60.3671 506.014 58.168 506.431 Q55.969 506.848 53.3301 507.727 L53.3301 503.561 Q55.9921 502.82 58.3069 502.45 Q60.6449 502.079 62.705 502.079 Q68.0291 502.079 71.1309 504.51 Q74.2327 506.917 74.2327 511.038 Q74.2327 513.908 72.5892 515.899 Q70.9457 517.866 67.9133 518.63 Z\" fill=\"#000000\" fill-rule=\"evenodd\" fill-opacity=\"1\" /><path clip-path=\"url(#clip980)\" d=\"M93.9086 505.783 Q90.2975 505.783 88.4688 509.348 Q86.6632 512.889 86.6632 520.019 Q86.6632 527.125 88.4688 530.69 Q90.2975 534.232 93.9086 534.232 Q97.5428 534.232 99.3483 530.69 Q101.177 527.125 101.177 520.019 Q101.177 512.889 99.3483 509.348 Q97.5428 505.783 93.9086 505.783 M93.9086 502.079 Q99.7187 502.079 102.774 506.686 Q105.853 511.269 105.853 520.019 Q105.853 528.746 102.774 533.352 Q99.7187 537.936 93.9086 537.936 Q88.0984 537.936 85.0197 533.352 Q81.9642 528.746 81.9642 520.019 Q81.9642 511.269 85.0197 506.686 Q88.0984 502.079 93.9086 502.079 Z\" fill=\"#000000\" fill-rule=\"evenodd\" fill-opacity=\"1\" /><path clip-path=\"url(#clip980)\" d=\"M66.5939 198.201 L54.7884 216.65 L66.5939 216.65 L66.5939 198.201 M65.367 194.127 L71.2466 194.127 L71.2466 216.65 L76.1772 216.65 L76.1772 220.539 L71.2466 220.539 L71.2466 228.687 L66.5939 228.687 L66.5939 220.539 L50.9921 220.539 L50.9921 216.025 L65.367 194.127 Z\" fill=\"#000000\" fill-rule=\"evenodd\" fill-opacity=\"1\" /><path clip-path=\"url(#clip980)\" d=\"M93.9086 197.206 Q90.2975 197.206 88.4688 200.771 Q86.6632 204.312 86.6632 211.442 Q86.6632 218.548 88.4688 222.113 Q90.2975 225.655 93.9086 225.655 Q97.5428 225.655 99.3483 222.113 Q101.177 218.548 101.177 211.442 Q101.177 204.312 99.3483 200.771 Q97.5428 197.206 93.9086 197.206 M93.9086 193.502 Q99.7187 193.502 102.774 198.109 Q105.853 202.692 105.853 211.442 Q105.853 220.169 102.774 224.775 Q99.7187 229.358 93.9086 229.358 Q88.0984 229.358 85.0197 224.775 Q81.9642 220.169 81.9642 211.442 Q81.9642 202.692 85.0197 198.109 Q88.0984 193.502 93.9086 193.502 Z\" fill=\"#000000\" fill-rule=\"evenodd\" fill-opacity=\"1\" /><path clip-path=\"url(#clip983)\" d=\"\n",
       "M197.454 1229.71 L197.454 1445.72 L261.719 1445.72 L261.719 1229.71 L197.454 1229.71 L197.454 1229.71  Z\n",
       "  \" fill=\"#009af9\" fill-rule=\"evenodd\" fill-opacity=\"1\"/>\n",
       "<polyline clip-path=\"url(#clip983)\" style=\"stroke:#000000; stroke-linecap:butt; stroke-linejoin:round; stroke-width:4; stroke-opacity:1; fill:none\" points=\"\n",
       "  197.454,1229.71 197.454,1445.72 261.719,1445.72 261.719,1229.71 197.454,1229.71 \n",
       "  \"/>\n",
       "<path clip-path=\"url(#clip983)\" d=\"\n",
       "M261.719 1168 L261.719 1445.72 L325.983 1445.72 L325.983 1168 L261.719 1168 L261.719 1168  Z\n",
       "  \" fill=\"#009af9\" fill-rule=\"evenodd\" fill-opacity=\"1\"/>\n",
       "<polyline clip-path=\"url(#clip983)\" style=\"stroke:#000000; stroke-linecap:butt; stroke-linejoin:round; stroke-width:4; stroke-opacity:1; fill:none\" points=\"\n",
       "  261.719,1168 261.719,1445.72 325.983,1445.72 325.983,1168 261.719,1168 \n",
       "  \"/>\n",
       "<path clip-path=\"url(#clip983)\" d=\"\n",
       "M325.983 1106.28 L325.983 1445.72 L390.247 1445.72 L390.247 1106.28 L325.983 1106.28 L325.983 1106.28  Z\n",
       "  \" fill=\"#009af9\" fill-rule=\"evenodd\" fill-opacity=\"1\"/>\n",
       "<polyline clip-path=\"url(#clip983)\" style=\"stroke:#000000; stroke-linecap:butt; stroke-linejoin:round; stroke-width:4; stroke-opacity:1; fill:none\" points=\"\n",
       "  325.983,1106.28 325.983,1445.72 390.247,1445.72 390.247,1106.28 325.983,1106.28 \n",
       "  \"/>\n",
       "<path clip-path=\"url(#clip983)\" d=\"\n",
       "M390.247 303.98 L390.247 1445.72 L454.512 1445.72 L454.512 303.98 L390.247 303.98 L390.247 303.98  Z\n",
       "  \" fill=\"#009af9\" fill-rule=\"evenodd\" fill-opacity=\"1\"/>\n",
       "<polyline clip-path=\"url(#clip983)\" style=\"stroke:#000000; stroke-linecap:butt; stroke-linejoin:round; stroke-width:4; stroke-opacity:1; fill:none\" points=\"\n",
       "  390.247,303.98 390.247,1445.72 454.512,1445.72 454.512,303.98 390.247,303.98 \n",
       "  \"/>\n",
       "<path clip-path=\"url(#clip983)\" d=\"\n",
       "M454.512 180.549 L454.512 1445.72 L518.776 1445.72 L518.776 180.549 L454.512 180.549 L454.512 180.549  Z\n",
       "  \" fill=\"#009af9\" fill-rule=\"evenodd\" fill-opacity=\"1\"/>\n",
       "<polyline clip-path=\"url(#clip983)\" style=\"stroke:#000000; stroke-linecap:butt; stroke-linejoin:round; stroke-width:4; stroke-opacity:1; fill:none\" points=\"\n",
       "  454.512,180.549 454.512,1445.72 518.776,1445.72 518.776,180.549 454.512,180.549 \n",
       "  \"/>\n",
       "<path clip-path=\"url(#clip983)\" d=\"\n",
       "M518.776 87.9763 L518.776 1445.72 L583.04 1445.72 L583.04 87.9763 L518.776 87.9763 L518.776 87.9763  Z\n",
       "  \" fill=\"#009af9\" fill-rule=\"evenodd\" fill-opacity=\"1\"/>\n",
       "<polyline clip-path=\"url(#clip983)\" style=\"stroke:#000000; stroke-linecap:butt; stroke-linejoin:round; stroke-width:4; stroke-opacity:1; fill:none\" points=\"\n",
       "  518.776,87.9763 518.776,1445.72 583.04,1445.72 583.04,87.9763 518.776,87.9763 \n",
       "  \"/>\n",
       "<path clip-path=\"url(#clip983)\" d=\"\n",
       "M583.04 303.98 L583.04 1445.72 L647.304 1445.72 L647.304 303.98 L583.04 303.98 L583.04 303.98  Z\n",
       "  \" fill=\"#009af9\" fill-rule=\"evenodd\" fill-opacity=\"1\"/>\n",
       "<polyline clip-path=\"url(#clip983)\" style=\"stroke:#000000; stroke-linecap:butt; stroke-linejoin:round; stroke-width:4; stroke-opacity:1; fill:none\" points=\"\n",
       "  583.04,303.98 583.04,1445.72 647.304,1445.72 647.304,303.98 583.04,303.98 \n",
       "  \"/>\n",
       "<path clip-path=\"url(#clip983)\" d=\"\n",
       "M647.304 180.549 L647.304 1445.72 L711.569 1445.72 L711.569 180.549 L647.304 180.549 L647.304 180.549  Z\n",
       "  \" fill=\"#009af9\" fill-rule=\"evenodd\" fill-opacity=\"1\"/>\n",
       "<polyline clip-path=\"url(#clip983)\" style=\"stroke:#000000; stroke-linecap:butt; stroke-linejoin:round; stroke-width:4; stroke-opacity:1; fill:none\" points=\"\n",
       "  647.304,180.549 647.304,1445.72 711.569,1445.72 711.569,180.549 647.304,180.549 \n",
       "  \"/>\n",
       "<path clip-path=\"url(#clip983)\" d=\"\n",
       "M711.569 550.842 L711.569 1445.72 L775.833 1445.72 L775.833 550.842 L711.569 550.842 L711.569 550.842  Z\n",
       "  \" fill=\"#009af9\" fill-rule=\"evenodd\" fill-opacity=\"1\"/>\n",
       "<polyline clip-path=\"url(#clip983)\" style=\"stroke:#000000; stroke-linecap:butt; stroke-linejoin:round; stroke-width:4; stroke-opacity:1; fill:none\" points=\"\n",
       "  711.569,550.842 711.569,1445.72 775.833,1445.72 775.833,550.842 711.569,550.842 \n",
       "  \"/>\n",
       "<path clip-path=\"url(#clip983)\" d=\"\n",
       "M775.833 890.277 L775.833 1445.72 L840.097 1445.72 L840.097 890.277 L775.833 890.277 L775.833 890.277  Z\n",
       "  \" fill=\"#009af9\" fill-rule=\"evenodd\" fill-opacity=\"1\"/>\n",
       "<polyline clip-path=\"url(#clip983)\" style=\"stroke:#000000; stroke-linecap:butt; stroke-linejoin:round; stroke-width:4; stroke-opacity:1; fill:none\" points=\"\n",
       "  775.833,890.277 775.833,1445.72 840.097,1445.72 840.097,890.277 775.833,890.277 \n",
       "  \"/>\n",
       "<path clip-path=\"url(#clip983)\" d=\"\n",
       "M840.097 1106.28 L840.097 1445.72 L904.362 1445.72 L904.362 1106.28 L840.097 1106.28 L840.097 1106.28  Z\n",
       "  \" fill=\"#009af9\" fill-rule=\"evenodd\" fill-opacity=\"1\"/>\n",
       "<polyline clip-path=\"url(#clip983)\" style=\"stroke:#000000; stroke-linecap:butt; stroke-linejoin:round; stroke-width:4; stroke-opacity:1; fill:none\" points=\"\n",
       "  840.097,1106.28 840.097,1445.72 904.362,1445.72 904.362,1106.28 840.097,1106.28 \n",
       "  \"/>\n",
       "<path clip-path=\"url(#clip983)\" d=\"\n",
       "M904.362 1291.43 L904.362 1445.72 L968.626 1445.72 L968.626 1291.43 L904.362 1291.43 L904.362 1291.43  Z\n",
       "  \" fill=\"#009af9\" fill-rule=\"evenodd\" fill-opacity=\"1\"/>\n",
       "<polyline clip-path=\"url(#clip983)\" style=\"stroke:#000000; stroke-linecap:butt; stroke-linejoin:round; stroke-width:4; stroke-opacity:1; fill:none\" points=\"\n",
       "  904.362,1291.43 904.362,1445.72 968.626,1445.72 968.626,1291.43 904.362,1291.43 \n",
       "  \"/>\n",
       "<path clip-path=\"url(#clip983)\" d=\"\n",
       "M968.626 1198.85 L968.626 1445.72 L1032.89 1445.72 L1032.89 1198.85 L968.626 1198.85 L968.626 1198.85  Z\n",
       "  \" fill=\"#009af9\" fill-rule=\"evenodd\" fill-opacity=\"1\"/>\n",
       "<polyline clip-path=\"url(#clip983)\" style=\"stroke:#000000; stroke-linecap:butt; stroke-linejoin:round; stroke-width:4; stroke-opacity:1; fill:none\" points=\"\n",
       "  968.626,1198.85 968.626,1445.72 1032.89,1445.72 1032.89,1198.85 968.626,1198.85 \n",
       "  \"/>\n",
       "<path clip-path=\"url(#clip983)\" d=\"\n",
       "M1032.89 1384 L1032.89 1445.72 L1097.15 1445.72 L1097.15 1384 L1032.89 1384 L1032.89 1384  Z\n",
       "  \" fill=\"#009af9\" fill-rule=\"evenodd\" fill-opacity=\"1\"/>\n",
       "<polyline clip-path=\"url(#clip983)\" style=\"stroke:#000000; stroke-linecap:butt; stroke-linejoin:round; stroke-width:4; stroke-opacity:1; fill:none\" points=\"\n",
       "  1032.89,1384 1032.89,1445.72 1097.15,1445.72 1097.15,1384 1032.89,1384 \n",
       "  \"/>\n",
       "<circle clip-path=\"url(#clip983)\" style=\"fill:#009af9; stroke:none; fill-opacity:0\" cx=\"229.587\" cy=\"1229.71\" r=\"2\"/>\n",
       "<circle clip-path=\"url(#clip983)\" style=\"fill:#009af9; stroke:none; fill-opacity:0\" cx=\"293.851\" cy=\"1168\" r=\"2\"/>\n",
       "<circle clip-path=\"url(#clip983)\" style=\"fill:#009af9; stroke:none; fill-opacity:0\" cx=\"358.115\" cy=\"1106.28\" r=\"2\"/>\n",
       "<circle clip-path=\"url(#clip983)\" style=\"fill:#009af9; stroke:none; fill-opacity:0\" cx=\"422.379\" cy=\"303.98\" r=\"2\"/>\n",
       "<circle clip-path=\"url(#clip983)\" style=\"fill:#009af9; stroke:none; fill-opacity:0\" cx=\"486.644\" cy=\"180.549\" r=\"2\"/>\n",
       "<circle clip-path=\"url(#clip983)\" style=\"fill:#009af9; stroke:none; fill-opacity:0\" cx=\"550.908\" cy=\"87.9763\" r=\"2\"/>\n",
       "<circle clip-path=\"url(#clip983)\" style=\"fill:#009af9; stroke:none; fill-opacity:0\" cx=\"615.172\" cy=\"303.98\" r=\"2\"/>\n",
       "<circle clip-path=\"url(#clip983)\" style=\"fill:#009af9; stroke:none; fill-opacity:0\" cx=\"679.437\" cy=\"180.549\" r=\"2\"/>\n",
       "<circle clip-path=\"url(#clip983)\" style=\"fill:#009af9; stroke:none; fill-opacity:0\" cx=\"743.701\" cy=\"550.842\" r=\"2\"/>\n",
       "<circle clip-path=\"url(#clip983)\" style=\"fill:#009af9; stroke:none; fill-opacity:0\" cx=\"807.965\" cy=\"890.277\" r=\"2\"/>\n",
       "<circle clip-path=\"url(#clip983)\" style=\"fill:#009af9; stroke:none; fill-opacity:0\" cx=\"872.229\" cy=\"1106.28\" r=\"2\"/>\n",
       "<circle clip-path=\"url(#clip983)\" style=\"fill:#009af9; stroke:none; fill-opacity:0\" cx=\"936.494\" cy=\"1291.43\" r=\"2\"/>\n",
       "<circle clip-path=\"url(#clip983)\" style=\"fill:#009af9; stroke:none; fill-opacity:0\" cx=\"1000.76\" cy=\"1198.85\" r=\"2\"/>\n",
       "<circle clip-path=\"url(#clip983)\" style=\"fill:#009af9; stroke:none; fill-opacity:0\" cx=\"1065.02\" cy=\"1384\" r=\"2\"/>\n",
       "<path clip-path=\"url(#clip980)\" d=\"\n",
       "M831.839 198.898 L1119.06 198.898 L1119.06 95.2176 L831.839 95.2176  Z\n",
       "  \" fill=\"#ffffff\" fill-rule=\"evenodd\" fill-opacity=\"1\"/>\n",
       "<polyline clip-path=\"url(#clip980)\" style=\"stroke:#000000; stroke-linecap:butt; stroke-linejoin:round; stroke-width:4; stroke-opacity:1; fill:none\" points=\"\n",
       "  831.839,198.898 1119.06,198.898 1119.06,95.2176 831.839,95.2176 831.839,198.898 \n",
       "  \"/>\n",
       "<path clip-path=\"url(#clip980)\" d=\"\n",
       "M843.071 167.794 L910.465 167.794 L910.465 126.322 L843.071 126.322 L843.071 167.794  Z\n",
       "  \" fill=\"#009af9\" fill-rule=\"evenodd\" fill-opacity=\"1\"/>\n",
       "<polyline clip-path=\"url(#clip980)\" style=\"stroke:#000000; stroke-linecap:butt; stroke-linejoin:round; stroke-width:4; stroke-opacity:1; fill:none\" points=\"\n",
       "  843.071,167.794 910.465,167.794 910.465,126.322 843.071,126.322 843.071,167.794 \n",
       "  \"/>\n",
       "<path clip-path=\"url(#clip980)\" d=\"M926.373 128.886 L926.373 141.872 L932.252 141.872 Q935.516 141.872 937.299 140.182 Q939.081 138.492 939.081 135.367 Q939.081 132.266 937.299 130.576 Q935.516 128.886 932.252 128.886 L926.373 128.886 M921.697 125.043 L932.252 125.043 Q938.063 125.043 941.025 127.682 Q944.012 130.298 944.012 135.367 Q944.012 140.483 941.025 143.099 Q938.063 145.715 932.252 145.715 L926.373 145.715 L926.373 159.603 L921.697 159.603 L921.697 125.043 Z\" fill=\"#000000\" fill-rule=\"evenodd\" fill-opacity=\"1\" /><path clip-path=\"url(#clip980)\" d=\"M964.289 137.659 Q963.572 137.242 962.715 137.057 Q961.882 136.849 960.863 136.849 Q957.252 136.849 955.308 139.21 Q953.387 141.548 953.387 145.946 L953.387 159.603 L949.104 159.603 L949.104 133.678 L953.387 133.678 L953.387 137.705 Q954.729 135.344 956.882 134.21 Q959.035 133.053 962.113 133.053 Q962.553 133.053 963.086 133.122 Q963.618 133.168 964.266 133.284 L964.289 137.659 Z\" fill=\"#000000\" fill-rule=\"evenodd\" fill-opacity=\"1\" /><path clip-path=\"url(#clip980)\" d=\"M989.891 145.576 L989.891 147.659 L970.308 147.659 Q970.586 152.057 972.947 154.372 Q975.331 156.664 979.567 156.664 Q982.021 156.664 984.312 156.062 Q986.627 155.46 988.896 154.256 L988.896 158.284 Q986.604 159.256 984.197 159.765 Q981.789 160.275 979.312 160.275 Q973.109 160.275 969.474 156.664 Q965.863 153.053 965.863 146.895 Q965.863 140.529 969.289 136.803 Q972.738 133.053 978.572 133.053 Q983.803 133.053 986.835 136.432 Q989.891 139.789 989.891 145.576 M985.632 144.326 Q985.585 140.83 983.664 138.747 Q981.766 136.664 978.618 136.664 Q975.053 136.664 972.9 138.678 Q970.771 140.692 970.447 144.349 L985.632 144.326 Z\" fill=\"#000000\" fill-rule=\"evenodd\" fill-opacity=\"1\" /><path clip-path=\"url(#clip980)\" d=\"M1013.94 137.613 L1013.94 123.585 L1018.2 123.585 L1018.2 159.603 L1013.94 159.603 L1013.94 155.715 Q1012.6 158.029 1010.54 159.164 Q1008.5 160.275 1005.63 160.275 Q1000.93 160.275 997.97 156.525 Q995.03 152.775 995.03 146.664 Q995.03 140.553 997.97 136.803 Q1000.93 133.053 1005.63 133.053 Q1008.5 133.053 1010.54 134.187 Q1012.6 135.298 1013.94 137.613 M999.428 146.664 Q999.428 151.363 1001.35 154.048 Q1003.29 156.71 1006.67 156.71 Q1010.05 156.71 1012 154.048 Q1013.94 151.363 1013.94 146.664 Q1013.94 141.965 1012 139.303 Q1010.05 136.617 1006.67 136.617 Q1003.29 136.617 1001.35 139.303 Q999.428 141.965 999.428 146.664 Z\" fill=\"#000000\" fill-rule=\"evenodd\" fill-opacity=\"1\" /><path clip-path=\"url(#clip980)\" d=\"M1027.58 153.724 L1032.46 153.724 L1032.46 159.603 L1027.58 159.603 L1027.58 153.724 Z\" fill=\"#000000\" fill-rule=\"evenodd\" fill-opacity=\"1\" /><path clip-path=\"url(#clip980)\" d=\"M1071.13 154.052 Q1071.31 154.263 1071.31 154.474 Q1071.31 154.685 1070.84 155.294 Q1070.4 155.903 1069.44 156.722 Q1068.48 157.542 1067.24 158.315 Q1066 159.088 1064.17 159.603 Q1062.34 160.142 1060.42 160.142 Q1056.84 160.142 1054.73 157.777 Q1052.65 155.411 1052.65 152.015 Q1052.65 148.712 1054.5 145.55 Q1056.35 142.365 1059.34 140.397 Q1062.34 138.406 1065.5 138.406 Q1068.01 138.406 1069.58 139.577 Q1071.15 140.748 1071.15 142.528 Q1071.15 143.91 1070.35 144.754 Q1069.56 145.597 1068.48 145.597 Q1067.73 145.597 1067.21 145.175 Q1066.7 144.73 1066.7 143.91 Q1066.7 142.856 1067.57 142.037 Q1067.89 141.709 1068.27 141.568 Q1068.67 141.404 1068.9 141.404 Q1069.13 141.381 1069.67 141.381 Q1069.18 140.467 1068.01 139.975 Q1066.86 139.46 1065.55 139.46 Q1063.61 139.46 1061.76 140.819 Q1059.91 142.154 1058.78 144.262 Q1057.66 146.323 1056.93 149.251 Q1056.21 152.155 1056.21 153.842 Q1056.21 156.16 1057.28 157.613 Q1058.36 159.065 1060.52 159.065 Q1060.94 159.065 1061.38 159.041 Q1061.85 159.018 1063.02 158.76 Q1064.22 158.503 1065.27 158.058 Q1066.32 157.613 1067.66 156.652 Q1069.02 155.668 1070.09 154.333 Q1070.47 153.842 1070.73 153.842 Q1070.94 153.842 1071.13 154.052 Z\" fill=\"#000000\" fill-rule=\"evenodd\" fill-opacity=\"1\" /><path clip-path=\"url(#clip980)\" d=\"M1091.63 164.144 Q1091.19 166.259 1090.61 167.473 Q1089.69 169.325 1088.14 169.325 Q1086.96 169.325 1086.12 168.604 Q1085.28 167.882 1085.09 166.8 Q1082.94 169.325 1080.71 169.325 Q1078.74 169.325 1077.5 167.833 Q1076.25 166.325 1076.25 163.947 Q1076.25 161.554 1077.43 159.258 Q1078.63 156.963 1080.51 155.536 Q1082.4 154.11 1084.33 154.11 Q1086.38 154.11 1087.43 156.258 Q1087.51 155.668 1087.89 155.225 Q1088.27 154.782 1088.84 154.782 Q1089.28 154.782 1089.55 155.028 Q1089.81 155.258 1089.81 155.684 Q1089.81 155.897 1089.58 156.832 L1088.37 161.521 L1087.63 164.554 Q1087.35 165.669 1087.27 166.079 Q1087.2 166.489 1087.2 167.03 Q1087.2 168.571 1088.2 168.571 Q1088.69 168.571 1089.09 168.26 Q1089.48 167.948 1089.79 167.292 Q1090.1 166.636 1090.3 166.03 Q1090.5 165.407 1090.76 164.423 Q1090.84 164.029 1090.91 163.931 Q1090.99 163.816 1091.22 163.816 Q1091.63 163.816 1091.63 164.144 M1087.02 157.799 Q1087.02 157.652 1086.91 157.242 Q1086.79 156.832 1086.53 156.258 Q1086.27 155.684 1085.69 155.274 Q1085.14 154.848 1084.38 154.848 Q1083.37 154.848 1082.3 155.717 Q1081.25 156.586 1080.48 158.061 Q1079.89 159.242 1079.25 161.718 Q1078.63 164.193 1078.63 165.423 Q1078.63 166.177 1078.79 166.849 Q1078.97 167.505 1079.48 168.046 Q1079.99 168.571 1080.77 168.571 Q1082.69 168.571 1084.58 166.194 Q1084.94 165.784 1085.02 165.62 Q1085.12 165.439 1085.25 164.948 L1086.92 158.373 Q1087.02 157.881 1087.02 157.799 Z\" fill=\"#000000\" fill-rule=\"evenodd\" fill-opacity=\"1\" /><path clip-path=\"url(#clip980)\" d=\"\n",
       "M1341.85 1486.45 L2352.76 1486.45 L2352.76 47.2441 L1341.85 47.2441  Z\n",
       "  \" fill=\"#ffffff\" fill-rule=\"evenodd\" fill-opacity=\"1\"/>\n",
       "<polyline clip-path=\"url(#clip982)\" style=\"stroke:#000000; stroke-linecap:butt; stroke-linejoin:round; stroke-width:2; stroke-opacity:0.1; fill:none\" points=\"\n",
       "  1525.98,1486.45 1525.98,47.2441 \n",
       "  \"/>\n",
       "<polyline clip-path=\"url(#clip982)\" style=\"stroke:#000000; stroke-linecap:butt; stroke-linejoin:round; stroke-width:2; stroke-opacity:0.1; fill:none\" points=\"\n",
       "  1783.04,1486.45 1783.04,47.2441 \n",
       "  \"/>\n",
       "<polyline clip-path=\"url(#clip982)\" style=\"stroke:#000000; stroke-linecap:butt; stroke-linejoin:round; stroke-width:2; stroke-opacity:0.1; fill:none\" points=\"\n",
       "  2040.1,1486.45 2040.1,47.2441 \n",
       "  \"/>\n",
       "<polyline clip-path=\"url(#clip982)\" style=\"stroke:#000000; stroke-linecap:butt; stroke-linejoin:round; stroke-width:2; stroke-opacity:0.1; fill:none\" points=\"\n",
       "  2297.15,1486.45 2297.15,47.2441 \n",
       "  \"/>\n",
       "<polyline clip-path=\"url(#clip980)\" style=\"stroke:#000000; stroke-linecap:butt; stroke-linejoin:round; stroke-width:4; stroke-opacity:1; fill:none\" points=\"\n",
       "  1341.85,1486.45 2352.76,1486.45 \n",
       "  \"/>\n",
       "<polyline clip-path=\"url(#clip980)\" style=\"stroke:#000000; stroke-linecap:butt; stroke-linejoin:round; stroke-width:4; stroke-opacity:1; fill:none\" points=\"\n",
       "  1525.98,1486.45 1525.98,1467.55 \n",
       "  \"/>\n",
       "<polyline clip-path=\"url(#clip980)\" style=\"stroke:#000000; stroke-linecap:butt; stroke-linejoin:round; stroke-width:4; stroke-opacity:1; fill:none\" points=\"\n",
       "  1783.04,1486.45 1783.04,1467.55 \n",
       "  \"/>\n",
       "<polyline clip-path=\"url(#clip980)\" style=\"stroke:#000000; stroke-linecap:butt; stroke-linejoin:round; stroke-width:4; stroke-opacity:1; fill:none\" points=\"\n",
       "  2040.1,1486.45 2040.1,1467.55 \n",
       "  \"/>\n",
       "<polyline clip-path=\"url(#clip980)\" style=\"stroke:#000000; stroke-linecap:butt; stroke-linejoin:round; stroke-width:4; stroke-opacity:1; fill:none\" points=\"\n",
       "  2297.15,1486.45 2297.15,1467.55 \n",
       "  \"/>\n",
       "<path clip-path=\"url(#clip980)\" d=\"M1505.55 1544.91 L1521.87 1544.91 L1521.87 1548.85 L1499.93 1548.85 L1499.93 1544.91 Q1502.59 1542.16 1507.18 1537.53 Q1511.78 1532.88 1512.96 1531.53 Q1515.21 1529.01 1516.09 1527.27 Q1516.99 1525.51 1516.99 1523.82 Q1516.99 1521.07 1515.05 1519.33 Q1513.12 1517.6 1510.02 1517.6 Q1507.82 1517.6 1505.37 1518.36 Q1502.94 1519.13 1500.16 1520.68 L1500.16 1515.95 Q1502.99 1514.82 1505.44 1514.24 Q1507.89 1513.66 1509.93 1513.66 Q1515.3 1513.66 1518.49 1516.35 Q1521.69 1519.03 1521.69 1523.52 Q1521.69 1525.65 1520.88 1527.57 Q1520.09 1529.47 1517.99 1532.07 Q1517.41 1532.74 1514.3 1535.95 Q1511.2 1539.15 1505.55 1544.91 Z\" fill=\"#000000\" fill-rule=\"evenodd\" fill-opacity=\"1\" /><path clip-path=\"url(#clip980)\" d=\"M1535.72 1544.91 L1552.04 1544.91 L1552.04 1548.85 L1530.09 1548.85 L1530.09 1544.91 Q1532.75 1542.16 1537.34 1537.53 Q1541.94 1532.88 1543.12 1531.53 Q1545.37 1529.01 1546.25 1527.27 Q1547.15 1525.51 1547.15 1523.82 Q1547.15 1521.07 1545.21 1519.33 Q1543.29 1517.6 1540.18 1517.6 Q1537.99 1517.6 1535.53 1518.36 Q1533.1 1519.13 1530.32 1520.68 L1530.32 1515.95 Q1533.15 1514.82 1535.6 1514.24 Q1538.05 1513.66 1540.09 1513.66 Q1545.46 1513.66 1548.66 1516.35 Q1551.85 1519.03 1551.85 1523.52 Q1551.85 1525.65 1551.04 1527.57 Q1550.25 1529.47 1548.15 1532.07 Q1547.57 1532.74 1544.47 1535.95 Q1541.36 1539.15 1535.72 1544.91 Z\" fill=\"#000000\" fill-rule=\"evenodd\" fill-opacity=\"1\" /><path clip-path=\"url(#clip980)\" d=\"M1761.57 1544.91 L1777.89 1544.91 L1777.89 1548.85 L1755.95 1548.85 L1755.95 1544.91 Q1758.61 1542.16 1763.19 1537.53 Q1767.8 1532.88 1768.98 1531.53 Q1771.22 1529.01 1772.1 1527.27 Q1773.01 1525.51 1773.01 1523.82 Q1773.01 1521.07 1771.06 1519.33 Q1769.14 1517.6 1766.04 1517.6 Q1763.84 1517.6 1761.39 1518.36 Q1758.95 1519.13 1756.18 1520.68 L1756.18 1515.95 Q1759 1514.82 1761.45 1514.24 Q1763.91 1513.66 1765.95 1513.66 Q1771.32 1513.66 1774.51 1516.35 Q1777.7 1519.03 1777.7 1523.52 Q1777.7 1525.65 1776.89 1527.57 Q1776.11 1529.47 1774 1532.07 Q1773.42 1532.74 1770.32 1535.95 Q1767.22 1539.15 1761.57 1544.91 Z\" fill=\"#000000\" fill-rule=\"evenodd\" fill-opacity=\"1\" /><path clip-path=\"url(#clip980)\" d=\"M1800.55 1518.36 L1788.75 1536.81 L1800.55 1536.81 L1800.55 1518.36 M1799.32 1514.29 L1805.2 1514.29 L1805.2 1536.81 L1810.13 1536.81 L1810.13 1540.7 L1805.2 1540.7 L1805.2 1548.85 L1800.55 1548.85 L1800.55 1540.7 L1784.95 1540.7 L1784.95 1536.19 L1799.32 1514.29 Z\" fill=\"#000000\" fill-rule=\"evenodd\" fill-opacity=\"1\" /><path clip-path=\"url(#clip980)\" d=\"M2018.79 1544.91 L2035.11 1544.91 L2035.11 1548.85 L2013.16 1548.85 L2013.16 1544.91 Q2015.83 1542.16 2020.41 1537.53 Q2025.02 1532.88 2026.2 1531.53 Q2028.44 1529.01 2029.32 1527.27 Q2030.22 1525.51 2030.22 1523.82 Q2030.22 1521.07 2028.28 1519.33 Q2026.36 1517.6 2023.26 1517.6 Q2021.06 1517.6 2018.6 1518.36 Q2016.17 1519.13 2013.4 1520.68 L2013.4 1515.95 Q2016.22 1514.82 2018.67 1514.24 Q2021.13 1513.66 2023.16 1513.66 Q2028.53 1513.66 2031.73 1516.35 Q2034.92 1519.03 2034.92 1523.52 Q2034.92 1525.65 2034.11 1527.57 Q2033.33 1529.47 2031.22 1532.07 Q2030.64 1532.74 2027.54 1535.95 Q2024.44 1539.15 2018.79 1544.91 Z\" fill=\"#000000\" fill-rule=\"evenodd\" fill-opacity=\"1\" /><path clip-path=\"url(#clip980)\" d=\"M2055.5 1529.7 Q2052.35 1529.7 2050.5 1531.86 Q2048.67 1534.01 2048.67 1537.76 Q2048.67 1541.49 2050.5 1543.66 Q2052.35 1545.82 2055.5 1545.82 Q2058.65 1545.82 2060.48 1543.66 Q2062.33 1541.49 2062.33 1537.76 Q2062.33 1534.01 2060.48 1531.86 Q2058.65 1529.7 2055.5 1529.7 M2064.78 1515.05 L2064.78 1519.31 Q2063.03 1518.48 2061.22 1518.04 Q2059.44 1517.6 2057.68 1517.6 Q2053.05 1517.6 2050.59 1520.72 Q2048.16 1523.85 2047.82 1530.17 Q2049.18 1528.15 2051.24 1527.09 Q2053.3 1526 2055.78 1526 Q2060.99 1526 2064 1529.17 Q2067.03 1532.32 2067.03 1537.76 Q2067.03 1543.08 2063.88 1546.3 Q2060.73 1549.52 2055.5 1549.52 Q2049.51 1549.52 2046.34 1544.94 Q2043.16 1540.33 2043.16 1531.6 Q2043.16 1523.41 2047.05 1518.55 Q2050.94 1513.66 2057.49 1513.66 Q2059.25 1513.66 2061.03 1514.01 Q2062.84 1514.36 2064.78 1515.05 Z\" fill=\"#000000\" fill-rule=\"evenodd\" fill-opacity=\"1\" /><path clip-path=\"url(#clip980)\" d=\"M2275.97 1544.91 L2292.29 1544.91 L2292.29 1548.85 L2270.35 1548.85 L2270.35 1544.91 Q2273.01 1542.16 2277.59 1537.53 Q2282.2 1532.88 2283.38 1531.53 Q2285.63 1529.01 2286.51 1527.27 Q2287.41 1525.51 2287.41 1523.82 Q2287.41 1521.07 2285.46 1519.33 Q2283.54 1517.6 2280.44 1517.6 Q2278.24 1517.6 2275.79 1518.36 Q2273.36 1519.13 2270.58 1520.68 L2270.58 1515.95 Q2273.4 1514.82 2275.86 1514.24 Q2278.31 1513.66 2280.35 1513.66 Q2285.72 1513.66 2288.91 1516.35 Q2292.11 1519.03 2292.11 1523.52 Q2292.11 1525.65 2291.3 1527.57 Q2290.51 1529.47 2288.4 1532.07 Q2287.83 1532.74 2284.72 1535.95 Q2281.62 1539.15 2275.97 1544.91 Z\" fill=\"#000000\" fill-rule=\"evenodd\" fill-opacity=\"1\" /><path clip-path=\"url(#clip980)\" d=\"M2312.11 1532.44 Q2308.77 1532.44 2306.85 1534.22 Q2304.96 1536 2304.96 1539.13 Q2304.96 1542.25 2306.85 1544.03 Q2308.77 1545.82 2312.11 1545.82 Q2315.44 1545.82 2317.36 1544.03 Q2319.28 1542.23 2319.28 1539.13 Q2319.28 1536 2317.36 1534.22 Q2315.46 1532.44 2312.11 1532.44 M2307.43 1530.45 Q2304.42 1529.7 2302.73 1527.64 Q2301.07 1525.58 2301.07 1522.62 Q2301.07 1518.48 2304.01 1516.07 Q2306.97 1513.66 2312.11 1513.66 Q2317.27 1513.66 2320.21 1516.07 Q2323.15 1518.48 2323.15 1522.62 Q2323.15 1525.58 2321.46 1527.64 Q2319.79 1529.7 2316.81 1530.45 Q2320.19 1531.23 2322.06 1533.52 Q2323.96 1535.82 2323.96 1539.13 Q2323.96 1544.15 2320.88 1546.83 Q2317.83 1549.52 2312.11 1549.52 Q2306.39 1549.52 2303.31 1546.83 Q2300.26 1544.15 2300.26 1539.13 Q2300.26 1535.82 2302.15 1533.52 Q2304.05 1531.23 2307.43 1530.45 M2305.72 1523.06 Q2305.72 1525.75 2307.39 1527.25 Q2309.08 1528.76 2312.11 1528.76 Q2315.12 1528.76 2316.81 1527.25 Q2318.52 1525.75 2318.52 1523.06 Q2318.52 1520.38 2316.81 1518.87 Q2315.12 1517.37 2312.11 1517.37 Q2309.08 1517.37 2307.39 1518.87 Q2305.72 1520.38 2305.72 1523.06 Z\" fill=\"#000000\" fill-rule=\"evenodd\" fill-opacity=\"1\" /><polyline clip-path=\"url(#clip982)\" style=\"stroke:#000000; stroke-linecap:butt; stroke-linejoin:round; stroke-width:2; stroke-opacity:0.1; fill:none\" points=\"\n",
       "  1341.85,1445.72 2352.76,1445.72 \n",
       "  \"/>\n",
       "<polyline clip-path=\"url(#clip982)\" style=\"stroke:#000000; stroke-linecap:butt; stroke-linejoin:round; stroke-width:2; stroke-opacity:0.1; fill:none\" points=\"\n",
       "  1341.85,1174.17 2352.76,1174.17 \n",
       "  \"/>\n",
       "<polyline clip-path=\"url(#clip982)\" style=\"stroke:#000000; stroke-linecap:butt; stroke-linejoin:round; stroke-width:2; stroke-opacity:0.1; fill:none\" points=\"\n",
       "  1341.85,902.62 2352.76,902.62 \n",
       "  \"/>\n",
       "<polyline clip-path=\"url(#clip982)\" style=\"stroke:#000000; stroke-linecap:butt; stroke-linejoin:round; stroke-width:2; stroke-opacity:0.1; fill:none\" points=\"\n",
       "  1341.85,631.072 2352.76,631.072 \n",
       "  \"/>\n",
       "<polyline clip-path=\"url(#clip982)\" style=\"stroke:#000000; stroke-linecap:butt; stroke-linejoin:round; stroke-width:2; stroke-opacity:0.1; fill:none\" points=\"\n",
       "  1341.85,359.524 2352.76,359.524 \n",
       "  \"/>\n",
       "<polyline clip-path=\"url(#clip982)\" style=\"stroke:#000000; stroke-linecap:butt; stroke-linejoin:round; stroke-width:2; stroke-opacity:0.1; fill:none\" points=\"\n",
       "  1341.85,87.9763 2352.76,87.9763 \n",
       "  \"/>\n",
       "<polyline clip-path=\"url(#clip980)\" style=\"stroke:#000000; stroke-linecap:butt; stroke-linejoin:round; stroke-width:4; stroke-opacity:1; fill:none\" points=\"\n",
       "  1341.85,1486.45 1341.85,47.2441 \n",
       "  \"/>\n",
       "<polyline clip-path=\"url(#clip980)\" style=\"stroke:#000000; stroke-linecap:butt; stroke-linejoin:round; stroke-width:4; stroke-opacity:1; fill:none\" points=\"\n",
       "  1341.85,1445.72 1360.75,1445.72 \n",
       "  \"/>\n",
       "<polyline clip-path=\"url(#clip980)\" style=\"stroke:#000000; stroke-linecap:butt; stroke-linejoin:round; stroke-width:4; stroke-opacity:1; fill:none\" points=\"\n",
       "  1341.85,1174.17 1360.75,1174.17 \n",
       "  \"/>\n",
       "<polyline clip-path=\"url(#clip980)\" style=\"stroke:#000000; stroke-linecap:butt; stroke-linejoin:round; stroke-width:4; stroke-opacity:1; fill:none\" points=\"\n",
       "  1341.85,902.62 1360.75,902.62 \n",
       "  \"/>\n",
       "<polyline clip-path=\"url(#clip980)\" style=\"stroke:#000000; stroke-linecap:butt; stroke-linejoin:round; stroke-width:4; stroke-opacity:1; fill:none\" points=\"\n",
       "  1341.85,631.072 1360.75,631.072 \n",
       "  \"/>\n",
       "<polyline clip-path=\"url(#clip980)\" style=\"stroke:#000000; stroke-linecap:butt; stroke-linejoin:round; stroke-width:4; stroke-opacity:1; fill:none\" points=\"\n",
       "  1341.85,359.524 1360.75,359.524 \n",
       "  \"/>\n",
       "<polyline clip-path=\"url(#clip980)\" style=\"stroke:#000000; stroke-linecap:butt; stroke-linejoin:round; stroke-width:4; stroke-opacity:1; fill:none\" points=\"\n",
       "  1341.85,87.9763 1360.75,87.9763 \n",
       "  \"/>\n",
       "<path clip-path=\"url(#clip980)\" d=\"M1293.91 1431.51 Q1290.3 1431.51 1288.47 1435.08 Q1286.66 1438.62 1286.66 1445.75 Q1286.66 1452.86 1288.47 1456.42 Q1290.3 1459.96 1293.91 1459.96 Q1297.54 1459.96 1299.35 1456.42 Q1301.18 1452.86 1301.18 1445.75 Q1301.18 1438.62 1299.35 1435.08 Q1297.54 1431.51 1293.91 1431.51 M1293.91 1427.81 Q1299.72 1427.81 1302.77 1432.42 Q1305.85 1437 1305.85 1445.75 Q1305.85 1454.48 1302.77 1459.08 Q1299.72 1463.67 1293.91 1463.67 Q1288.1 1463.67 1285.02 1459.08 Q1281.96 1454.48 1281.96 1445.75 Q1281.96 1437 1285.02 1432.42 Q1288.1 1427.81 1293.91 1427.81 Z\" fill=\"#000000\" fill-rule=\"evenodd\" fill-opacity=\"1\" /><path clip-path=\"url(#clip980)\" d=\"M1254.56 1187.51 L1262.2 1187.51 L1262.2 1161.15 L1253.89 1162.81 L1253.89 1158.55 L1262.15 1156.89 L1266.83 1156.89 L1266.83 1187.51 L1274.46 1187.51 L1274.46 1191.45 L1254.56 1191.45 L1254.56 1187.51 Z\" fill=\"#000000\" fill-rule=\"evenodd\" fill-opacity=\"1\" /><path clip-path=\"url(#clip980)\" d=\"M1293.91 1159.97 Q1290.3 1159.97 1288.47 1163.53 Q1286.66 1167.07 1286.66 1174.2 Q1286.66 1181.31 1288.47 1184.87 Q1290.3 1188.42 1293.91 1188.42 Q1297.54 1188.42 1299.35 1184.87 Q1301.18 1181.31 1301.18 1174.2 Q1301.18 1167.07 1299.35 1163.53 Q1297.54 1159.97 1293.91 1159.97 M1293.91 1156.26 Q1299.72 1156.26 1302.77 1160.87 Q1305.85 1165.45 1305.85 1174.2 Q1305.85 1182.93 1302.77 1187.54 Q1299.72 1192.12 1293.91 1192.12 Q1288.1 1192.12 1285.02 1187.54 Q1281.96 1182.93 1281.96 1174.2 Q1281.96 1165.45 1285.02 1160.87 Q1288.1 1156.26 1293.91 1156.26 Z\" fill=\"#000000\" fill-rule=\"evenodd\" fill-opacity=\"1\" /><path clip-path=\"url(#clip980)\" d=\"M1257.77 915.965 L1274.09 915.965 L1274.09 919.9 L1252.15 919.9 L1252.15 915.965 Q1254.81 913.21 1259.39 908.581 Q1264 903.928 1265.18 902.585 Q1267.43 900.062 1268.31 898.326 Q1269.21 896.567 1269.21 894.877 Q1269.21 892.122 1267.27 890.386 Q1265.34 888.65 1262.24 888.65 Q1260.04 888.65 1257.59 889.414 Q1255.16 890.178 1252.38 891.729 L1252.38 887.007 Q1255.21 885.872 1257.66 885.294 Q1260.11 884.715 1262.15 884.715 Q1267.52 884.715 1270.71 887.4 Q1273.91 890.085 1273.91 894.576 Q1273.91 896.706 1273.1 898.627 Q1272.31 900.525 1270.2 903.118 Q1269.63 903.789 1266.52 907.006 Q1263.42 910.201 1257.77 915.965 Z\" fill=\"#000000\" fill-rule=\"evenodd\" fill-opacity=\"1\" /><path clip-path=\"url(#clip980)\" d=\"M1293.91 888.419 Q1290.3 888.419 1288.47 891.983 Q1286.66 895.525 1286.66 902.655 Q1286.66 909.761 1288.47 913.326 Q1290.3 916.868 1293.91 916.868 Q1297.54 916.868 1299.35 913.326 Q1301.18 909.761 1301.18 902.655 Q1301.18 895.525 1299.35 891.983 Q1297.54 888.419 1293.91 888.419 M1293.91 884.715 Q1299.72 884.715 1302.77 889.321 Q1305.85 893.905 1305.85 902.655 Q1305.85 911.381 1302.77 915.988 Q1299.72 920.571 1293.91 920.571 Q1288.1 920.571 1285.02 915.988 Q1281.96 911.381 1281.96 902.655 Q1281.96 893.905 1285.02 889.321 Q1288.1 884.715 1293.91 884.715 Z\" fill=\"#000000\" fill-rule=\"evenodd\" fill-opacity=\"1\" /><path clip-path=\"url(#clip980)\" d=\"M1267.91 629.718 Q1271.27 630.435 1273.14 632.704 Q1275.04 634.972 1275.04 638.306 Q1275.04 643.422 1271.52 646.222 Q1268.01 649.023 1261.52 649.023 Q1259.35 649.023 1257.03 648.584 Q1254.74 648.167 1252.29 647.31 L1252.29 642.797 Q1254.23 643.931 1256.55 644.509 Q1258.86 645.088 1261.39 645.088 Q1265.78 645.088 1268.08 643.352 Q1270.39 641.616 1270.39 638.306 Q1270.39 635.25 1268.24 633.537 Q1266.11 631.801 1262.29 631.801 L1258.26 631.801 L1258.26 627.959 L1262.47 627.959 Q1265.92 627.959 1267.75 626.593 Q1269.58 625.204 1269.58 622.611 Q1269.58 619.949 1267.68 618.537 Q1265.81 617.102 1262.29 617.102 Q1260.37 617.102 1258.17 617.519 Q1255.97 617.936 1253.33 618.815 L1253.33 614.649 Q1255.99 613.908 1258.31 613.537 Q1260.64 613.167 1262.71 613.167 Q1268.03 613.167 1271.13 615.598 Q1274.23 618.005 1274.23 622.125 Q1274.23 624.996 1272.59 626.986 Q1270.95 628.954 1267.91 629.718 Z\" fill=\"#000000\" fill-rule=\"evenodd\" fill-opacity=\"1\" /><path clip-path=\"url(#clip980)\" d=\"M1293.91 616.871 Q1290.3 616.871 1288.47 620.436 Q1286.66 623.977 1286.66 631.107 Q1286.66 638.213 1288.47 641.778 Q1290.3 645.32 1293.91 645.32 Q1297.54 645.32 1299.35 641.778 Q1301.18 638.213 1301.18 631.107 Q1301.18 623.977 1299.35 620.436 Q1297.54 616.871 1293.91 616.871 M1293.91 613.167 Q1299.72 613.167 1302.77 617.774 Q1305.85 622.357 1305.85 631.107 Q1305.85 639.834 1302.77 644.44 Q1299.72 649.023 1293.91 649.023 Q1288.1 649.023 1285.02 644.44 Q1281.96 639.834 1281.96 631.107 Q1281.96 622.357 1285.02 617.774 Q1288.1 613.167 1293.91 613.167 Z\" fill=\"#000000\" fill-rule=\"evenodd\" fill-opacity=\"1\" /><path clip-path=\"url(#clip980)\" d=\"M1266.59 346.318 L1254.79 364.767 L1266.59 364.767 L1266.59 346.318 M1265.37 342.244 L1271.25 342.244 L1271.25 364.767 L1276.18 364.767 L1276.18 368.656 L1271.25 368.656 L1271.25 376.804 L1266.59 376.804 L1266.59 368.656 L1250.99 368.656 L1250.99 364.142 L1265.37 342.244 Z\" fill=\"#000000\" fill-rule=\"evenodd\" fill-opacity=\"1\" /><path clip-path=\"url(#clip980)\" d=\"M1293.91 345.323 Q1290.3 345.323 1288.47 348.888 Q1286.66 352.429 1286.66 359.559 Q1286.66 366.665 1288.47 370.23 Q1290.3 373.772 1293.91 373.772 Q1297.54 373.772 1299.35 370.23 Q1301.18 366.665 1301.18 359.559 Q1301.18 352.429 1299.35 348.888 Q1297.54 345.323 1293.91 345.323 M1293.91 341.619 Q1299.72 341.619 1302.77 346.226 Q1305.85 350.809 1305.85 359.559 Q1305.85 368.286 1302.77 372.892 Q1299.72 377.475 1293.91 377.475 Q1288.1 377.475 1285.02 372.892 Q1281.96 368.286 1281.96 359.559 Q1281.96 350.809 1285.02 346.226 Q1288.1 341.619 1293.91 341.619 Z\" fill=\"#000000\" fill-rule=\"evenodd\" fill-opacity=\"1\" /><path clip-path=\"url(#clip980)\" d=\"M1253.79 70.6963 L1272.15 70.6963 L1272.15 74.6314 L1258.08 74.6314 L1258.08 83.1036 Q1259.09 82.7564 1260.11 82.5944 Q1261.13 82.4092 1262.15 82.4092 Q1267.94 82.4092 1271.32 85.5805 Q1274.7 88.7517 1274.7 94.1684 Q1274.7 99.747 1271.22 102.849 Q1267.75 105.928 1261.43 105.928 Q1259.26 105.928 1256.99 105.557 Q1254.74 105.187 1252.33 104.446 L1252.33 99.747 Q1254.42 100.881 1256.64 101.437 Q1258.86 101.992 1261.34 101.992 Q1265.34 101.992 1267.68 99.8859 Q1270.02 97.7795 1270.02 94.1684 Q1270.02 90.5573 1267.68 88.4508 Q1265.34 86.3443 1261.34 86.3443 Q1259.46 86.3443 1257.59 86.761 Q1255.74 87.1777 1253.79 88.0573 L1253.79 70.6963 Z\" fill=\"#000000\" fill-rule=\"evenodd\" fill-opacity=\"1\" /><path clip-path=\"url(#clip980)\" d=\"M1293.91 73.775 Q1290.3 73.775 1288.47 77.3398 Q1286.66 80.8814 1286.66 88.011 Q1286.66 95.1174 1288.47 98.6822 Q1290.3 102.224 1293.91 102.224 Q1297.54 102.224 1299.35 98.6822 Q1301.18 95.1174 1301.18 88.011 Q1301.18 80.8814 1299.35 77.3398 Q1297.54 73.775 1293.91 73.775 M1293.91 70.0713 Q1299.72 70.0713 1302.77 74.6777 Q1305.85 79.261 1305.85 88.011 Q1305.85 96.7378 1302.77 101.344 Q1299.72 105.928 1293.91 105.928 Q1288.1 105.928 1285.02 101.344 Q1281.96 96.7378 1281.96 88.011 Q1281.96 79.261 1285.02 74.6777 Q1288.1 70.0713 1293.91 70.0713 Z\" fill=\"#000000\" fill-rule=\"evenodd\" fill-opacity=\"1\" /><path clip-path=\"url(#clip982)\" d=\"\n",
       "M1397.45 1364.25 L1397.45 1445.72 L1461.72 1445.72 L1461.72 1364.25 L1397.45 1364.25 L1397.45 1364.25  Z\n",
       "  \" fill=\"#009af9\" fill-rule=\"evenodd\" fill-opacity=\"1\"/>\n",
       "<polyline clip-path=\"url(#clip982)\" style=\"stroke:#000000; stroke-linecap:butt; stroke-linejoin:round; stroke-width:4; stroke-opacity:1; fill:none\" points=\"\n",
       "  1397.45,1364.25 1397.45,1445.72 1461.72,1445.72 1461.72,1364.25 1397.45,1364.25 \n",
       "  \"/>\n",
       "<path clip-path=\"url(#clip982)\" d=\"\n",
       "M1461.72 1255.63 L1461.72 1445.72 L1525.98 1445.72 L1525.98 1255.63 L1461.72 1255.63 L1461.72 1255.63  Z\n",
       "  \" fill=\"#009af9\" fill-rule=\"evenodd\" fill-opacity=\"1\"/>\n",
       "<polyline clip-path=\"url(#clip982)\" style=\"stroke:#000000; stroke-linecap:butt; stroke-linejoin:round; stroke-width:4; stroke-opacity:1; fill:none\" points=\"\n",
       "  1461.72,1255.63 1461.72,1445.72 1525.98,1445.72 1525.98,1255.63 1461.72,1255.63 \n",
       "  \"/>\n",
       "<path clip-path=\"url(#clip982)\" d=\"\n",
       "M1525.98 1065.55 L1525.98 1445.72 L1590.25 1445.72 L1590.25 1065.55 L1525.98 1065.55 L1525.98 1065.55  Z\n",
       "  \" fill=\"#009af9\" fill-rule=\"evenodd\" fill-opacity=\"1\"/>\n",
       "<polyline clip-path=\"url(#clip982)\" style=\"stroke:#000000; stroke-linecap:butt; stroke-linejoin:round; stroke-width:4; stroke-opacity:1; fill:none\" points=\"\n",
       "  1525.98,1065.55 1525.98,1445.72 1590.25,1445.72 1590.25,1065.55 1525.98,1065.55 \n",
       "  \"/>\n",
       "<path clip-path=\"url(#clip982)\" d=\"\n",
       "M1590.25 712.536 L1590.25 1445.72 L1654.51 1445.72 L1654.51 712.536 L1590.25 712.536 L1590.25 712.536  Z\n",
       "  \" fill=\"#009af9\" fill-rule=\"evenodd\" fill-opacity=\"1\"/>\n",
       "<polyline clip-path=\"url(#clip982)\" style=\"stroke:#000000; stroke-linecap:butt; stroke-linejoin:round; stroke-width:4; stroke-opacity:1; fill:none\" points=\"\n",
       "  1590.25,712.536 1590.25,1445.72 1654.51,1445.72 1654.51,712.536 1590.25,712.536 \n",
       "  \"/>\n",
       "<path clip-path=\"url(#clip982)\" d=\"\n",
       "M1654.51 305.215 L1654.51 1445.72 L1718.78 1445.72 L1718.78 305.215 L1654.51 305.215 L1654.51 305.215  Z\n",
       "  \" fill=\"#009af9\" fill-rule=\"evenodd\" fill-opacity=\"1\"/>\n",
       "<polyline clip-path=\"url(#clip982)\" style=\"stroke:#000000; stroke-linecap:butt; stroke-linejoin:round; stroke-width:4; stroke-opacity:1; fill:none\" points=\"\n",
       "  1654.51,305.215 1654.51,1445.72 1718.78,1445.72 1718.78,305.215 1654.51,305.215 \n",
       "  \"/>\n",
       "<path clip-path=\"url(#clip982)\" d=\"\n",
       "M1718.78 332.369 L1718.78 1445.72 L1783.04 1445.72 L1783.04 332.369 L1718.78 332.369 L1718.78 332.369  Z\n",
       "  \" fill=\"#009af9\" fill-rule=\"evenodd\" fill-opacity=\"1\"/>\n",
       "<polyline clip-path=\"url(#clip982)\" style=\"stroke:#000000; stroke-linecap:butt; stroke-linejoin:round; stroke-width:4; stroke-opacity:1; fill:none\" points=\"\n",
       "  1718.78,332.369 1718.78,1445.72 1783.04,1445.72 1783.04,332.369 1718.78,332.369 \n",
       "  \"/>\n",
       "<path clip-path=\"url(#clip982)\" d=\"\n",
       "M1783.04 87.9763 L1783.04 1445.72 L1847.3 1445.72 L1847.3 87.9763 L1783.04 87.9763 L1783.04 87.9763  Z\n",
       "  \" fill=\"#009af9\" fill-rule=\"evenodd\" fill-opacity=\"1\"/>\n",
       "<polyline clip-path=\"url(#clip982)\" style=\"stroke:#000000; stroke-linecap:butt; stroke-linejoin:round; stroke-width:4; stroke-opacity:1; fill:none\" points=\"\n",
       "  1783.04,87.9763 1783.04,1445.72 1847.3,1445.72 1847.3,87.9763 1783.04,87.9763 \n",
       "  \"/>\n",
       "<path clip-path=\"url(#clip982)\" d=\"\n",
       "M1847.3 305.215 L1847.3 1445.72 L1911.57 1445.72 L1911.57 305.215 L1847.3 305.215 L1847.3 305.215  Z\n",
       "  \" fill=\"#009af9\" fill-rule=\"evenodd\" fill-opacity=\"1\"/>\n",
       "<polyline clip-path=\"url(#clip982)\" style=\"stroke:#000000; stroke-linecap:butt; stroke-linejoin:round; stroke-width:4; stroke-opacity:1; fill:none\" points=\"\n",
       "  1847.3,305.215 1847.3,1445.72 1911.57,1445.72 1911.57,305.215 1847.3,305.215 \n",
       "  \"/>\n",
       "<path clip-path=\"url(#clip982)\" d=\"\n",
       "M1911.57 929.775 L1911.57 1445.72 L1975.83 1445.72 L1975.83 929.775 L1911.57 929.775 L1911.57 929.775  Z\n",
       "  \" fill=\"#009af9\" fill-rule=\"evenodd\" fill-opacity=\"1\"/>\n",
       "<polyline clip-path=\"url(#clip982)\" style=\"stroke:#000000; stroke-linecap:butt; stroke-linejoin:round; stroke-width:4; stroke-opacity:1; fill:none\" points=\"\n",
       "  1911.57,929.775 1911.57,1445.72 1975.83,1445.72 1975.83,929.775 1911.57,929.775 \n",
       "  \"/>\n",
       "<path clip-path=\"url(#clip982)\" d=\"\n",
       "M1975.83 902.62 L1975.83 1445.72 L2040.1 1445.72 L2040.1 902.62 L1975.83 902.62 L1975.83 902.62  Z\n",
       "  \" fill=\"#009af9\" fill-rule=\"evenodd\" fill-opacity=\"1\"/>\n",
       "<polyline clip-path=\"url(#clip982)\" style=\"stroke:#000000; stroke-linecap:butt; stroke-linejoin:round; stroke-width:4; stroke-opacity:1; fill:none\" points=\"\n",
       "  1975.83,902.62 1975.83,1445.72 2040.1,1445.72 2040.1,902.62 1975.83,902.62 \n",
       "  \"/>\n",
       "<path clip-path=\"url(#clip982)\" d=\"\n",
       "M2040.1 929.775 L2040.1 1445.72 L2104.36 1445.72 L2104.36 929.775 L2040.1 929.775 L2040.1 929.775  Z\n",
       "  \" fill=\"#009af9\" fill-rule=\"evenodd\" fill-opacity=\"1\"/>\n",
       "<polyline clip-path=\"url(#clip982)\" style=\"stroke:#000000; stroke-linecap:butt; stroke-linejoin:round; stroke-width:4; stroke-opacity:1; fill:none\" points=\"\n",
       "  2040.1,929.775 2040.1,1445.72 2104.36,1445.72 2104.36,929.775 2040.1,929.775 \n",
       "  \"/>\n",
       "<path clip-path=\"url(#clip982)\" d=\"\n",
       "M2104.36 1255.63 L2104.36 1445.72 L2168.63 1445.72 L2168.63 1255.63 L2104.36 1255.63 L2104.36 1255.63  Z\n",
       "  \" fill=\"#009af9\" fill-rule=\"evenodd\" fill-opacity=\"1\"/>\n",
       "<polyline clip-path=\"url(#clip982)\" style=\"stroke:#000000; stroke-linecap:butt; stroke-linejoin:round; stroke-width:4; stroke-opacity:1; fill:none\" points=\"\n",
       "  2104.36,1255.63 2104.36,1445.72 2168.63,1445.72 2168.63,1255.63 2104.36,1255.63 \n",
       "  \"/>\n",
       "<path clip-path=\"url(#clip982)\" d=\"\n",
       "M2168.63 1309.94 L2168.63 1445.72 L2232.89 1445.72 L2232.89 1309.94 L2168.63 1309.94 L2168.63 1309.94  Z\n",
       "  \" fill=\"#009af9\" fill-rule=\"evenodd\" fill-opacity=\"1\"/>\n",
       "<polyline clip-path=\"url(#clip982)\" style=\"stroke:#000000; stroke-linecap:butt; stroke-linejoin:round; stroke-width:4; stroke-opacity:1; fill:none\" points=\"\n",
       "  2168.63,1309.94 2168.63,1445.72 2232.89,1445.72 2232.89,1309.94 2168.63,1309.94 \n",
       "  \"/>\n",
       "<path clip-path=\"url(#clip982)\" d=\"\n",
       "M2232.89 1337.1 L2232.89 1445.72 L2297.15 1445.72 L2297.15 1337.1 L2232.89 1337.1 L2232.89 1337.1  Z\n",
       "  \" fill=\"#009af9\" fill-rule=\"evenodd\" fill-opacity=\"1\"/>\n",
       "<polyline clip-path=\"url(#clip982)\" style=\"stroke:#000000; stroke-linecap:butt; stroke-linejoin:round; stroke-width:4; stroke-opacity:1; fill:none\" points=\"\n",
       "  2232.89,1337.1 2232.89,1445.72 2297.15,1445.72 2297.15,1337.1 2232.89,1337.1 \n",
       "  \"/>\n",
       "<circle clip-path=\"url(#clip982)\" style=\"fill:#009af9; stroke:none; fill-opacity:0\" cx=\"1429.59\" cy=\"1364.25\" r=\"2\"/>\n",
       "<circle clip-path=\"url(#clip982)\" style=\"fill:#009af9; stroke:none; fill-opacity:0\" cx=\"1493.85\" cy=\"1255.63\" r=\"2\"/>\n",
       "<circle clip-path=\"url(#clip982)\" style=\"fill:#009af9; stroke:none; fill-opacity:0\" cx=\"1558.12\" cy=\"1065.55\" r=\"2\"/>\n",
       "<circle clip-path=\"url(#clip982)\" style=\"fill:#009af9; stroke:none; fill-opacity:0\" cx=\"1622.38\" cy=\"712.536\" r=\"2\"/>\n",
       "<circle clip-path=\"url(#clip982)\" style=\"fill:#009af9; stroke:none; fill-opacity:0\" cx=\"1686.64\" cy=\"305.215\" r=\"2\"/>\n",
       "<circle clip-path=\"url(#clip982)\" style=\"fill:#009af9; stroke:none; fill-opacity:0\" cx=\"1750.91\" cy=\"332.369\" r=\"2\"/>\n",
       "<circle clip-path=\"url(#clip982)\" style=\"fill:#009af9; stroke:none; fill-opacity:0\" cx=\"1815.17\" cy=\"87.9763\" r=\"2\"/>\n",
       "<circle clip-path=\"url(#clip982)\" style=\"fill:#009af9; stroke:none; fill-opacity:0\" cx=\"1879.44\" cy=\"305.215\" r=\"2\"/>\n",
       "<circle clip-path=\"url(#clip982)\" style=\"fill:#009af9; stroke:none; fill-opacity:0\" cx=\"1943.7\" cy=\"929.775\" r=\"2\"/>\n",
       "<circle clip-path=\"url(#clip982)\" style=\"fill:#009af9; stroke:none; fill-opacity:0\" cx=\"2007.97\" cy=\"902.62\" r=\"2\"/>\n",
       "<circle clip-path=\"url(#clip982)\" style=\"fill:#009af9; stroke:none; fill-opacity:0\" cx=\"2072.23\" cy=\"929.775\" r=\"2\"/>\n",
       "<circle clip-path=\"url(#clip982)\" style=\"fill:#009af9; stroke:none; fill-opacity:0\" cx=\"2136.49\" cy=\"1255.63\" r=\"2\"/>\n",
       "<circle clip-path=\"url(#clip982)\" style=\"fill:#009af9; stroke:none; fill-opacity:0\" cx=\"2200.76\" cy=\"1309.94\" r=\"2\"/>\n",
       "<circle clip-path=\"url(#clip982)\" style=\"fill:#009af9; stroke:none; fill-opacity:0\" cx=\"2265.02\" cy=\"1337.1\" r=\"2\"/>\n",
       "<path clip-path=\"url(#clip980)\" d=\"\n",
       "M2034.82 198.898 L2319.06 198.898 L2319.06 95.2176 L2034.82 95.2176  Z\n",
       "  \" fill=\"#ffffff\" fill-rule=\"evenodd\" fill-opacity=\"1\"/>\n",
       "<polyline clip-path=\"url(#clip980)\" style=\"stroke:#000000; stroke-linecap:butt; stroke-linejoin:round; stroke-width:4; stroke-opacity:1; fill:none\" points=\"\n",
       "  2034.82,198.898 2319.06,198.898 2319.06,95.2176 2034.82,95.2176 2034.82,198.898 \n",
       "  \"/>\n",
       "<path clip-path=\"url(#clip980)\" d=\"\n",
       "M2046.06 167.794 L2113.45 167.794 L2113.45 126.322 L2046.06 126.322 L2046.06 167.794  Z\n",
       "  \" fill=\"#009af9\" fill-rule=\"evenodd\" fill-opacity=\"1\"/>\n",
       "<polyline clip-path=\"url(#clip980)\" style=\"stroke:#000000; stroke-linecap:butt; stroke-linejoin:round; stroke-width:4; stroke-opacity:1; fill:none\" points=\"\n",
       "  2046.06,167.794 2113.45,167.794 2113.45,126.322 2046.06,126.322 2046.06,167.794 \n",
       "  \"/>\n",
       "<path clip-path=\"url(#clip980)\" d=\"M2129.36 126.373 L2129.36 139.359 L2135.24 139.359 Q2138.5 139.359 2140.28 137.669 Q2142.07 135.979 2142.07 132.854 Q2142.07 129.752 2140.28 128.062 Q2138.5 126.373 2135.24 126.373 L2129.36 126.373 M2124.68 122.53 L2135.24 122.53 Q2141.05 122.53 2144.01 125.169 Q2147 127.785 2147 132.854 Q2147 137.97 2144.01 140.585 Q2141.05 143.201 2135.24 143.201 L2129.36 143.201 L2129.36 157.09 L2124.68 157.09 L2124.68 122.53 Z\" fill=\"#000000\" fill-rule=\"evenodd\" fill-opacity=\"1\" /><path clip-path=\"url(#clip980)\" d=\"M2167.28 135.146 Q2166.56 134.729 2165.7 134.544 Q2164.87 134.336 2163.85 134.336 Q2160.24 134.336 2158.29 136.697 Q2156.37 139.035 2156.37 143.433 L2156.37 157.09 L2152.09 157.09 L2152.09 131.164 L2156.37 131.164 L2156.37 135.192 Q2157.72 132.831 2159.87 131.697 Q2162.02 130.539 2165.1 130.539 Q2165.54 130.539 2166.07 130.609 Q2166.6 130.655 2167.25 130.771 L2167.28 135.146 Z\" fill=\"#000000\" fill-rule=\"evenodd\" fill-opacity=\"1\" /><path clip-path=\"url(#clip980)\" d=\"M2192.88 143.062 L2192.88 145.146 L2173.29 145.146 Q2173.57 149.544 2175.93 151.859 Q2178.32 154.15 2182.55 154.15 Q2185.01 154.15 2187.3 153.548 Q2189.61 152.947 2191.88 151.743 L2191.88 155.771 Q2189.59 156.743 2187.18 157.252 Q2184.78 157.761 2182.3 157.761 Q2176.09 157.761 2172.46 154.15 Q2168.85 150.539 2168.85 144.382 Q2168.85 138.016 2172.28 134.289 Q2175.72 130.539 2181.56 130.539 Q2186.79 130.539 2189.82 133.919 Q2192.88 137.275 2192.88 143.062 M2188.62 141.812 Q2188.57 138.317 2186.65 136.234 Q2184.75 134.15 2181.6 134.15 Q2178.04 134.15 2175.89 136.164 Q2173.76 138.178 2173.43 141.835 L2188.62 141.812 Z\" fill=\"#000000\" fill-rule=\"evenodd\" fill-opacity=\"1\" /><path clip-path=\"url(#clip980)\" d=\"M2216.93 135.099 L2216.93 121.072 L2221.19 121.072 L2221.19 157.09 L2216.93 157.09 L2216.93 153.201 Q2215.59 155.516 2213.52 156.65 Q2211.49 157.761 2208.62 157.761 Q2203.92 157.761 2200.96 154.011 Q2198.02 150.261 2198.02 144.15 Q2198.02 138.039 2200.96 134.289 Q2203.92 130.539 2208.62 130.539 Q2211.49 130.539 2213.52 131.673 Q2215.59 132.785 2216.93 135.099 M2202.41 144.15 Q2202.41 148.849 2204.34 151.534 Q2206.28 154.197 2209.66 154.197 Q2213.04 154.197 2214.98 151.534 Q2216.93 148.849 2216.93 144.15 Q2216.93 139.451 2214.98 136.789 Q2213.04 134.104 2209.66 134.104 Q2206.28 134.104 2204.34 136.789 Q2202.41 139.451 2202.41 144.15 Z\" fill=\"#000000\" fill-rule=\"evenodd\" fill-opacity=\"1\" /><path clip-path=\"url(#clip980)\" d=\"M2230.56 151.21 L2235.45 151.21 L2235.45 157.09 L2230.56 157.09 L2230.56 151.21 Z\" fill=\"#000000\" fill-rule=\"evenodd\" fill-opacity=\"1\" /><path clip-path=\"url(#clip980)\" d=\"M2274.11 151.539 Q2274.3 151.75 2274.3 151.961 Q2274.3 152.171 2273.83 152.78 Q2273.39 153.389 2272.43 154.209 Q2271.46 155.029 2270.22 155.802 Q2268.98 156.575 2267.16 157.09 Q2265.33 157.629 2263.41 157.629 Q2259.82 157.629 2257.72 155.263 Q2255.63 152.897 2255.63 149.501 Q2255.63 146.199 2257.48 143.037 Q2259.33 139.851 2262.33 137.884 Q2265.33 135.893 2268.49 135.893 Q2271 135.893 2272.57 137.064 Q2274.13 138.235 2274.13 140.015 Q2274.13 141.397 2273.34 142.24 Q2272.54 143.083 2271.46 143.083 Q2270.72 143.083 2270.2 142.662 Q2269.68 142.217 2269.68 141.397 Q2269.68 140.343 2270.55 139.523 Q2270.88 139.195 2271.25 139.055 Q2271.65 138.891 2271.89 138.891 Q2272.12 138.867 2272.66 138.867 Q2272.17 137.954 2271 137.462 Q2269.85 136.947 2268.54 136.947 Q2266.59 136.947 2264.74 138.305 Q2262.89 139.64 2261.77 141.748 Q2260.64 143.809 2259.92 146.737 Q2259.19 149.642 2259.19 151.328 Q2259.19 153.647 2260.27 155.099 Q2261.35 156.551 2263.5 156.551 Q2263.92 156.551 2264.37 156.528 Q2264.84 156.504 2266.01 156.247 Q2267.2 155.989 2268.26 155.544 Q2269.31 155.099 2270.64 154.139 Q2272 153.155 2273.08 151.82 Q2273.46 151.328 2273.71 151.328 Q2273.92 151.328 2274.11 151.539 Z\" fill=\"#000000\" fill-rule=\"evenodd\" fill-opacity=\"1\" /><path clip-path=\"url(#clip980)\" d=\"M2291.6 161.985 Q2291.6 164.346 2290.4 166.658 Q2289.22 168.953 2287.32 170.396 Q2285.43 171.839 2283.5 171.839 Q2281.61 171.839 2280.42 170.396 Q2279.24 168.937 2279.24 166.559 Q2279.24 165.723 2279.33 165.133 Q2279.43 164.543 2279.78 163.165 L2282.53 152.213 Q2283.01 150.164 2283.01 150.147 Q2283.01 149.95 2282.92 149.852 Q2282.86 149.737 2282.47 149.655 Q2282.07 149.573 2281.32 149.573 Q2281.01 149.573 2280.86 149.557 Q2280.73 149.541 2280.61 149.459 Q2280.51 149.36 2280.51 149.163 Q2280.51 148.885 2280.63 148.737 Q2280.76 148.573 2280.86 148.54 Q2280.96 148.508 2281.15 148.491 Q2281.43 148.475 2282.37 148.393 Q2283.3 148.294 2284.11 148.229 Q2284.91 148.163 2285.25 148.163 Q2285.45 148.163 2285.55 148.262 Q2285.66 148.344 2285.66 148.442 L2285.68 148.524 L2283.2 158.64 Q2285.15 156.623 2287.14 156.623 Q2289.12 156.623 2290.35 158.148 Q2291.6 159.673 2291.6 161.985 M2289.17 160.509 Q2289.17 158.952 2288.58 158.165 Q2288.01 157.361 2287.06 157.361 Q2286.25 157.361 2285.2 157.968 Q2284.15 158.575 2283.04 160.05 Q2282.83 160.329 2282.74 160.493 Q2282.68 160.657 2282.53 161.214 L2281.79 164.313 Q2281.25 166.428 2281.25 167.707 Q2281.25 169.445 2281.89 170.265 Q2282.53 171.084 2283.5 171.084 Q2284.51 171.084 2285.58 170.183 Q2286.65 169.281 2287.47 167.641 Q2287.97 166.559 2288.56 164.231 Q2289.17 161.886 2289.17 160.509 Z\" fill=\"#000000\" fill-rule=\"evenodd\" fill-opacity=\"1\" /></svg>\n"
      ]
     },
     "metadata": {},
     "output_type": "display_data"
    }
   ],
   "source": [
    "using Plots, LaTeXStrings\n",
    "plot(histogram(df.c_k[.!df.is_B], label=L\"Pred. $c_a$\", bins=30), histogram(df.c_k[df.is_B], label=L\"Pred. $c_b$\", bins=30))"
   ]
  },
  {
   "cell_type": "markdown",
   "id": "ce2f2d3b-cd1b-4e0c-9ecd-165feee318a9",
   "metadata": {
    "slideshow": {
     "slide_type": "slide"
    },
    "tags": []
   },
   "source": [
    "## Lerner index\n",
    "We are now ready to calculate the average Lerner index per firm"
   ]
  },
  {
   "cell_type": "code",
   "execution_count": 13,
   "id": "d3429a2d-526b-4552-b615-f32f6a49a01a",
   "metadata": {},
   "outputs": [
    {
     "data": {
      "text/plain": [
       "0.2785174838631413"
      ]
     },
     "metadata": {},
     "output_type": "display_data"
    }
   ],
   "source": [
    "df.lerner_k = (df.p_k - df.c_k) ./ df.p_k;\n",
    "# Firm A\n",
    "sum(df.lerner_k[.!df.is_B])./(N/2)"
   ]
  },
  {
   "cell_type": "code",
   "execution_count": 14,
   "id": "c69ee39c-ffca-40bf-bf87-efc9f0407382",
   "metadata": {},
   "outputs": [
    {
     "data": {
      "text/plain": [
       "0.2818733881583978"
      ]
     },
     "metadata": {},
     "output_type": "display_data"
    }
   ],
   "source": [
    "# Firm B\n",
    "sum(df.lerner_k[df.is_B])./(N/2)"
   ]
  },
  {
   "cell_type": "markdown",
   "id": "1849a133-04e1-4006-b289-4268d239b0d6",
   "metadata": {},
   "source": [
    "So about 28% of the price is due to market power\n",
    "- Firm B has slightly higher market power due to its perceived higher quality ($\\beta_1 = 0.37 > 0$)"
   ]
  }
 ],
 "metadata": {
  "kernelspec": {
   "display_name": "Julia 1.7.1",
   "language": "julia",
   "name": "julia-1.7"
  },
  "language_info": {
   "file_extension": ".jl",
   "mimetype": "application/julia",
   "name": "julia",
   "version": "1.7.1"
  }
 },
 "nbformat": 4,
 "nbformat_minor": 5
}
